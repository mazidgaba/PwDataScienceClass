{
 "cells": [
  {
   "cell_type": "code",
   "execution_count": 3,
   "id": "2ab4361c-6726-49c1-9cb8-59035efb32e3",
   "metadata": {},
   "outputs": [],
   "source": [
    "def test():\n",
    "    print(\"this is the start of my function\")\n",
    "    print(\"thid is the end of my function\")\n",
    "    print(4 +7)\n",
    "    print(\"thios is my function to test\")"
   ]
  },
  {
   "cell_type": "code",
   "execution_count": 4,
   "id": "e0f5041a-beb6-48de-aa81-90387e122ef1",
   "metadata": {},
   "outputs": [
    {
     "name": "stdout",
     "output_type": "stream",
     "text": [
      "this is the start of my function\n",
      "thid is the end of my function\n",
      "11\n",
      "thios is my function to test\n"
     ]
    }
   ],
   "source": [
    "test()"
   ]
  },
  {
   "cell_type": "code",
   "execution_count": 11,
   "id": "1e8b2671-baed-4e70-aee3-c297a4318b74",
   "metadata": {},
   "outputs": [],
   "source": [
    "def deco(func):\n",
    "    def inner_deco():\n",
    "        print(\"this is the start of my function\")\n",
    "        func()\n",
    "        print(\"thid is the end of my function\")\n",
    "    return inner_deco\n"
   ]
  },
  {
   "cell_type": "code",
   "execution_count": 12,
   "id": "693d5fe6-c61a-4e7f-a4be-77d847e48774",
   "metadata": {},
   "outputs": [],
   "source": [
    "@deco\n",
    "def test1():\n",
    "    print(6+9)"
   ]
  },
  {
   "cell_type": "code",
   "execution_count": 13,
   "id": "341cf4be-e6a4-491a-ba02-8979ba678c0f",
   "metadata": {},
   "outputs": [
    {
     "name": "stdout",
     "output_type": "stream",
     "text": [
      "this is the start of my function\n",
      "15\n",
      "thid is the end of my function\n"
     ]
    }
   ],
   "source": [
    "test1()"
   ]
  },
  {
   "cell_type": "code",
   "execution_count": 14,
   "id": "5e76a479-7930-43f8-a407-0abd3cfbcfd8",
   "metadata": {},
   "outputs": [],
   "source": [
    "import time \n",
    "def timmer_test(func):\n",
    "    def timmer_test_inner():\n",
    "        start = time.time()\n",
    "        func()\n",
    "        end = time.time()\n",
    "        print(end- start)\n",
    "    return timmer_test_inner"
   ]
  },
  {
   "cell_type": "code",
   "execution_count": 15,
   "id": "03f2b761-1328-497c-b3ec-38c38b53ab7f",
   "metadata": {},
   "outputs": [],
   "source": [
    "def test2():\n",
    "    print(342+533)"
   ]
  },
  {
   "cell_type": "code",
   "execution_count": 16,
   "id": "849cc4c9-13a2-4dfe-86f0-9448cb5f5c3e",
   "metadata": {},
   "outputs": [
    {
     "name": "stdout",
     "output_type": "stream",
     "text": [
      "875\n"
     ]
    }
   ],
   "source": [
    "test2()"
   ]
  },
  {
   "cell_type": "code",
   "execution_count": 17,
   "id": "5783c14e-3cc6-4cc3-9020-dd05d8e4592c",
   "metadata": {},
   "outputs": [],
   "source": [
    "@timmer_test\n",
    "def test2():\n",
    "    print(342+533)"
   ]
  },
  {
   "cell_type": "code",
   "execution_count": 18,
   "id": "c7d2e072-eb4b-449a-b204-654646f63bed",
   "metadata": {},
   "outputs": [
    {
     "name": "stdout",
     "output_type": "stream",
     "text": [
      "875\n",
      "5.698204040527344e-05\n"
     ]
    }
   ],
   "source": [
    "test2()"
   ]
  },
  {
   "cell_type": "code",
   "execution_count": 32,
   "id": "9a38f842-d805-460c-a6ff-9b6ced9c7258",
   "metadata": {},
   "outputs": [
    {
     "name": "stdout",
     "output_type": "stream",
     "text": [
      "Loop completed in 2.597989082336426 seconds\n"
     ]
    }
   ],
   "source": [
    "import time\n",
    "\n",
    "def test3():\n",
    "    start = time.time()  # Start the timer\n",
    "    for i in range(100000000):\n",
    "        pass\n",
    "    end = time.time()  # End the timer\n",
    "    print(f\"Loop completed in {end - start} seconds\")\n",
    "\n",
    "test3()\n"
   ]
  },
  {
   "cell_type": "code",
   "execution_count": 33,
   "id": "207b721c-8bed-465b-8769-d84b04d1450d",
   "metadata": {},
   "outputs": [
    {
     "name": "stdout",
     "output_type": "stream",
     "text": [
      "Loop completed in 3.0102314949035645 seconds\n"
     ]
    }
   ],
   "source": [
    "test3()\n"
   ]
  },
  {
   "cell_type": "code",
   "execution_count": null,
   "id": "458d3a6e-84de-4476-ad18-cebc25eab274",
   "metadata": {},
   "outputs": [],
   "source": []
  },
  {
   "cell_type": "code",
   "execution_count": null,
   "id": "ce682dd7-d174-4030-b98f-2ef69ce70584",
   "metadata": {},
   "outputs": [],
   "source": []
  }
 ],
 "metadata": {
  "kernelspec": {
   "display_name": "Python 3 (ipykernel)",
   "language": "python",
   "name": "python3"
  },
  "language_info": {
   "codemirror_mode": {
    "name": "ipython",
    "version": 3
   },
   "file_extension": ".py",
   "mimetype": "text/x-python",
   "name": "python",
   "nbconvert_exporter": "python",
   "pygments_lexer": "ipython3",
   "version": "3.10.8"
  }
 },
 "nbformat": 4,
 "nbformat_minor": 5
}
