{
 "cells": [
  {
   "cell_type": "code",
   "execution_count": 3,
   "id": "8f7ed29d-cf53-4be5-a618-7c8eeb3e7fc7",
   "metadata": {},
   "outputs": [],
   "source": [
    "class test:\n",
    "    def test_meth(self):\n",
    "        return \" This my first class\"\n",
    "    "
   ]
  },
  {
   "cell_type": "code",
   "execution_count": 4,
   "id": "8efa1694-9b73-4217-b7cb-a3b013e903ca",
   "metadata": {},
   "outputs": [],
   "source": [
    "class child_test(test):\n",
    "    pass"
   ]
  },
  {
   "cell_type": "code",
   "execution_count": 5,
   "id": "d9324fe0-cf74-4452-b7bd-9cf628a5b995",
   "metadata": {},
   "outputs": [],
   "source": [
    "child_test_obj = child_test()"
   ]
  },
  {
   "cell_type": "code",
   "execution_count": 6,
   "id": "518cf2c1-4a9c-41aa-83cc-1595e8c08f4e",
   "metadata": {},
   "outputs": [
    {
     "data": {
      "text/plain": [
       "' This my first class'"
      ]
     },
     "execution_count": 6,
     "metadata": {},
     "output_type": "execute_result"
    }
   ],
   "source": [
    "child_test_obj.test_meth()"
   ]
  },
  {
   "cell_type": "code",
   "execution_count": 9,
   "id": "63d06731-6275-4490-bd10-5db695ee61d0",
   "metadata": {},
   "outputs": [],
   "source": [
    "class class1:\n",
    "    def test_class1 (self):\n",
    "        return \"this is a method from class1\""
   ]
  },
  {
   "cell_type": "code",
   "execution_count": 11,
   "id": "f430ce4e-f38f-4a56-97b8-4d6beccb7ca0",
   "metadata": {},
   "outputs": [],
   "source": [
    "class class2 (class1):\n",
    "    def test_class2(self):\n",
    "        return \"this is method from class 2\""
   ]
  },
  {
   "cell_type": "code",
   "execution_count": 12,
   "id": "32274664-1d94-4687-942b-b03ed1a4e24b",
   "metadata": {},
   "outputs": [],
   "source": [
    "class class3 (class2):\n",
    "    pass"
   ]
  },
  {
   "cell_type": "code",
   "execution_count": 13,
   "id": "a2be9ebf-9bc7-488b-a63f-6635c56ffd93",
   "metadata": {},
   "outputs": [],
   "source": [
    "obj_class3 = class3()"
   ]
  },
  {
   "cell_type": "code",
   "execution_count": 14,
   "id": "ad079fc5-43e4-4677-8156-775f6ad71ccc",
   "metadata": {},
   "outputs": [
    {
     "data": {
      "text/plain": [
       "'this is a method from class1'"
      ]
     },
     "execution_count": 14,
     "metadata": {},
     "output_type": "execute_result"
    }
   ],
   "source": [
    "obj_class3.test_class1()"
   ]
  },
  {
   "cell_type": "code",
   "execution_count": 15,
   "id": "caef850e-9760-4753-8563-bd2d3638b854",
   "metadata": {},
   "outputs": [
    {
     "data": {
      "text/plain": [
       "'this is method from class 2'"
      ]
     },
     "execution_count": 15,
     "metadata": {},
     "output_type": "execute_result"
    }
   ],
   "source": [
    "obj_class3.test_class2()"
   ]
  },
  {
   "cell_type": "code",
   "execution_count": 25,
   "id": "26062336-cdab-459e-bf1f-404fe62c0476",
   "metadata": {},
   "outputs": [],
   "source": [
    "class class1:\n",
    "    def test_class1(self):\n",
    "        return \"this is a class 1\""
   ]
  },
  {
   "cell_type": "code",
   "execution_count": 26,
   "id": "3a5a5bf0-2955-481a-8b52-45f063ad9dbf",
   "metadata": {},
   "outputs": [],
   "source": [
    "class class2:\n",
    "    def test_class2(self):\n",
    "        return \"this is class 2\"\n",
    "    "
   ]
  },
  {
   "cell_type": "code",
   "execution_count": 27,
   "id": "f40584dd-9d8d-4289-9b46-29453195b5e4",
   "metadata": {},
   "outputs": [],
   "source": [
    "class class3(class1, class2):\n",
    "    pass"
   ]
  },
  {
   "cell_type": "code",
   "execution_count": 28,
   "id": "1f20b35b-58ea-48f2-9f5b-49d574fb7250",
   "metadata": {},
   "outputs": [],
   "source": [
    "obj_class = class3()"
   ]
  },
  {
   "cell_type": "code",
   "execution_count": 29,
   "id": "3bf34671-1b99-443c-b131-90494c706c51",
   "metadata": {},
   "outputs": [
    {
     "data": {
      "text/plain": [
       "'this is class 2'"
      ]
     },
     "execution_count": 29,
     "metadata": {},
     "output_type": "execute_result"
    }
   ],
   "source": [
    "obj_class.test_class2()"
   ]
  },
  {
   "cell_type": "code",
   "execution_count": 30,
   "id": "9f5b8429-58b6-4355-b29b-826de38e4bcc",
   "metadata": {},
   "outputs": [
    {
     "data": {
      "text/plain": [
       "'this is a class 1'"
      ]
     },
     "execution_count": 30,
     "metadata": {},
     "output_type": "execute_result"
    }
   ],
   "source": [
    "obj_class.test_class1()"
   ]
  },
  {
   "cell_type": "code",
   "execution_count": null,
   "id": "ca01e45d-31b5-4914-a0f2-51e1f7fb998a",
   "metadata": {},
   "outputs": [],
   "source": []
  }
 ],
 "metadata": {
  "kernelspec": {
   "display_name": "Python 3 (ipykernel)",
   "language": "python",
   "name": "python3"
  },
  "language_info": {
   "codemirror_mode": {
    "name": "ipython",
    "version": 3
   },
   "file_extension": ".py",
   "mimetype": "text/x-python",
   "name": "python",
   "nbconvert_exporter": "python",
   "pygments_lexer": "ipython3",
   "version": "3.10.8"
  }
 },
 "nbformat": 4,
 "nbformat_minor": 5
}
