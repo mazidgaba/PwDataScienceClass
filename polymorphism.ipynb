{
 "cells": [
  {
   "cell_type": "code",
   "execution_count": 1,
   "id": "0fb39adc-ad3d-4175-a346-5e714fffeaa3",
   "metadata": {},
   "outputs": [],
   "source": [
    "def test(a,b):\n",
    "    return a+b"
   ]
  },
  {
   "cell_type": "code",
   "execution_count": 2,
   "id": "5d25a45c-2bc6-42d9-8abf-acd27283988e",
   "metadata": {},
   "outputs": [
    {
     "data": {
      "text/plain": [
       "6"
      ]
     },
     "execution_count": 2,
     "metadata": {},
     "output_type": "execute_result"
    }
   ],
   "source": [
    "test (2,4)"
   ]
  },
  {
   "cell_type": "code",
   "execution_count": 3,
   "id": "8eac44b2-e5e6-4fae-b445-dae6614d9260",
   "metadata": {},
   "outputs": [
    {
     "data": {
      "text/plain": [
       "'mazidgaba'"
      ]
     },
     "execution_count": 3,
     "metadata": {},
     "output_type": "execute_result"
    }
   ],
   "source": [
    "test(\"mazid\", \"gaba\")"
   ]
  },
  {
   "cell_type": "code",
   "execution_count": 4,
   "id": "06e76c75-059d-41b3-9278-1961bf8b5d1b",
   "metadata": {},
   "outputs": [
    {
     "data": {
      "text/plain": [
       "[4, 546, 6, 64, 73, 4, 5, 35, 73]"
      ]
     },
     "execution_count": 4,
     "metadata": {},
     "output_type": "execute_result"
    }
   ],
   "source": [
    "test([4,546,6,64,73],[4,5,35,73])"
   ]
  },
  {
   "cell_type": "code",
   "execution_count": 19,
   "id": "88db22b7-893f-4b18-9795-1f5bcd77f5b6",
   "metadata": {},
   "outputs": [],
   "source": [
    "class data_science:\n",
    "    def syllabus(self):\n",
    "        print(\"This is my syllubus for Data Science\")"
   ]
  },
  {
   "cell_type": "code",
   "execution_count": 20,
   "id": "5ba4e5ea-a97c-4b7a-b791-c7a487a1c721",
   "metadata": {},
   "outputs": [],
   "source": [
    "class web_dev:\n",
    "    def syllabus(self):\n",
    "        print(\"this id my syllubus for web dev\")"
   ]
  },
  {
   "cell_type": "code",
   "execution_count": 22,
   "id": "c9923d81-36ef-4c3f-afa3-ec1fb2276752",
   "metadata": {},
   "outputs": [],
   "source": [
    "def class_parcer(class_obj):\n",
    "    for i in class_obj:\n",
    "        i.syllabus()"
   ]
  },
  {
   "cell_type": "code",
   "execution_count": 23,
   "id": "570c2413-1551-4188-9f57-02b42e1390f8",
   "metadata": {},
   "outputs": [],
   "source": [
    "data_science = data_science()"
   ]
  },
  {
   "cell_type": "code",
   "execution_count": 24,
   "id": "7df94520-6a76-4994-8239-12bd0bb38dbd",
   "metadata": {},
   "outputs": [],
   "source": [
    "web_dev = web_dev()"
   ]
  },
  {
   "cell_type": "code",
   "execution_count": 25,
   "id": "64bcbda4-65a8-4c2f-86fa-b14aa3d93f87",
   "metadata": {},
   "outputs": [],
   "source": [
    "class_obj = [data_science, web_dev]"
   ]
  },
  {
   "cell_type": "code",
   "execution_count": 26,
   "id": "4ea4c8a1-d97c-4329-8d09-35ef38dcd9e3",
   "metadata": {},
   "outputs": [
    {
     "name": "stdout",
     "output_type": "stream",
     "text": [
      "This is my syllubus for Data Science\n",
      "this id my syllubus for web dev\n"
     ]
    }
   ],
   "source": [
    "class_parcer(class_obj)"
   ]
  },
  {
   "cell_type": "code",
   "execution_count": null,
   "id": "0eac5259-e143-4c9c-92f2-e09af10210d8",
   "metadata": {},
   "outputs": [],
   "source": []
  },
  {
   "cell_type": "code",
   "execution_count": null,
   "id": "3a829019-19e9-4cf9-806f-403a289842a5",
   "metadata": {},
   "outputs": [],
   "source": []
  }
 ],
 "metadata": {
  "kernelspec": {
   "display_name": "Python 3 (ipykernel)",
   "language": "python",
   "name": "python3"
  },
  "language_info": {
   "codemirror_mode": {
    "name": "ipython",
    "version": 3
   },
   "file_extension": ".py",
   "mimetype": "text/x-python",
   "name": "python",
   "nbconvert_exporter": "python",
   "pygments_lexer": "ipython3",
   "version": "3.10.8"
  }
 },
 "nbformat": 4,
 "nbformat_minor": 5
}
