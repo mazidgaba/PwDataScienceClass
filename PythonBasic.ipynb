{
 "cells": [
  {
   "cell_type": "code",
   "execution_count": 2,
   "id": "dd80ced7-d051-48bc-9b59-5a8fbd99a540",
   "metadata": {},
   "outputs": [
    {
     "data": {
      "text/plain": [
       "9"
      ]
     },
     "execution_count": 2,
     "metadata": {},
     "output_type": "execute_result"
    }
   ],
   "source": [
    "4+5"
   ]
  },
  {
   "cell_type": "code",
   "execution_count": 3,
   "id": "4e23d479-3a1e-4854-a7e2-a45c73a03f48",
   "metadata": {},
   "outputs": [],
   "source": [
    "a = 4"
   ]
  },
  {
   "cell_type": "code",
   "execution_count": 4,
   "id": "f6ad5872-0641-461e-a963-59ade1f8ee73",
   "metadata": {},
   "outputs": [],
   "source": [
    "g =a+3"
   ]
  },
  {
   "cell_type": "code",
   "execution_count": 5,
   "id": "89de9984-507a-44ca-b596-dc991806604d",
   "metadata": {},
   "outputs": [
    {
     "data": {
      "text/plain": [
       "7"
      ]
     },
     "execution_count": 5,
     "metadata": {},
     "output_type": "execute_result"
    }
   ],
   "source": [
    "g"
   ]
  },
  {
   "cell_type": "code",
   "execution_count": 6,
   "id": "d5381fd2-66a1-4d9d-a0d4-fc27e815746e",
   "metadata": {},
   "outputs": [],
   "source": [
    "Mazid = 786"
   ]
  },
  {
   "cell_type": "code",
   "execution_count": 7,
   "id": "62f09f56-661d-46bf-a2e8-ac0612ffbf31",
   "metadata": {},
   "outputs": [
    {
     "data": {
      "text/plain": [
       "790"
      ]
     },
     "execution_count": 7,
     "metadata": {},
     "output_type": "execute_result"
    }
   ],
   "source": [
    "a + Mazid"
   ]
  },
  {
   "cell_type": "code",
   "execution_count": 8,
   "id": "bb5b14b1-1a47-40de-996e-8e9eb0b1e171",
   "metadata": {},
   "outputs": [
    {
     "data": {
      "text/plain": [
       "int"
      ]
     },
     "execution_count": 8,
     "metadata": {},
     "output_type": "execute_result"
    }
   ],
   "source": [
    "type(Mazid)"
   ]
  },
  {
   "cell_type": "code",
   "execution_count": 9,
   "id": "1dcfab6c-c7a8-4bbf-8d85-801d8082a32a",
   "metadata": {},
   "outputs": [
    {
     "data": {
      "text/plain": [
       "int"
      ]
     },
     "execution_count": 9,
     "metadata": {},
     "output_type": "execute_result"
    }
   ],
   "source": [
    "type(a)"
   ]
  },
  {
   "cell_type": "code",
   "execution_count": 10,
   "id": "259828e2-2823-405b-aa3c-9e3b43d85cc4",
   "metadata": {},
   "outputs": [
    {
     "data": {
      "text/plain": [
       "int"
      ]
     },
     "execution_count": 10,
     "metadata": {},
     "output_type": "execute_result"
    }
   ],
   "source": [
    "type(g)"
   ]
  },
  {
   "cell_type": "code",
   "execution_count": 11,
   "id": "54c4d01a-8354-490d-9cf5-2bfe9ea6c39d",
   "metadata": {},
   "outputs": [],
   "source": [
    "ds= 90.090"
   ]
  },
  {
   "cell_type": "code",
   "execution_count": 12,
   "id": "ff591cb7-23fd-4eea-8f2a-1ce4c795992f",
   "metadata": {},
   "outputs": [
    {
     "data": {
      "text/plain": [
       "float"
      ]
     },
     "execution_count": 12,
     "metadata": {},
     "output_type": "execute_result"
    }
   ],
   "source": [
    "type(ds)"
   ]
  },
  {
   "cell_type": "code",
   "execution_count": 13,
   "id": "6878b78e-635c-41cc-95f3-16a87cfe27cb",
   "metadata": {},
   "outputs": [],
   "source": [
    "GM = \"Mazid\""
   ]
  },
  {
   "cell_type": "code",
   "execution_count": 14,
   "id": "2808bdc7-c50c-47f7-b576-b0ed5b7d406b",
   "metadata": {},
   "outputs": [
    {
     "data": {
      "text/plain": [
       "str"
      ]
     },
     "execution_count": 14,
     "metadata": {},
     "output_type": "execute_result"
    }
   ],
   "source": [
    "type(GM)"
   ]
  },
  {
   "cell_type": "code",
   "execution_count": 15,
   "id": "991dc84b-9990-465f-981f-bb9d0be54bcc",
   "metadata": {},
   "outputs": [
    {
     "ename": "SyntaxError",
     "evalue": "invalid syntax (422958727.py, line 1)",
     "output_type": "error",
     "traceback": [
      "\u001b[0;36m  Cell \u001b[0;32mIn[15], line 1\u001b[0;36m\u001b[0m\n\u001b[0;31m    as = true\u001b[0m\n\u001b[0m    ^\u001b[0m\n\u001b[0;31mSyntaxError\u001b[0m\u001b[0;31m:\u001b[0m invalid syntax\n"
     ]
    }
   ],
   "source": [
    "as = true"
   ]
  },
  {
   "cell_type": "code",
   "execution_count": 16,
   "id": "e4c065cd-ce44-4abb-96a4-484b25ccab87",
   "metadata": {},
   "outputs": [
    {
     "ename": "NameError",
     "evalue": "name 'true' is not defined",
     "output_type": "error",
     "traceback": [
      "\u001b[0;31m---------------------------------------------------------------------------\u001b[0m",
      "\u001b[0;31mNameError\u001b[0m                                 Traceback (most recent call last)",
      "Cell \u001b[0;32mIn[16], line 1\u001b[0m\n\u001b[0;32m----> 1\u001b[0m a \u001b[38;5;241m=\u001b[39m \u001b[43mtrue\u001b[49m\n",
      "\u001b[0;31mNameError\u001b[0m: name 'true' is not defined"
     ]
    }
   ],
   "source": [
    "a = true"
   ]
  },
  {
   "cell_type": "code",
   "execution_count": 17,
   "id": "43531b9b-2935-4bc9-b4ab-59ff4623518a",
   "metadata": {},
   "outputs": [],
   "source": [
    "m = True"
   ]
  },
  {
   "cell_type": "code",
   "execution_count": 18,
   "id": "3282dc74-70be-47cd-8b05-7317cd396ddb",
   "metadata": {},
   "outputs": [],
   "source": [
    "n = False"
   ]
  },
  {
   "cell_type": "code",
   "execution_count": 19,
   "id": "ebf2b1ac-1e4c-41db-bfd1-8dd63bc346ea",
   "metadata": {},
   "outputs": [
    {
     "data": {
      "text/plain": [
       "bool"
      ]
     },
     "execution_count": 19,
     "metadata": {},
     "output_type": "execute_result"
    }
   ],
   "source": [
    "type(n)"
   ]
  },
  {
   "cell_type": "code",
   "execution_count": 20,
   "id": "aa046988-e8ee-40b6-8c5d-faffa8590b13",
   "metadata": {},
   "outputs": [
    {
     "data": {
      "text/plain": [
       "1"
      ]
     },
     "execution_count": 20,
     "metadata": {},
     "output_type": "execute_result"
    }
   ],
   "source": [
    "n+m"
   ]
  },
  {
   "cell_type": "code",
   "execution_count": 21,
   "id": "56c39886-5ce3-4c58-9332-43b9a40b6591",
   "metadata": {},
   "outputs": [
    {
     "data": {
      "text/plain": [
       "1"
      ]
     },
     "execution_count": 21,
     "metadata": {},
     "output_type": "execute_result"
    }
   ],
   "source": [
    "True*True"
   ]
  },
  {
   "cell_type": "code",
   "execution_count": 22,
   "id": "d24352e1-fe15-4528-a143-a9800cb5fa4a",
   "metadata": {},
   "outputs": [
    {
     "data": {
      "text/plain": [
       "0"
      ]
     },
     "execution_count": 22,
     "metadata": {},
     "output_type": "execute_result"
    }
   ],
   "source": [
    "True*False"
   ]
  },
  {
   "cell_type": "code",
   "execution_count": 23,
   "id": "a2e3bf34-11f5-4057-bc12-7a9f1014347c",
   "metadata": {},
   "outputs": [
    {
     "data": {
      "text/plain": [
       "0"
      ]
     },
     "execution_count": 23,
     "metadata": {},
     "output_type": "execute_result"
    }
   ],
   "source": [
    "False*False"
   ]
  },
  {
   "cell_type": "code",
   "execution_count": 24,
   "id": "fab269c0-9ac0-43f7-900f-4e1bc96f0052",
   "metadata": {},
   "outputs": [
    {
     "data": {
      "text/plain": [
       "0"
      ]
     },
     "execution_count": 24,
     "metadata": {},
     "output_type": "execute_result"
    }
   ],
   "source": [
    "False*True"
   ]
  },
  {
   "cell_type": "code",
   "execution_count": 25,
   "id": "77b2a6c9-bfae-47e5-b6f8-4417d38d67d0",
   "metadata": {},
   "outputs": [
    {
     "data": {
      "text/plain": [
       "0.0"
      ]
     },
     "execution_count": 25,
     "metadata": {},
     "output_type": "execute_result"
    }
   ],
   "source": [
    "False/True"
   ]
  },
  {
   "cell_type": "code",
   "execution_count": 26,
   "id": "be74e657-fff7-4001-b921-1abb7bfb249a",
   "metadata": {},
   "outputs": [
    {
     "ename": "ZeroDivisionError",
     "evalue": "division by zero",
     "output_type": "error",
     "traceback": [
      "\u001b[0;31m---------------------------------------------------------------------------\u001b[0m",
      "\u001b[0;31mZeroDivisionError\u001b[0m                         Traceback (most recent call last)",
      "Cell \u001b[0;32mIn[26], line 1\u001b[0m\n\u001b[0;32m----> 1\u001b[0m \u001b[38;5;241;43m1\u001b[39;49m\u001b[38;5;241;43m/\u001b[39;49m\u001b[38;5;241;43m0\u001b[39;49m\n",
      "\u001b[0;31mZeroDivisionError\u001b[0m: division by zero"
     ]
    }
   ],
   "source": [
    "1/0"
   ]
  },
  {
   "cell_type": "code",
   "execution_count": 27,
   "id": "7634f1b6-b13d-4d5b-8c1b-dd24e7f104b7",
   "metadata": {},
   "outputs": [
    {
     "data": {
      "text/plain": [
       "1.0"
      ]
     },
     "execution_count": 27,
     "metadata": {},
     "output_type": "execute_result"
    }
   ],
   "source": [
    "True/True"
   ]
  },
  {
   "cell_type": "code",
   "execution_count": 28,
   "id": "6af1b47e-1e90-4633-a740-ed47642bd7c6",
   "metadata": {},
   "outputs": [
    {
     "data": {
      "text/plain": [
       "0.0"
      ]
     },
     "execution_count": 28,
     "metadata": {},
     "output_type": "execute_result"
    }
   ],
   "source": [
    "False/True"
   ]
  },
  {
   "cell_type": "code",
   "execution_count": 29,
   "id": "7e522c8a-4398-41d6-922a-7b6bd181df52",
   "metadata": {},
   "outputs": [
    {
     "ename": "ZeroDivisionError",
     "evalue": "division by zero",
     "output_type": "error",
     "traceback": [
      "\u001b[0;31m---------------------------------------------------------------------------\u001b[0m",
      "\u001b[0;31mZeroDivisionError\u001b[0m                         Traceback (most recent call last)",
      "Cell \u001b[0;32mIn[29], line 1\u001b[0m\n\u001b[0;32m----> 1\u001b[0m \u001b[38;5;28;43;01mTrue\u001b[39;49;00m\u001b[38;5;241;43m/\u001b[39;49m\u001b[38;5;28;43;01mFalse\u001b[39;49;00m\n",
      "\u001b[0;31mZeroDivisionError\u001b[0m: division by zero"
     ]
    }
   ],
   "source": [
    "True/False"
   ]
  },
  {
   "cell_type": "code",
   "execution_count": 30,
   "id": "7ebc6459-00d9-4d8a-b4a8-addefe2b54f5",
   "metadata": {},
   "outputs": [],
   "source": [
    "v = 4+6J"
   ]
  },
  {
   "cell_type": "code",
   "execution_count": 31,
   "id": "7f7d0323-830f-4858-a073-553bffdb665e",
   "metadata": {},
   "outputs": [
    {
     "data": {
      "text/plain": [
       "complex"
      ]
     },
     "execution_count": 31,
     "metadata": {},
     "output_type": "execute_result"
    }
   ],
   "source": [
    "type(v)"
   ]
  },
  {
   "cell_type": "code",
   "execution_count": 32,
   "id": "eee454f2-07e6-42d8-8ec9-0d77dcedf02d",
   "metadata": {},
   "outputs": [],
   "source": [
    "x= 44 +4j"
   ]
  },
  {
   "cell_type": "code",
   "execution_count": 33,
   "id": "0236f431-a5a6-464a-876b-30b8f7b4d170",
   "metadata": {},
   "outputs": [
    {
     "data": {
      "text/plain": [
       "complex"
      ]
     },
     "execution_count": 33,
     "metadata": {},
     "output_type": "execute_result"
    }
   ],
   "source": [
    "type(x)"
   ]
  },
  {
   "cell_type": "code",
   "execution_count": 34,
   "id": "340b2fc3-d0f6-4da9-925e-d2e1dd8ebbf1",
   "metadata": {},
   "outputs": [
    {
     "data": {
      "text/plain": [
       "44.0"
      ]
     },
     "execution_count": 34,
     "metadata": {},
     "output_type": "execute_result"
    }
   ],
   "source": [
    "x.real"
   ]
  },
  {
   "cell_type": "code",
   "execution_count": 35,
   "id": "0860f065-b8f9-4b12-a5f4-f2d0ea233650",
   "metadata": {},
   "outputs": [
    {
     "data": {
      "text/plain": [
       "50.0"
      ]
     },
     "execution_count": 35,
     "metadata": {},
     "output_type": "execute_result"
    }
   ],
   "source": [
    "x.real + v.imag"
   ]
  },
  {
   "cell_type": "code",
   "execution_count": 36,
   "id": "b139f1c8-5cd3-4373-92b0-30771b7ee468",
   "metadata": {},
   "outputs": [
    {
     "data": {
      "text/plain": [
       "(48+10j)"
      ]
     },
     "execution_count": 36,
     "metadata": {},
     "output_type": "execute_result"
    }
   ],
   "source": [
    "x +v"
   ]
  },
  {
   "cell_type": "code",
   "execution_count": 37,
   "id": "350ef507-cf61-48e5-ae31-bf7606ae0b2d",
   "metadata": {},
   "outputs": [
    {
     "name": "stdout",
     "output_type": "stream",
     "text": [
      "(44+4j)\n"
     ]
    }
   ],
   "source": [
    "print(x)"
   ]
  },
  {
   "cell_type": "code",
   "execution_count": 38,
   "id": "89e73521-5cfb-413b-8537-2411581d7c70",
   "metadata": {},
   "outputs": [],
   "source": [
    "r = \"Gulam Mazid\""
   ]
  },
  {
   "cell_type": "code",
   "execution_count": 39,
   "id": "9f5d4a3e-e96e-4e6f-a4c3-b29f5005bb83",
   "metadata": {},
   "outputs": [
    {
     "data": {
      "text/plain": [
       "'m'"
      ]
     },
     "execution_count": 39,
     "metadata": {},
     "output_type": "execute_result"
    }
   ],
   "source": [
    "r[4]"
   ]
  },
  {
   "cell_type": "code",
   "execution_count": 40,
   "id": "335ee823-e0d2-4d44-ada4-31bd7dc88a25",
   "metadata": {},
   "outputs": [
    {
     "data": {
      "text/plain": [
       "'a'"
      ]
     },
     "execution_count": 40,
     "metadata": {},
     "output_type": "execute_result"
    }
   ],
   "source": [
    "r[-8]"
   ]
  },
  {
   "cell_type": "code",
   "execution_count": 42,
   "id": "907a8975-fec9-4ee9-9d74-1c0768fbb949",
   "metadata": {},
   "outputs": [
    {
     "data": {
      "text/plain": [
       "'Mazi'"
      ]
     },
     "execution_count": 42,
     "metadata": {},
     "output_type": "execute_result"
    }
   ],
   "source": [
    "r[6:10]"
   ]
  },
  {
   "cell_type": "code",
   "execution_count": 46,
   "id": "5fd62a86-a19d-419b-9081-97f31cb7b73a",
   "metadata": {},
   "outputs": [
    {
     "data": {
      "text/plain": [
       "'GaM'"
      ]
     },
     "execution_count": 46,
     "metadata": {},
     "output_type": "execute_result"
    }
   ],
   "source": [
    "r[0:8:3]"
   ]
  },
  {
   "cell_type": "code",
   "execution_count": 47,
   "id": "6c9db01b-e14d-4421-8100-3e92627e0da9",
   "metadata": {},
   "outputs": [
    {
     "data": {
      "text/plain": [
       "'Gulam Ma'"
      ]
     },
     "execution_count": 47,
     "metadata": {},
     "output_type": "execute_result"
    }
   ],
   "source": [
    "r[0:8:1]"
   ]
  },
  {
   "cell_type": "code",
   "execution_count": 48,
   "id": "2d134ab3-4735-4a45-b1b5-63dbf8b6ec9c",
   "metadata": {},
   "outputs": [
    {
     "ename": "ValueError",
     "evalue": "slice step cannot be zero",
     "output_type": "error",
     "traceback": [
      "\u001b[0;31m---------------------------------------------------------------------------\u001b[0m",
      "\u001b[0;31mValueError\u001b[0m                                Traceback (most recent call last)",
      "Cell \u001b[0;32mIn[48], line 1\u001b[0m\n\u001b[0;32m----> 1\u001b[0m \u001b[43mr\u001b[49m\u001b[43m[\u001b[49m\u001b[38;5;241;43m0\u001b[39;49m\u001b[43m:\u001b[49m\u001b[38;5;241;43m8\u001b[39;49m\u001b[43m:\u001b[49m\u001b[38;5;241;43m0\u001b[39;49m\u001b[43m]\u001b[49m\n",
      "\u001b[0;31mValueError\u001b[0m: slice step cannot be zero"
     ]
    }
   ],
   "source": [
    "r[0:8:0]"
   ]
  },
  {
   "cell_type": "code",
   "execution_count": 49,
   "id": "e4f9cd77-3489-443f-89c7-e340e6b4152c",
   "metadata": {},
   "outputs": [
    {
     "data": {
      "text/plain": [
       "'GaMi'"
      ]
     },
     "execution_count": 49,
     "metadata": {},
     "output_type": "execute_result"
    }
   ],
   "source": [
    "r[0::3]"
   ]
  },
  {
   "cell_type": "code",
   "execution_count": 50,
   "id": "6db49099-3dfe-4062-8052-9d378fa77191",
   "metadata": {},
   "outputs": [
    {
     "data": {
      "text/plain": [
       "'m Maz'"
      ]
     },
     "execution_count": 50,
     "metadata": {},
     "output_type": "execute_result"
    }
   ],
   "source": [
    "r[4:9]"
   ]
  },
  {
   "cell_type": "code",
   "execution_count": 51,
   "id": "2c4ba28f-82ce-45b5-a2dc-97e3614c1639",
   "metadata": {},
   "outputs": [
    {
     "data": {
      "text/plain": [
       "'dizaM maluG'"
      ]
     },
     "execution_count": 51,
     "metadata": {},
     "output_type": "execute_result"
    }
   ],
   "source": [
    "r[::-1]"
   ]
  },
  {
   "cell_type": "code",
   "execution_count": 52,
   "id": "4dce1299-5015-42d4-8559-4029e2a2f324",
   "metadata": {},
   "outputs": [
    {
     "data": {
      "text/plain": [
       "''"
      ]
     },
     "execution_count": 52,
     "metadata": {},
     "output_type": "execute_result"
    }
   ],
   "source": [
    "r[3:8:-1]"
   ]
  },
  {
   "cell_type": "code",
   "execution_count": 53,
   "id": "3923382c-94b6-476a-8fc7-ee57a935f243",
   "metadata": {},
   "outputs": [
    {
     "data": {
      "text/plain": [
       "''"
      ]
     },
     "execution_count": 53,
     "metadata": {},
     "output_type": "execute_result"
    }
   ],
   "source": [
    "r[8:0]"
   ]
  },
  {
   "cell_type": "code",
   "execution_count": 54,
   "id": "a120d99e-1288-431a-8bd1-10acc74c3115",
   "metadata": {},
   "outputs": [
    {
     "data": {
      "text/plain": [
       "'zaM malu'"
      ]
     },
     "execution_count": 54,
     "metadata": {},
     "output_type": "execute_result"
    }
   ],
   "source": [
    "r[8:0:-1]"
   ]
  },
  {
   "cell_type": "code",
   "execution_count": 55,
   "id": "c7c3a6c6-55e7-4ce1-aa62-6841f500943e",
   "metadata": {},
   "outputs": [
    {
     "data": {
      "text/plain": [
       "'dizaM maluG'"
      ]
     },
     "execution_count": 55,
     "metadata": {},
     "output_type": "execute_result"
    }
   ],
   "source": [
    "r[::-1]"
   ]
  },
  {
   "cell_type": "code",
   "execution_count": 56,
   "id": "707e1ff0-aa59-44ea-9df9-b20ec3c0868e",
   "metadata": {},
   "outputs": [
    {
     "data": {
      "text/plain": [
       "'GaMi'"
      ]
     },
     "execution_count": 56,
     "metadata": {},
     "output_type": "execute_result"
    }
   ],
   "source": [
    "r[::3]"
   ]
  },
  {
   "cell_type": "code",
   "execution_count": 57,
   "id": "5036f83e-a232-4f68-bcb0-0fefb145f0f4",
   "metadata": {},
   "outputs": [
    {
     "data": {
      "text/plain": [
       "''"
      ]
     },
     "execution_count": 57,
     "metadata": {},
     "output_type": "execute_result"
    }
   ],
   "source": [
    "r[0:-80000:3]"
   ]
  },
  {
   "cell_type": "code",
   "execution_count": 58,
   "id": "ba520a74-4469-4c36-b754-1a693d720e97",
   "metadata": {},
   "outputs": [
    {
     "data": {
      "text/plain": [
       "''"
      ]
     },
     "execution_count": 58,
     "metadata": {},
     "output_type": "execute_result"
    }
   ],
   "source": [
    "r[0:-832:1]"
   ]
  },
  {
   "cell_type": "code",
   "execution_count": 59,
   "id": "9f06b039-ce71-47a4-8b21-b230726a12cc",
   "metadata": {},
   "outputs": [
    {
     "data": {
      "text/plain": [
       "''"
      ]
     },
     "execution_count": 59,
     "metadata": {},
     "output_type": "execute_result"
    }
   ],
   "source": [
    "r[1:-8432:1]"
   ]
  },
  {
   "cell_type": "code",
   "execution_count": 60,
   "id": "c50e893f-0d4a-4de0-9314-763207cdbe4c",
   "metadata": {},
   "outputs": [
    {
     "data": {
      "text/plain": [
       "'uG'"
      ]
     },
     "execution_count": 60,
     "metadata": {},
     "output_type": "execute_result"
    }
   ],
   "source": [
    "r[1:-8432:-1]"
   ]
  },
  {
   "cell_type": "code",
   "execution_count": 61,
   "id": "0d025c01-824f-4d6f-b715-b19a32dd1103",
   "metadata": {},
   "outputs": [],
   "source": [
    "str1 = \"Hey How are YOu\""
   ]
  },
  {
   "cell_type": "code",
   "execution_count": 62,
   "id": "9269de6c-121b-4931-84eb-147693365a75",
   "metadata": {},
   "outputs": [
    {
     "data": {
      "text/plain": [
       "15"
      ]
     },
     "execution_count": 62,
     "metadata": {},
     "output_type": "execute_result"
    }
   ],
   "source": [
    "len(str1)"
   ]
  },
  {
   "cell_type": "code",
   "execution_count": 63,
   "id": "0b80f055-f9a6-466c-ae68-bde02e85313e",
   "metadata": {},
   "outputs": [
    {
     "ename": "TypeError",
     "evalue": "must be str, not int",
     "output_type": "error",
     "traceback": [
      "\u001b[0;31m---------------------------------------------------------------------------\u001b[0m",
      "\u001b[0;31mTypeError\u001b[0m                                 Traceback (most recent call last)",
      "Cell \u001b[0;32mIn[63], line 1\u001b[0m\n\u001b[0;32m----> 1\u001b[0m \u001b[43mstr1\u001b[49m\u001b[38;5;241;43m.\u001b[39;49m\u001b[43mfind\u001b[49m\u001b[43m(\u001b[49m\u001b[43ma\u001b[49m\u001b[43m)\u001b[49m\n",
      "\u001b[0;31mTypeError\u001b[0m: must be str, not int"
     ]
    }
   ],
   "source": [
    "str1.find(a)"
   ]
  },
  {
   "cell_type": "code",
   "execution_count": 64,
   "id": "6f592cd2-7126-4216-bebb-a800e8a87805",
   "metadata": {},
   "outputs": [
    {
     "ename": "TypeError",
     "evalue": "find() takes at least 1 argument (0 given)",
     "output_type": "error",
     "traceback": [
      "\u001b[0;31m---------------------------------------------------------------------------\u001b[0m",
      "\u001b[0;31mTypeError\u001b[0m                                 Traceback (most recent call last)",
      "Cell \u001b[0;32mIn[64], line 1\u001b[0m\n\u001b[0;32m----> 1\u001b[0m \u001b[43mstr1\u001b[49m\u001b[38;5;241;43m.\u001b[39;49m\u001b[43mfind\u001b[49m\u001b[43m(\u001b[49m\u001b[43m)\u001b[49m\n",
      "\u001b[0;31mTypeError\u001b[0m: find() takes at least 1 argument (0 given)"
     ]
    }
   ],
   "source": [
    "str1.find()"
   ]
  },
  {
   "cell_type": "code",
   "execution_count": 66,
   "id": "00d7fcb6-1b4f-49eb-8800-f36044426a49",
   "metadata": {},
   "outputs": [
    {
     "data": {
      "text/plain": [
       "8"
      ]
     },
     "execution_count": 66,
     "metadata": {},
     "output_type": "execute_result"
    }
   ],
   "source": [
    "str1.find(\"are\")"
   ]
  },
  {
   "cell_type": "code",
   "execution_count": 67,
   "id": "766c411d-2b53-4cdd-a75d-115e00dd51aa",
   "metadata": {},
   "outputs": [
    {
     "data": {
      "text/plain": [
       "8"
      ]
     },
     "execution_count": 67,
     "metadata": {},
     "output_type": "execute_result"
    }
   ],
   "source": [
    "str1.find(\"a\")"
   ]
  },
  {
   "cell_type": "code",
   "execution_count": 68,
   "id": "05655aa1-2580-48fc-ba8b-96f5e6105535",
   "metadata": {},
   "outputs": [
    {
     "data": {
      "text/plain": [
       "-1"
      ]
     },
     "execution_count": 68,
     "metadata": {},
     "output_type": "execute_result"
    }
   ],
   "source": [
    "str1.find(\"Are\")"
   ]
  },
  {
   "cell_type": "code",
   "execution_count": 72,
   "id": "c08f5b6f-ee06-4d39-bbc2-f5cc764ab8c3",
   "metadata": {},
   "outputs": [
    {
     "data": {
      "text/plain": [
       "1"
      ]
     },
     "execution_count": 72,
     "metadata": {},
     "output_type": "execute_result"
    }
   ],
   "source": [
    "str1.count(\"a\")"
   ]
  },
  {
   "cell_type": "code",
   "execution_count": 71,
   "id": "f597ee84-d271-48ab-b66d-9df8fe612186",
   "metadata": {},
   "outputs": [
    {
     "ename": "TypeError",
     "evalue": "must be str, not int",
     "output_type": "error",
     "traceback": [
      "\u001b[0;31m---------------------------------------------------------------------------\u001b[0m",
      "\u001b[0;31mTypeError\u001b[0m                                 Traceback (most recent call last)",
      "Cell \u001b[0;32mIn[71], line 1\u001b[0m\n\u001b[0;32m----> 1\u001b[0m \u001b[43mstr1\u001b[49m\u001b[38;5;241;43m.\u001b[39;49m\u001b[43mcount\u001b[49m\u001b[43m(\u001b[49m\u001b[43ma\u001b[49m\u001b[43m)\u001b[49m\n",
      "\u001b[0;31mTypeError\u001b[0m: must be str, not int"
     ]
    }
   ],
   "source": [
    "str1.count(a)"
   ]
  },
  {
   "cell_type": "code",
   "execution_count": 1,
   "id": "b933a259-8a45-41dd-8d47-b74c10b5314f",
   "metadata": {},
   "outputs": [
    {
     "ename": "NameError",
     "evalue": "name 'str1' is not defined",
     "output_type": "error",
     "traceback": [
      "\u001b[0;31m---------------------------------------------------------------------------\u001b[0m",
      "\u001b[0;31mNameError\u001b[0m                                 Traceback (most recent call last)",
      "Cell \u001b[0;32mIn[1], line 1\u001b[0m\n\u001b[0;32m----> 1\u001b[0m \u001b[43mstr1\u001b[49m\u001b[38;5;241m.\u001b[39mupper()\n",
      "\u001b[0;31mNameError\u001b[0m: name 'str1' is not defined"
     ]
    }
   ],
   "source": [
    "str1.upper()"
   ]
  },
  {
   "cell_type": "code",
   "execution_count": 2,
   "id": "d26ff9db-50f1-4f7c-8ab8-cb32aee8fe9b",
   "metadata": {},
   "outputs": [],
   "source": [
    "str2= \"Hey Iam Gulam Mazid\""
   ]
  },
  {
   "cell_type": "code",
   "execution_count": 3,
   "id": "97d2af6c-e370-4d3a-80e5-0e355552a3a9",
   "metadata": {},
   "outputs": [
    {
     "data": {
      "text/plain": [
       "'HEY IAM GULAM MAZID'"
      ]
     },
     "execution_count": 3,
     "metadata": {},
     "output_type": "execute_result"
    }
   ],
   "source": [
    "str2.upper()"
   ]
  },
  {
   "cell_type": "code",
   "execution_count": 4,
   "id": "7acf6fdc-1e30-4e17-9b11-55cd66d532b8",
   "metadata": {},
   "outputs": [
    {
     "data": {
      "text/plain": [
       "'hey iam gulam mazid'"
      ]
     },
     "execution_count": 4,
     "metadata": {},
     "output_type": "execute_result"
    }
   ],
   "source": [
    "str2.lower()"
   ]
  },
  {
   "cell_type": "code",
   "execution_count": 6,
   "id": "b6fb9d4a-b776-4aa9-acb5-a98bd64c85ab",
   "metadata": {},
   "outputs": [
    {
     "data": {
      "text/plain": [
       "'Hey Iam Gulam Mazid'"
      ]
     },
     "execution_count": 6,
     "metadata": {},
     "output_type": "execute_result"
    }
   ],
   "source": [
    "str2.title()"
   ]
  },
  {
   "cell_type": "code",
   "execution_count": 7,
   "id": "c2da11aa-a497-4dbd-9029-c0e7a14ede34",
   "metadata": {},
   "outputs": [
    {
     "data": {
      "text/plain": [
       "'Hey iam gulam mazid'"
      ]
     },
     "execution_count": 7,
     "metadata": {},
     "output_type": "execute_result"
    }
   ],
   "source": [
    "str2.capitalize()"
   ]
  },
  {
   "cell_type": "code",
   "execution_count": 8,
   "id": "9ef24851-ca46-43e1-930e-9bd9b0e58aee",
   "metadata": {},
   "outputs": [
    {
     "data": {
      "text/plain": [
       "'Hey Iam Gulam MazidHellooooo'"
      ]
     },
     "execution_count": 8,
     "metadata": {},
     "output_type": "execute_result"
    }
   ],
   "source": [
    "str2 + \"Hellooooo\""
   ]
  },
  {
   "cell_type": "code",
   "execution_count": 9,
   "id": "33c5266d-9764-416c-b654-3abed4aa0a66",
   "metadata": {},
   "outputs": [
    {
     "data": {
      "text/plain": [
       "'Hey Iam Gulam MazidHey Iam Gulam Mazid'"
      ]
     },
     "execution_count": 9,
     "metadata": {},
     "output_type": "execute_result"
    }
   ],
   "source": [
    "str2 *2"
   ]
  },
  {
   "cell_type": "code",
   "execution_count": 10,
   "id": "d0637858-1486-4efe-a01c-ed4d34d3c4a2",
   "metadata": {},
   "outputs": [
    {
     "data": {
      "text/plain": [
       "\"dont't copy\""
      ]
     },
     "execution_count": 10,
     "metadata": {},
     "output_type": "execute_result"
    }
   ],
   "source": [
    "\"dont't copy\""
   ]
  },
  {
   "cell_type": "code",
   "execution_count": 11,
   "id": "738c87cc-d37d-4fea-8a17-1f943a9a0ec5",
   "metadata": {},
   "outputs": [
    {
     "ename": "SyntaxError",
     "evalue": "unterminated string literal (detected at line 1) (2373382525.py, line 1)",
     "output_type": "error",
     "traceback": [
      "\u001b[0;36m  Cell \u001b[0;32mIn[11], line 1\u001b[0;36m\u001b[0m\n\u001b[0;31m    'dont\" copy\"\u001b[0m\n\u001b[0m    ^\u001b[0m\n\u001b[0;31mSyntaxError\u001b[0m\u001b[0;31m:\u001b[0m unterminated string literal (detected at line 1)\n"
     ]
    }
   ],
   "source": [
    "'dont\" copy\"\n"
   ]
  },
  {
   "cell_type": "code",
   "execution_count": 12,
   "id": "d4b43c0f-7ce3-4e00-86b9-0251b9b60a94",
   "metadata": {},
   "outputs": [
    {
     "data": {
      "text/plain": [
       "'dont\" copy'"
      ]
     },
     "execution_count": 12,
     "metadata": {},
     "output_type": "execute_result"
    }
   ],
   "source": [
    "'dont\" copy'"
   ]
  },
  {
   "cell_type": "code",
   "execution_count": null,
   "id": "f302de12-23e1-4e36-a1a4-63cd650ad1bf",
   "metadata": {},
   "outputs": [],
   "source": []
  }
 ],
 "metadata": {
  "kernelspec": {
   "display_name": "Python 3 (ipykernel)",
   "language": "python",
   "name": "python3"
  },
  "language_info": {
   "codemirror_mode": {
    "name": "ipython",
    "version": 3
   },
   "file_extension": ".py",
   "mimetype": "text/x-python",
   "name": "python",
   "nbconvert_exporter": "python",
   "pygments_lexer": "ipython3",
   "version": "3.10.8"
  }
 },
 "nbformat": 4,
 "nbformat_minor": 5
}
