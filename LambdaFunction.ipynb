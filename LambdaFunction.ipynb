{
 "cells": [
  {
   "cell_type": "code",
   "execution_count": 1,
   "id": "bb56c920-48d3-4f83-ad8f-de4c3ef58320",
   "metadata": {},
   "outputs": [],
   "source": [
    "n = 3\n",
    "p =2\n"
   ]
  },
  {
   "cell_type": "code",
   "execution_count": 2,
   "id": "be555b00-72fb-49a3-8c7b-e7d4727a5e6b",
   "metadata": {},
   "outputs": [],
   "source": [
    "def test (n,p):\n",
    "    return n**p"
   ]
  },
  {
   "cell_type": "code",
   "execution_count": 3,
   "id": "942c4ce7-8147-48f3-ad1c-12a2c1c84fce",
   "metadata": {},
   "outputs": [
    {
     "data": {
      "text/plain": [
       "16"
      ]
     },
     "execution_count": 3,
     "metadata": {},
     "output_type": "execute_result"
    }
   ],
   "source": [
    "test(2,4)"
   ]
  },
  {
   "cell_type": "code",
   "execution_count": 5,
   "id": "abae005f-c46c-4b70-9f8b-4138d946b75e",
   "metadata": {},
   "outputs": [],
   "source": [
    "a= lambda n, p : n**p"
   ]
  },
  {
   "cell_type": "code",
   "execution_count": 7,
   "id": "1e0318f7-c6cd-4f9f-bd7f-74eb6a647a60",
   "metadata": {},
   "outputs": [
    {
     "data": {
      "text/plain": [
       "147008443"
      ]
     },
     "execution_count": 7,
     "metadata": {},
     "output_type": "execute_result"
    }
   ],
   "source": [
    "a(43,5)"
   ]
  },
  {
   "cell_type": "code",
   "execution_count": 8,
   "id": "23774e5d-c411-4640-abc1-cb245a24e448",
   "metadata": {},
   "outputs": [],
   "source": [
    "add = lambda x,y: x+y"
   ]
  },
  {
   "cell_type": "code",
   "execution_count": 9,
   "id": "7dd02a4f-0b54-47f3-a579-0d4a4cf52460",
   "metadata": {},
   "outputs": [
    {
     "data": {
      "text/plain": [
       "50"
      ]
     },
     "execution_count": 9,
     "metadata": {},
     "output_type": "execute_result"
    }
   ],
   "source": [
    "add (4,46)"
   ]
  },
  {
   "cell_type": "code",
   "execution_count": 12,
   "id": "ff7dabe5-f866-4428-8d89-f9910e26d10e",
   "metadata": {},
   "outputs": [],
   "source": [
    "c_to_f = lambda c : (9/5)*c +32 "
   ]
  },
  {
   "cell_type": "code",
   "execution_count": 13,
   "id": "ee900c6b-51ad-4dc8-91b7-3c811226a0d0",
   "metadata": {},
   "outputs": [
    {
     "data": {
      "text/plain": [
       "113.0"
      ]
     },
     "execution_count": 13,
     "metadata": {},
     "output_type": "execute_result"
    }
   ],
   "source": [
    "c_to_f(45)"
   ]
  },
  {
   "cell_type": "code",
   "execution_count": 14,
   "id": "54c91479-988a-4a49-bbfe-96090a0d68d2",
   "metadata": {},
   "outputs": [],
   "source": [
    "finding_max = lambda x,y: x if x>y else y"
   ]
  },
  {
   "cell_type": "code",
   "execution_count": 15,
   "id": "4ca2aa22-d842-4879-85ed-6ceff004f422",
   "metadata": {},
   "outputs": [
    {
     "data": {
      "text/plain": [
       "56"
      ]
     },
     "execution_count": 15,
     "metadata": {},
     "output_type": "execute_result"
    }
   ],
   "source": [
    "finding_max(34,56)"
   ]
  },
  {
   "cell_type": "code",
   "execution_count": 16,
   "id": "99336208-2e80-411d-bc35-1d0513e2361c",
   "metadata": {},
   "outputs": [],
   "source": [
    "s = \"mazid\""
   ]
  },
  {
   "cell_type": "code",
   "execution_count": 18,
   "id": "6ea64078-dcfb-4216-acca-866e08df82d5",
   "metadata": {},
   "outputs": [],
   "source": [
    "find_len = lambda s : len(s)"
   ]
  },
  {
   "cell_type": "code",
   "execution_count": 19,
   "id": "0151f81f-3939-4308-9921-f4c332f70c86",
   "metadata": {},
   "outputs": [
    {
     "data": {
      "text/plain": [
       "5"
      ]
     },
     "execution_count": 19,
     "metadata": {},
     "output_type": "execute_result"
    }
   ],
   "source": [
    "find_len(s)"
   ]
  },
  {
   "cell_type": "code",
   "execution_count": null,
   "id": "55921981-b260-481e-bdec-b9fe79b74913",
   "metadata": {},
   "outputs": [],
   "source": []
  }
 ],
 "metadata": {
  "kernelspec": {
   "display_name": "Python 3 (ipykernel)",
   "language": "python",
   "name": "python3"
  },
  "language_info": {
   "codemirror_mode": {
    "name": "ipython",
    "version": 3
   },
   "file_extension": ".py",
   "mimetype": "text/x-python",
   "name": "python",
   "nbconvert_exporter": "python",
   "pygments_lexer": "ipython3",
   "version": "3.10.8"
  }
 },
 "nbformat": 4,
 "nbformat_minor": 5
}
