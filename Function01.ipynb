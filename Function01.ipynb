{
 "cells": [
  {
   "cell_type": "code",
   "execution_count": 1,
   "id": "1836562c-6688-49e6-a0be-51b409da5829",
   "metadata": {},
   "outputs": [],
   "source": [
    "def test():\n",
    "    pass\n"
   ]
  },
  {
   "cell_type": "code",
   "execution_count": 1,
   "id": "b9cb09de-8540-483d-853e-714d403882cf",
   "metadata": {},
   "outputs": [],
   "source": [
    "def test1():\n",
    "    print(\" test 1 function executed\")"
   ]
  },
  {
   "cell_type": "code",
   "execution_count": 4,
   "id": "1c12ebf0-67a1-48e9-b599-5e932d313ea4",
   "metadata": {},
   "outputs": [
    {
     "name": "stdout",
     "output_type": "stream",
     "text": [
      " test 1 function executed\n"
     ]
    }
   ],
   "source": [
    "test1()\n"
   ]
  },
  {
   "cell_type": "code",
   "execution_count": 5,
   "id": "cbaad4f6-2368-417b-a78d-cabeae4681ce",
   "metadata": {},
   "outputs": [
    {
     "data": {
      "text/plain": [
       "<function __main__.test1()>"
      ]
     },
     "execution_count": 5,
     "metadata": {},
     "output_type": "execute_result"
    }
   ],
   "source": [
    "test1"
   ]
  },
  {
   "cell_type": "code",
   "execution_count": 12,
   "id": "7b0ccf1d-094e-4421-b861-bddf716b2feb",
   "metadata": {},
   "outputs": [],
   "source": [
    "def test2():\n",
    "    return \"test 2 function executed\""
   ]
  },
  {
   "cell_type": "code",
   "execution_count": 13,
   "id": "3641101a-df61-488b-9d0a-26a5b4be6140",
   "metadata": {},
   "outputs": [
    {
     "data": {
      "text/plain": [
       "'test 2 function executed'"
      ]
     },
     "execution_count": 13,
     "metadata": {},
     "output_type": "execute_result"
    }
   ],
   "source": [
    "test2()"
   ]
  },
  {
   "cell_type": "code",
   "execution_count": 17,
   "id": "d2e48795-bf14-41c4-a8f6-5e586e8d154a",
   "metadata": {},
   "outputs": [],
   "source": [
    "def test3():\n",
    "    return \"mazid\", 343, \"fdfd\", 342"
   ]
  },
  {
   "cell_type": "code",
   "execution_count": 18,
   "id": "e830b855-372d-4b00-adf5-2f899b793970",
   "metadata": {},
   "outputs": [
    {
     "data": {
      "text/plain": [
       "('mazid', 343, 'fdfd', 342)"
      ]
     },
     "execution_count": 18,
     "metadata": {},
     "output_type": "execute_result"
    }
   ],
   "source": [
    "test3()"
   ]
  },
  {
   "cell_type": "code",
   "execution_count": 21,
   "id": "887c10c0-7c79-43a8-b9e9-7fdf9d81ff54",
   "metadata": {},
   "outputs": [
    {
     "name": "stdout",
     "output_type": "stream",
     "text": [
      "mazid\n",
      "343\n",
      "fdfd\n",
      "342\n"
     ]
    }
   ],
   "source": [
    "a,b,c,d = test3()\n",
    "print(a)\n",
    "print(b)\n",
    "print(c)\n",
    "print(d)"
   ]
  },
  {
   "cell_type": "code",
   "execution_count": 22,
   "id": "26c6610c-4d2a-43af-80a6-ae1b05d0ad8a",
   "metadata": {},
   "outputs": [],
   "source": [
    "a = 1\n",
    "b =4\n"
   ]
  },
  {
   "cell_type": "code",
   "execution_count": 23,
   "id": "3c3c45a0-00aa-40b0-a340-b643c8a30f3d",
   "metadata": {},
   "outputs": [],
   "source": [
    "a,b = 1,4"
   ]
  },
  {
   "cell_type": "code",
   "execution_count": 25,
   "id": "4ec6c8bc-9264-46d0-847c-0edfd9247fc0",
   "metadata": {},
   "outputs": [],
   "source": [
    "def test4():\n",
    "    a = 5+6/7\n",
    "    return a"
   ]
  },
  {
   "cell_type": "code",
   "execution_count": 26,
   "id": "72bfa0b0-dc7c-4965-8ca4-aeffef4c2518",
   "metadata": {},
   "outputs": [
    {
     "data": {
      "text/plain": [
       "5.857142857142857"
      ]
     },
     "execution_count": 26,
     "metadata": {},
     "output_type": "execute_result"
    }
   ],
   "source": [
    "test4()"
   ]
  },
  {
   "cell_type": "code",
   "execution_count": 27,
   "id": "3eec45c4-4c80-4084-ae59-7a8526be46d7",
   "metadata": {},
   "outputs": [],
   "source": [
    "def test6(a,b,c):\n",
    "    d = a+b/c\n",
    "    return d"
   ]
  },
  {
   "cell_type": "code",
   "execution_count": 28,
   "id": "4bd6b1d9-1e65-4224-a5e8-a98ca6d0af5a",
   "metadata": {},
   "outputs": [
    {
     "data": {
      "text/plain": [
       "4.714285714285714"
      ]
     },
     "execution_count": 28,
     "metadata": {},
     "output_type": "execute_result"
    }
   ],
   "source": [
    "test6(4,5,7)"
   ]
  },
  {
   "cell_type": "code",
   "execution_count": 29,
   "id": "d59a2088-07ab-4ac5-91e9-51c513bbdf7d",
   "metadata": {},
   "outputs": [],
   "source": [
    "def test7(a,b):\n",
    "    return a+b"
   ]
  },
  {
   "cell_type": "code",
   "execution_count": 31,
   "id": "a0629439-4863-4a18-a141-6fa7ef63dcc0",
   "metadata": {},
   "outputs": [
    {
     "data": {
      "text/plain": [
       "10"
      ]
     },
     "execution_count": 31,
     "metadata": {},
     "output_type": "execute_result"
    }
   ],
   "source": [
    "test7(4,6)"
   ]
  },
  {
   "cell_type": "code",
   "execution_count": 33,
   "id": "610530f7-4d4e-4118-88e1-671189255358",
   "metadata": {},
   "outputs": [
    {
     "data": {
      "text/plain": [
       "'GulamMAzid'"
      ]
     },
     "execution_count": 33,
     "metadata": {},
     "output_type": "execute_result"
    }
   ],
   "source": [
    "test7(\"Gulam\", \"MAzid\")"
   ]
  },
  {
   "cell_type": "code",
   "execution_count": 34,
   "id": "a4208d76-1510-4e1b-8265-d3966c1424f9",
   "metadata": {},
   "outputs": [
    {
     "data": {
      "text/plain": [
       "[3, 4, 5, 2, 42, 455, 53, 63]"
      ]
     },
     "execution_count": 34,
     "metadata": {},
     "output_type": "execute_result"
    }
   ],
   "source": [
    "test7([3,4,5,2], [42,455,53,63])"
   ]
  },
  {
   "cell_type": "code",
   "execution_count": 1,
   "id": "19b58534-a3ae-40bc-82a8-4a638f246e5e",
   "metadata": {},
   "outputs": [],
   "source": [
    "l= [3,4,5,2, [42,455,53,63], \"mazid\", 343, \"fdfd\", 342]"
   ]
  },
  {
   "cell_type": "code",
   "execution_count": 2,
   "id": "055222bb-a594-4846-bea0-fc193021f716",
   "metadata": {},
   "outputs": [],
   "source": [
    "l1= []\n",
    "for i in l:\n",
    "    if type(i)== int or type(i) == float:\n",
    "        l1.append(i)\n",
    "    "
   ]
  },
  {
   "cell_type": "code",
   "execution_count": 3,
   "id": "6929fc7b-dd99-4e6f-b474-d344721c075c",
   "metadata": {},
   "outputs": [
    {
     "data": {
      "text/plain": [
       "[3, 4, 5, 2, 343, 342]"
      ]
     },
     "execution_count": 3,
     "metadata": {},
     "output_type": "execute_result"
    }
   ],
   "source": [
    "l1"
   ]
  },
  {
   "cell_type": "code",
   "execution_count": 6,
   "id": "ce5da723-7d89-44ae-bc57-ea4ef0f2edf6",
   "metadata": {},
   "outputs": [],
   "source": [
    "def test8(l):\n",
    "    l1 =[]\n",
    "    for i in l:\n",
    "        if type(i) == int or type(i) == float:\n",
    "            l1.append(i)\n",
    "        return l1"
   ]
  },
  {
   "cell_type": "code",
   "execution_count": 7,
   "id": "771af5e9-8d33-4bde-af3a-b3da29f00142",
   "metadata": {},
   "outputs": [
    {
     "data": {
      "text/plain": [
       "[3]"
      ]
     },
     "execution_count": 7,
     "metadata": {},
     "output_type": "execute_result"
    }
   ],
   "source": [
    "test8(l)"
   ]
  },
  {
   "cell_type": "code",
   "execution_count": 10,
   "id": "3e11a225-aa2c-4e59-ba81-c301284c1657",
   "metadata": {},
   "outputs": [],
   "source": [
    "def test8(l):\n",
    "    l1 =[]\n",
    "    for i in l:\n",
    "        if type(i) == int or type(i) == float:\n",
    "            l1.append(i)\n",
    "    else:\n",
    "        print(\"Else statemet is executed\")\n",
    "    return l1\n",
    "    "
   ]
  },
  {
   "cell_type": "code",
   "execution_count": 11,
   "id": "c0c0d61c-d713-45f5-9d53-952cfc222908",
   "metadata": {},
   "outputs": [
    {
     "data": {
      "text/plain": [
       "[3, 4, 5, 2, 343, 342]"
      ]
     },
     "execution_count": 11,
     "metadata": {},
     "output_type": "execute_result"
    }
   ],
   "source": [
    "l1"
   ]
  },
  {
   "cell_type": "code",
   "execution_count": 13,
   "id": "a7e67a73-7dfb-46a4-be4a-342e2bbe49b3",
   "metadata": {},
   "outputs": [
    {
     "name": "stdout",
     "output_type": "stream",
     "text": [
      "Else statemet is executed\n"
     ]
    },
    {
     "data": {
      "text/plain": [
       "[3, 4, 5, 2, 343, 342]"
      ]
     },
     "execution_count": 13,
     "metadata": {},
     "output_type": "execute_result"
    }
   ],
   "source": [
    "test8(l)"
   ]
  },
  {
   "cell_type": "code",
   "execution_count": 14,
   "id": "e15d98d6-9bb4-4d43-90d1-06c42765e7ca",
   "metadata": {},
   "outputs": [],
   "source": [
    "def test9(a):\n",
    "#     \"this function extract num from list\"\n",
    "    l1 =[]\n",
    "    for i in l:\n",
    "        if type(i) == int or type(i) == float:\n",
    "            l1.append(i)\n",
    "    else:\n",
    "        print(\"Else statemet is executed\")\n",
    "    return l1"
   ]
  },
  {
   "cell_type": "code",
   "execution_count": 16,
   "id": "4bd01cb7-9e0c-4bae-bce9-41f0d8f54ad8",
   "metadata": {},
   "outputs": [
    {
     "name": "stdout",
     "output_type": "stream",
     "text": [
      "Else statemet is executed\n"
     ]
    },
    {
     "data": {
      "text/plain": [
       "[3, 4, 5, 2, 343, 342]"
      ]
     },
     "execution_count": 16,
     "metadata": {},
     "output_type": "execute_result"
    }
   ],
   "source": [
    "test9(l)"
   ]
  },
  {
   "cell_type": "code",
   "execution_count": 20,
   "id": "e8dfb9c4-8c2b-46aa-89eb-928c1626606b",
   "metadata": {},
   "outputs": [],
   "source": [
    "def test11(*args):\n",
    "    return args\n",
    "    "
   ]
  },
  {
   "cell_type": "code",
   "execution_count": 21,
   "id": "99bfb2ee-6b6e-42a0-939a-47c2a7152130",
   "metadata": {},
   "outputs": [
    {
     "data": {
      "text/plain": [
       "tuple"
      ]
     },
     "execution_count": 21,
     "metadata": {},
     "output_type": "execute_result"
    }
   ],
   "source": [
    "type(test11())"
   ]
  },
  {
   "cell_type": "code",
   "execution_count": 6,
   "id": "dea1df06-ae8f-481d-8aa4-09ba6c112d7e",
   "metadata": {},
   "outputs": [],
   "source": [
    "def test11(*sudh):\n",
    "    return"
   ]
  },
  {
   "cell_type": "code",
   "execution_count": 7,
   "id": "91b4fa0c-b7e2-4d0f-9de7-bd255276e37e",
   "metadata": {},
   "outputs": [],
   "source": [
    "test11()"
   ]
  },
  {
   "cell_type": "code",
   "execution_count": 8,
   "id": "5e151ce7-5a6b-499b-bac4-8c457b242f6d",
   "metadata": {},
   "outputs": [],
   "source": [
    "def test12(*args, a):\n",
    "    return args, a"
   ]
  },
  {
   "cell_type": "code",
   "execution_count": 9,
   "id": "3d869d99-147f-4b75-8266-b17aec37d33f",
   "metadata": {},
   "outputs": [
    {
     "ename": "TypeError",
     "evalue": "test12() missing 1 required keyword-only argument: 'a'",
     "output_type": "error",
     "traceback": [
      "\u001b[0;31m---------------------------------------------------------------------------\u001b[0m",
      "\u001b[0;31mTypeError\u001b[0m                                 Traceback (most recent call last)",
      "Cell \u001b[0;32mIn[9], line 1\u001b[0m\n\u001b[0;32m----> 1\u001b[0m \u001b[43mtest12\u001b[49m\u001b[43m \u001b[49m\u001b[43m(\u001b[49m\u001b[38;5;241;43m1\u001b[39;49m\u001b[43m,\u001b[49m\u001b[38;5;241;43m2\u001b[39;49m\u001b[43m,\u001b[49m\u001b[38;5;241;43m3\u001b[39;49m\u001b[43m,\u001b[49m\u001b[38;5;241;43m45\u001b[39;49m\u001b[43m)\u001b[49m\n",
      "\u001b[0;31mTypeError\u001b[0m: test12() missing 1 required keyword-only argument: 'a'"
     ]
    }
   ],
   "source": [
    "test12 (1,2,3,45)"
   ]
  },
  {
   "cell_type": "code",
   "execution_count": 11,
   "id": "fde2da7b-4f77-458e-a06e-362f1e39abf4",
   "metadata": {},
   "outputs": [
    {
     "data": {
      "text/plain": [
       "((1, 2, 3, 4), 233)"
      ]
     },
     "execution_count": 11,
     "metadata": {},
     "output_type": "execute_result"
    }
   ],
   "source": [
    "test12(1,2,3,4, a = 233)"
   ]
  },
  {
   "cell_type": "code",
   "execution_count": 12,
   "id": "925abee2-3771-4bcd-801e-1ab280ee62a7",
   "metadata": {},
   "outputs": [],
   "source": [
    "def test13(c,d,a = 23, b=1):\n",
    "    return a,b,c,d"
   ]
  },
  {
   "cell_type": "code",
   "execution_count": 13,
   "id": "d5a920f7-f3c8-45cd-a3e7-93d74b2f02f6",
   "metadata": {},
   "outputs": [
    {
     "ename": "TypeError",
     "evalue": "test13() missing 2 required positional arguments: 'c' and 'd'",
     "output_type": "error",
     "traceback": [
      "\u001b[0;31m---------------------------------------------------------------------------\u001b[0m",
      "\u001b[0;31mTypeError\u001b[0m                                 Traceback (most recent call last)",
      "Cell \u001b[0;32mIn[13], line 1\u001b[0m\n\u001b[0;32m----> 1\u001b[0m \u001b[43mtest13\u001b[49m\u001b[43m(\u001b[49m\u001b[43m)\u001b[49m\n",
      "\u001b[0;31mTypeError\u001b[0m: test13() missing 2 required positional arguments: 'c' and 'd'"
     ]
    }
   ],
   "source": [
    "test13()"
   ]
  },
  {
   "cell_type": "code",
   "execution_count": 14,
   "id": "9be4391e-5bf0-434d-b320-879e87517c06",
   "metadata": {},
   "outputs": [
    {
     "data": {
      "text/plain": [
       "(23, 1, 34, 43)"
      ]
     },
     "execution_count": 14,
     "metadata": {},
     "output_type": "execute_result"
    }
   ],
   "source": [
    "test13(34,43)"
   ]
  },
  {
   "cell_type": "code",
   "execution_count": 15,
   "id": "60da5d09-68f4-4f53-b43b-c7009d9cfdcf",
   "metadata": {},
   "outputs": [
    {
     "data": {
      "text/plain": [
       "(434, 1, 2, 4)"
      ]
     },
     "execution_count": 15,
     "metadata": {},
     "output_type": "execute_result"
    }
   ],
   "source": [
    "test13(2,4, a = 434)"
   ]
  },
  {
   "cell_type": "code",
   "execution_count": 17,
   "id": "fc73c8d2-0f7e-4f09-952f-6144b9a7e4f5",
   "metadata": {},
   "outputs": [],
   "source": [
    " def test14(**kwargs):\n",
    "        return kwargs"
   ]
  },
  {
   "cell_type": "code",
   "execution_count": 18,
   "id": "e9f51e01-c1a9-4d4a-99dd-76d9453f6d55",
   "metadata": {},
   "outputs": [
    {
     "data": {
      "text/plain": [
       "{}"
      ]
     },
     "execution_count": 18,
     "metadata": {},
     "output_type": "execute_result"
    }
   ],
   "source": [
    "test14()"
   ]
  },
  {
   "cell_type": "code",
   "execution_count": 20,
   "id": "24b91e93-0c3a-47de-bc78-1a7bcf9547c7",
   "metadata": {},
   "outputs": [
    {
     "data": {
      "text/plain": [
       "dict"
      ]
     },
     "execution_count": 20,
     "metadata": {},
     "output_type": "execute_result"
    }
   ],
   "source": [
    "type(test14())"
   ]
  },
  {
   "cell_type": "code",
   "execution_count": 21,
   "id": "aa2f14d2-0ac8-47a8-8329-8498e2c72a8a",
   "metadata": {},
   "outputs": [
    {
     "data": {
      "text/plain": [
       "{'a': [1, 2, 3, 4, 5, 5], 'b': 'MAzid', 'c': 24.432}"
      ]
     },
     "execution_count": 21,
     "metadata": {},
     "output_type": "execute_result"
    }
   ],
   "source": [
    "test14(a = [1,2,3,4,5,5], b = \"MAzid\", c =24.432)"
   ]
  },
  {
   "cell_type": "code",
   "execution_count": null,
   "id": "289224fd-edfc-459d-a1cf-f7aa6bededb3",
   "metadata": {},
   "outputs": [],
   "source": []
  }
 ],
 "metadata": {
  "kernelspec": {
   "display_name": "Python 3 (ipykernel)",
   "language": "python",
   "name": "python3"
  },
  "language_info": {
   "codemirror_mode": {
    "name": "ipython",
    "version": 3
   },
   "file_extension": ".py",
   "mimetype": "text/x-python",
   "name": "python",
   "nbconvert_exporter": "python",
   "pygments_lexer": "ipython3",
   "version": "3.10.8"
  }
 },
 "nbformat": 4,
 "nbformat_minor": 5
}
