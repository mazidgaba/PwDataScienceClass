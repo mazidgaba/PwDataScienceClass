{
 "cells": [
  {
   "cell_type": "code",
   "execution_count": 6,
   "id": "fccb71d5-56b7-4541-959a-3466808ea93f",
   "metadata": {},
   "outputs": [],
   "source": [
    "import abc\n",
    "class pwskils:\n",
    "    \n",
    "    @abc.abstractmethod\n",
    "    def student_details(self):\n",
    "        pass\n",
    "    \n",
    "    @abc.abstractmethod\n",
    "    def student_assingment(self):\n",
    "        pass\n",
    "    \n",
    "    @abc.abstractmethod\n",
    "    def student_marks(self):\n",
    "        pass\n",
    "    "
   ]
  },
  {
   "cell_type": "code",
   "execution_count": 10,
   "id": "347f9b3a-3dc3-4a0f-a301-ea6f05f8ad9f",
   "metadata": {},
   "outputs": [],
   "source": [
    "class student_details(pwskils):\n",
    "    \n",
    "    def student_details(self):\n",
    "        return \"this is methof for taking student details\"\n",
    "    def student_assingment(self):\n",
    "        return \"this is method for assign details for aa particular student\"\n"
   ]
  },
  {
   "cell_type": "code",
   "execution_count": 11,
   "id": "e68d1a58-c73d-4568-b0a0-3d272b72e5b8",
   "metadata": {},
   "outputs": [],
   "source": [
    "class data_science_marster(pwskils):\n",
    "    def student_details(self):\n",
    "        return \"this will return a student deatils for data science masters\"\n",
    "    \n",
    "    def student_assingment(self):\n",
    "        return \"this will give you student assignmet detils for data science masters\""
   ]
  },
  {
   "cell_type": "code",
   "execution_count": 13,
   "id": "8fda0daa-80f1-4ea7-930c-215273d15ae2",
   "metadata": {},
   "outputs": [
    {
     "data": {
      "text/plain": [
       "'this will return a student deatils for data science masters'"
      ]
     },
     "execution_count": 13,
     "metadata": {},
     "output_type": "execute_result"
    }
   ],
   "source": [
    "dsm = data_science_marster()\n",
    "\n",
    "dsm.student_details()"
   ]
  },
  {
   "cell_type": "code",
   "execution_count": 14,
   "id": "c18643dc-cf58-4879-a25d-7078db08b95a",
   "metadata": {},
   "outputs": [
    {
     "data": {
      "text/plain": [
       "'this is methof for taking student details'"
      ]
     },
     "execution_count": 14,
     "metadata": {},
     "output_type": "execute_result"
    }
   ],
   "source": [
    "sd = student_details()\n",
    "sd.student_details()"
   ]
  },
  {
   "cell_type": "code",
   "execution_count": null,
   "id": "f87e1f8f-5130-4618-8799-9fff19c57b61",
   "metadata": {},
   "outputs": [],
   "source": []
  }
 ],
 "metadata": {
  "kernelspec": {
   "display_name": "Python 3 (ipykernel)",
   "language": "python",
   "name": "python3"
  },
  "language_info": {
   "codemirror_mode": {
    "name": "ipython",
    "version": 3
   },
   "file_extension": ".py",
   "mimetype": "text/x-python",
   "name": "python",
   "nbconvert_exporter": "python",
   "pygments_lexer": "ipython3",
   "version": "3.10.8"
  }
 },
 "nbformat": 4,
 "nbformat_minor": 5
}
