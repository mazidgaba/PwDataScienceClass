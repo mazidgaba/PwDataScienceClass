{
 "cells": [
  {
   "cell_type": "code",
   "execution_count": 1,
   "id": "80fd607b-5a5e-45f5-910d-f252788ca193",
   "metadata": {},
   "outputs": [
    {
     "name": "stdout",
     "output_type": "stream",
     "text": [
      "1\n",
      "2\n",
      "3\n",
      "4\n",
      "5\n",
      "6\n",
      "7\n",
      "8\n",
      "9\n",
      "10\n"
     ]
    }
   ],
   "source": [
    "a = 1\n",
    "while a<= 10:\n",
    "    print(a)\n",
    "    a = a+1"
   ]
  },
  {
   "cell_type": "code",
   "execution_count": 2,
   "id": "d39df960-e8b1-4658-9e62-c5f9cca8fa0a",
   "metadata": {},
   "outputs": [
    {
     "name": "stdin",
     "output_type": "stream",
     "text": [
      "Enter the number:  5\n"
     ]
    },
    {
     "name": "stdout",
     "output_type": "stream",
     "text": [
      "15\n"
     ]
    }
   ],
   "source": [
    "n = int(input(\"Enter the number: \"))\n",
    "starting_point = 0\n",
    "counter = 1\n",
    "\n",
    "while counter <= n:\n",
    "    starting_point = starting_point + counter  # Fixed typo here\n",
    "    counter += 1  # Increment counter to avoid infinite loop\n",
    "\n",
    "print(starting_point)  # Added this to display the result\n"
   ]
  },
  {
   "cell_type": "code",
   "execution_count": 6,
   "id": "943bcef9-6c51-4c0d-9bf7-df8851b4f674",
   "metadata": {},
   "outputs": [
    {
     "name": "stdin",
     "output_type": "stream",
     "text": [
      "Enter Your Number 8\n"
     ]
    },
    {
     "data": {
      "text/plain": [
       "40320"
      ]
     },
     "execution_count": 6,
     "metadata": {},
     "output_type": "execute_result"
    }
   ],
   "source": [
    "number = int(input(\"Enter Your Number\"))\n",
    "factorial = 1\n",
    "while number > 0:\n",
    "    factorial = factorial*number\n",
    "    number = number -1\n",
    "factorial"
   ]
  },
  {
   "cell_type": "code",
   "execution_count": 7,
   "id": "9d15d1bf-5914-4ba9-8fbf-7b68c6b39257",
   "metadata": {},
   "outputs": [],
   "source": [
    "#Fibonnaci Series\n"
   ]
  },
  {
   "cell_type": "code",
   "execution_count": 9,
   "id": "7fb59acf-85cb-4818-9b70-57e85840def5",
   "metadata": {},
   "outputs": [
    {
     "name": "stdin",
     "output_type": "stream",
     "text": [
      "Enter the number of elements you are looking for:  7\n"
     ]
    },
    {
     "name": "stdout",
     "output_type": "stream",
     "text": [
      "0\n",
      "1\n",
      "1\n",
      "2\n",
      "3\n",
      "5\n",
      "8\n"
     ]
    }
   ],
   "source": [
    "number = int(input(\"Enter the number of elements you are looking for: \"))\n",
    "\n",
    "a, b = 0, 1\n",
    "counter = 0\n",
    "\n",
    "while counter < number:\n",
    "    print(a)\n",
    "    c = a + b\n",
    "    a = b\n",
    "    b = c\n",
    "    counter += 1\n"
   ]
  },
  {
   "cell_type": "code",
   "execution_count": 1,
   "id": "54c6669c-7341-4096-89e4-f5b9670420a1",
   "metadata": {},
   "outputs": [],
   "source": [
    "s= \"Mazid\""
   ]
  },
  {
   "cell_type": "code",
   "execution_count": 2,
   "id": "3877dc41-26f8-4173-8b1a-d804e9c45352",
   "metadata": {},
   "outputs": [
    {
     "name": "stdin",
     "output_type": "stream",
     "text": [
      "Enter the string which you want to reverse fjgf\n"
     ]
    }
   ],
   "source": [
    "word = input(\"Enter the string which you want to reverse\")"
   ]
  },
  {
   "cell_type": "code",
   "execution_count": 4,
   "id": "21603806-d4cb-4185-9694-4af38a88b1ee",
   "metadata": {},
   "outputs": [
    {
     "name": "stdin",
     "output_type": "stream",
     "text": [
      "Enter a word:  Mazid\n"
     ]
    },
    {
     "name": "stdout",
     "output_type": "stream",
     "text": [
      "Reversed word: dizaM\n"
     ]
    }
   ],
   "source": [
    "word = input(\"Enter a word: \")\n",
    "reverse = \"\"\n",
    "length = len(word)\n",
    "\n",
    "while length > 0:\n",
    "    reverse = reverse + word[length - 1]\n",
    "    length = length - 1  # Fixed typo here\n",
    "\n",
    "print(\"Reversed word:\", reverse)\n"
   ]
  },
  {
   "cell_type": "code",
   "execution_count": 5,
   "id": "2478b426-0402-46e2-8bad-eee1173d8bdc",
   "metadata": {},
   "outputs": [],
   "source": [
    "#Table of Numbers\n"
   ]
  },
  {
   "cell_type": "code",
   "execution_count": 1,
   "id": "14311b73-831f-45be-84e3-5753707537f0",
   "metadata": {},
   "outputs": [
    {
     "name": "stdin",
     "output_type": "stream",
     "text": [
      "Enter Your Number 7\n"
     ]
    },
    {
     "name": "stdout",
     "output_type": "stream",
     "text": [
      "7 * 1 = 7\n",
      "7 * 2 = 14\n",
      "7 * 3 = 21\n",
      "7 * 4 = 28\n",
      "7 * 5 = 35\n",
      "7 * 6 = 42\n",
      "7 * 7 = 49\n",
      "7 * 8 = 56\n",
      "7 * 9 = 63\n",
      "7 * 10 = 70\n",
      "7 * 11 = 77\n",
      "7 * 12 = 84\n",
      "7 * 13 = 91\n",
      "7 * 14 = 98\n",
      "7 * 15 = 105\n",
      "7 * 16 = 112\n",
      "7 * 17 = 119\n",
      "7 * 18 = 126\n",
      "7 * 19 = 133\n",
      "7 * 20 = 140\n"
     ]
    }
   ],
   "source": [
    "n = int(input(\"Enter Your Number\"))\n",
    "i =1\n",
    "\n",
    "while i <= 20 :\n",
    "    result = n * i\n",
    "    print(n, \"*\", i, \"=\", result)\n",
    "    i = i + 1"
   ]
  },
  {
   "cell_type": "code",
   "execution_count": 2,
   "id": "275967a1-654c-4c21-9cc6-3bdfae1fb024",
   "metadata": {},
   "outputs": [
    {
     "name": "stdout",
     "output_type": "stream",
     "text": [
      "1\n",
      "2\n",
      "3\n",
      "4\n",
      "This Will be Executed when your while loop will be completed\n"
     ]
    }
   ],
   "source": [
    "n = 5\n",
    "i =1\n",
    "while i < n:\n",
    "    print(i)\n",
    "    i = i+1\n",
    "else:\n",
    "    print(\"This Will be Executed when your while loop will be completed\")"
   ]
  },
  {
   "cell_type": "code",
   "execution_count": 3,
   "id": "38a3d4c1-b040-4532-acea-2d5b33b47696",
   "metadata": {},
   "outputs": [
    {
     "name": "stdout",
     "output_type": "stream",
     "text": [
      "1\n",
      "2\n",
      "3\n"
     ]
    }
   ],
   "source": [
    "n = 5\n",
    "i =1\n",
    "while i < n:\n",
    "    print(i)\n",
    "    if i ==3:\n",
    "        break\n",
    "    i = i+1\n",
    "else:\n",
    "    print(\"This Will be Executed when your while loop will be completed\")"
   ]
  },
  {
   "cell_type": "code",
   "execution_count": null,
   "id": "001dcc59-3f29-4f1f-8687-6f2e1921d5cd",
   "metadata": {},
   "outputs": [],
   "source": []
  }
 ],
 "metadata": {
  "kernelspec": {
   "display_name": "Python 3 (ipykernel)",
   "language": "python",
   "name": "python3"
  },
  "language_info": {
   "codemirror_mode": {
    "name": "ipython",
    "version": 3
   },
   "file_extension": ".py",
   "mimetype": "text/x-python",
   "name": "python",
   "nbconvert_exporter": "python",
   "pygments_lexer": "ipython3",
   "version": "3.10.8"
  }
 },
 "nbformat": 4,
 "nbformat_minor": 5
}
