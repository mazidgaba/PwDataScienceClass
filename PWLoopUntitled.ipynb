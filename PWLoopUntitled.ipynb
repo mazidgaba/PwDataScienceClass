{
 "cells": [
  {
   "cell_type": "code",
   "execution_count": 1,
   "id": "8749dd20-a34c-4184-8708-80e69e083dec",
   "metadata": {},
   "outputs": [],
   "source": [
    "l =[1,3,4,6,7,79]"
   ]
  },
  {
   "cell_type": "code",
   "execution_count": 2,
   "id": "119bf7a0-1ad1-475b-9298-cdaad43784c2",
   "metadata": {},
   "outputs": [
    {
     "name": "stdout",
     "output_type": "stream",
     "text": [
      "1 <class 'list'>\n",
      "3 <class 'list'>\n",
      "4 <class 'list'>\n",
      "6 <class 'list'>\n",
      "7 <class 'list'>\n",
      "79 <class 'list'>\n"
     ]
    }
   ],
   "source": [
    "for i in l:\n",
    "    print(i, type(l))"
   ]
  },
  {
   "cell_type": "code",
   "execution_count": 3,
   "id": "08f8d0a0-6e01-4f5a-9e78-88a1dd562a5b",
   "metadata": {},
   "outputs": [],
   "source": [
    "l = [\"mazid\", \"rashid\", \"nishnat\"]"
   ]
  },
  {
   "cell_type": "code",
   "execution_count": 5,
   "id": "24c6ee6a-0feb-4637-b6de-f5c7577c69fb",
   "metadata": {},
   "outputs": [
    {
     "name": "stdout",
     "output_type": "stream",
     "text": [
      "mazid\n",
      "rashid\n",
      "nishnat\n",
      "this eill be printed after completeting for loop\n"
     ]
    }
   ],
   "source": [
    "for i in l:\n",
    "    print(i)\n",
    "else:\n",
    "    print(\"this Will be printed after completing for loop\")"
   ]
  },
  {
   "cell_type": "code",
   "execution_count": 8,
   "id": "b2f4ade5-507c-4e3c-9cfb-f12e4de5b05b",
   "metadata": {},
   "outputs": [],
   "source": [
    "l1 = [\"saquib\", \"haris\", \"nishant\", \"mazid\"]\n"
   ]
  },
  {
   "cell_type": "code",
   "execution_count": 9,
   "id": "c20347e7-5bc6-4236-8658-56fc142373e4",
   "metadata": {},
   "outputs": [
    {
     "name": "stdout",
     "output_type": "stream",
     "text": [
      "saquib\n",
      "haris\n"
     ]
    }
   ],
   "source": [
    "for i in l1:\n",
    "    if i == \"nishant\":\n",
    "        break\n",
    "    print(i)"
   ]
  },
  {
   "cell_type": "code",
   "execution_count": 12,
   "id": "da68cd10-3b33-410a-b6b9-fba08013833c",
   "metadata": {},
   "outputs": [
    {
     "name": "stdout",
     "output_type": "stream",
     "text": [
      "saquib\n",
      "haris\n"
     ]
    }
   ],
   "source": [
    "for i in l1:\n",
    "    if i == \"nishant\":\n",
    "        break\n",
    "    print(i)\n",
    "else:\n",
    "    print(\"this will complete after the completeing for loop\")"
   ]
  },
  {
   "cell_type": "code",
   "execution_count": 56,
   "id": "cb7ea483-6693-46c5-b0b1-7add8c4893b7",
   "metadata": {},
   "outputs": [
    {
     "data": {
      "text/plain": [
       "['saquib', 'haris', 'nishant', 'mazid']"
      ]
     },
     "execution_count": 56,
     "metadata": {},
     "output_type": "execute_result"
    }
   ],
   "source": [
    "l1\n"
   ]
  },
  {
   "cell_type": "code",
   "execution_count": 57,
   "id": "d0ea6e02-7fca-47b0-87ab-d25d91152191",
   "metadata": {},
   "outputs": [
    {
     "name": "stdout",
     "output_type": "stream",
     "text": [
      "saquib\n",
      "haris\n",
      "mazid\n",
      "this will complete after the completeing for loop\n"
     ]
    }
   ],
   "source": [
    "for i in l1:\n",
    "    if i == \"nishant\":\n",
    "        continue\n",
    "    print(i)\n",
    "else:\n",
    "    print(\"this will complete after the completeing for loop\")"
   ]
  },
  {
   "cell_type": "code",
   "execution_count": 71,
   "id": "b00c9577-a930-4615-b4b1-f2f453a840b2",
   "metadata": {},
   "outputs": [],
   "source": [
    "# If range has been overwritten\n",
    "range = __builtins__.range\n"
   ]
  },
  {
   "cell_type": "code",
   "execution_count": 72,
   "id": "79a59097-93ea-43bd-afda-2925dd6cef3f",
   "metadata": {},
   "outputs": [
    {
     "data": {
      "text/plain": [
       "range(0, 5)"
      ]
     },
     "execution_count": 72,
     "metadata": {},
     "output_type": "execute_result"
    }
   ],
   "source": [
    "range(5)"
   ]
  },
  {
   "cell_type": "code",
   "execution_count": 73,
   "id": "42f476aa-2c46-43c1-b907-a8f92e3ebb20",
   "metadata": {},
   "outputs": [
    {
     "data": {
      "text/plain": [
       "[0, 1, 2, 3, 4]"
      ]
     },
     "execution_count": 73,
     "metadata": {},
     "output_type": "execute_result"
    }
   ],
   "source": [
    "list(range(5))"
   ]
  },
  {
   "cell_type": "code",
   "execution_count": 74,
   "id": "0d42acc0-3fb9-4bf7-a795-cd46e0f766af",
   "metadata": {},
   "outputs": [
    {
     "data": {
      "text/plain": [
       "[0, 4, 8, 12, 16, 20, 24, 28, 32]"
      ]
     },
     "execution_count": 74,
     "metadata": {},
     "output_type": "execute_result"
    }
   ],
   "source": [
    "list(range(0, 35, 4))"
   ]
  },
  {
   "cell_type": "code",
   "execution_count": 75,
   "id": "b2a9096d-d9bb-4d18-8eb1-897c94b460ac",
   "metadata": {},
   "outputs": [
    {
     "data": {
      "text/plain": [
       "[-5, -4, -3, -2, -1]"
      ]
     },
     "execution_count": 75,
     "metadata": {},
     "output_type": "execute_result"
    }
   ],
   "source": [
    "list(range(-5,0))"
   ]
  },
  {
   "cell_type": "code",
   "execution_count": 76,
   "id": "f765ae81-d0a8-4bca-aef5-b1d5dbd31c5c",
   "metadata": {},
   "outputs": [
    {
     "data": {
      "text/plain": [
       "['saquib', 'haris', 'nishant', 'mazid']"
      ]
     },
     "execution_count": 76,
     "metadata": {},
     "output_type": "execute_result"
    }
   ],
   "source": [
    "l1"
   ]
  },
  {
   "cell_type": "code",
   "execution_count": 77,
   "id": "bb6e5a10-ee3f-4167-9c67-543bdf534796",
   "metadata": {},
   "outputs": [
    {
     "data": {
      "text/plain": [
       "4"
      ]
     },
     "execution_count": 77,
     "metadata": {},
     "output_type": "execute_result"
    }
   ],
   "source": [
    "len(l1)"
   ]
  },
  {
   "cell_type": "code",
   "execution_count": 78,
   "id": "d3261474-fd11-49d2-a1a8-93ae9c283a1e",
   "metadata": {},
   "outputs": [
    {
     "data": {
      "text/plain": [
       "[0, 1, 2, 3]"
      ]
     },
     "execution_count": 78,
     "metadata": {},
     "output_type": "execute_result"
    }
   ],
   "source": [
    "list(range(len(l1)))"
   ]
  },
  {
   "cell_type": "code",
   "execution_count": 79,
   "id": "e3aa51e3-4737-4f04-bcc8-4eed70eb6649",
   "metadata": {},
   "outputs": [
    {
     "name": "stdout",
     "output_type": "stream",
     "text": [
      "saquib\n",
      "haris\n",
      "nishant\n",
      "mazid\n"
     ]
    }
   ],
   "source": [
    "for i in range(len(l1)):\n",
    "    print(l1[i])"
   ]
  },
  {
   "cell_type": "code",
   "execution_count": 80,
   "id": "f31d5cb9-13a9-4f6a-8308-6d105321d1a1",
   "metadata": {},
   "outputs": [
    {
     "data": {
      "text/plain": [
       "['saquib', 'haris', 'nishant', 'mazid']"
      ]
     },
     "execution_count": 80,
     "metadata": {},
     "output_type": "execute_result"
    }
   ],
   "source": [
    "l1\n"
   ]
  },
  {
   "cell_type": "code",
   "execution_count": 81,
   "id": "92f8f2ab-03ea-4979-a18e-6cf8e46e77ba",
   "metadata": {},
   "outputs": [
    {
     "data": {
      "text/plain": [
       "[0, 1, 2, 3]"
      ]
     },
     "execution_count": 81,
     "metadata": {},
     "output_type": "execute_result"
    }
   ],
   "source": [
    "list(range(len(l1)))"
   ]
  },
  {
   "cell_type": "code",
   "execution_count": 82,
   "id": "df630328-280e-471a-b445-8e93a1e87d54",
   "metadata": {},
   "outputs": [
    {
     "data": {
      "text/plain": [
       "[3, 2, 1, 0]"
      ]
     },
     "execution_count": 82,
     "metadata": {},
     "output_type": "execute_result"
    }
   ],
   "source": [
    "list(range(len(l1) -1,-1,-1))"
   ]
  },
  {
   "cell_type": "code",
   "execution_count": 83,
   "id": "80da4829-7c3f-48c5-af74-7448c1c95e32",
   "metadata": {},
   "outputs": [
    {
     "data": {
      "text/plain": [
       "['saquib', 'haris', 'nishant', 'mazid']"
      ]
     },
     "execution_count": 83,
     "metadata": {},
     "output_type": "execute_result"
    }
   ],
   "source": [
    "l1"
   ]
  },
  {
   "cell_type": "code",
   "execution_count": 84,
   "id": "d3b7dea9-5339-44dc-96a2-4b34fcbb5793",
   "metadata": {},
   "outputs": [
    {
     "data": {
      "text/plain": [
       "[3, 2, 1, 0]"
      ]
     },
     "execution_count": 84,
     "metadata": {},
     "output_type": "execute_result"
    }
   ],
   "source": [
    "list(range(len(l1) -1,-1,-1))\n"
   ]
  },
  {
   "cell_type": "code",
   "execution_count": 89,
   "id": "c48ff83a-bc58-46ca-adc6-34fd58bf5371",
   "metadata": {},
   "outputs": [
    {
     "name": "stdout",
     "output_type": "stream",
     "text": [
      "mazid\n",
      "nishant\n",
      "haris\n",
      "saquib\n"
     ]
    }
   ],
   "source": [
    "for i in range(len (l1) -1,-1,-1):\n",
    "    print(l1[i])\n"
   ]
  },
  {
   "cell_type": "code",
   "execution_count": 90,
   "id": "e5d8019e-78ce-4363-ad69-db9692d4177a",
   "metadata": {},
   "outputs": [],
   "source": [
    "l2 = [34,4,54,3,2,435,56,77,44,77554,744,74433,6633,7744,74474,74466,67467,462663,33]"
   ]
  },
  {
   "cell_type": "code",
   "execution_count": 94,
   "id": "2a3426ac-b8c5-4e28-89a0-cf17bd20a9f2",
   "metadata": {},
   "outputs": [
    {
     "data": {
      "text/plain": [
       "19"
      ]
     },
     "execution_count": 94,
     "metadata": {},
     "output_type": "execute_result"
    }
   ],
   "source": [
    "len(l2)"
   ]
  },
  {
   "cell_type": "code",
   "execution_count": 97,
   "id": "1e5b643d-4cbe-46a6-9847-94a1e6edb4af",
   "metadata": {},
   "outputs": [
    {
     "data": {
      "text/plain": [
       "[0, 2, 4, 6, 8, 10, 12, 14, 16, 18]"
      ]
     },
     "execution_count": 97,
     "metadata": {},
     "output_type": "execute_result"
    }
   ],
   "source": [
    "list(range(0, len(l2),2))"
   ]
  },
  {
   "cell_type": "code",
   "execution_count": 99,
   "id": "b6f89032-5fcc-46b0-8b38-ebb8057ba3b5",
   "metadata": {},
   "outputs": [
    {
     "name": "stdout",
     "output_type": "stream",
     "text": [
      "34\n",
      "54\n",
      "2\n",
      "56\n",
      "44\n",
      "744\n",
      "6633\n",
      "74474\n",
      "67467\n",
      "33\n"
     ]
    }
   ],
   "source": [
    "for i in range(0, len(l2),2):\n",
    "    print(l2[i])"
   ]
  },
  {
   "cell_type": "code",
   "execution_count": 102,
   "id": "d7289785-6015-45cc-94f7-840665c4b87b",
   "metadata": {},
   "outputs": [],
   "source": [
    "l3= [33,43,432,52,52255,636,3635,635,5356,643,66,363,6363,33]"
   ]
  },
  {
   "cell_type": "code",
   "execution_count": 103,
   "id": "bb83fed4-6814-48a8-92cc-2695280c9253",
   "metadata": {},
   "outputs": [
    {
     "data": {
      "text/plain": [
       "70545"
      ]
     },
     "execution_count": 103,
     "metadata": {},
     "output_type": "execute_result"
    }
   ],
   "source": [
    "sum(l3)"
   ]
  },
  {
   "cell_type": "code",
   "execution_count": 112,
   "id": "60d1096a-3ed5-4982-ad76-1d7e606c3d01",
   "metadata": {},
   "outputs": [
    {
     "data": {
      "text/plain": [
       "[33, 43, 432, 52, 52255, 636, 3635, 635, 5356, 643, 66, 363, 6363, 33]"
      ]
     },
     "execution_count": 112,
     "metadata": {},
     "output_type": "execute_result"
    }
   ],
   "source": [
    "l3"
   ]
  },
  {
   "cell_type": "code",
   "execution_count": 113,
   "id": "d2815199-2b94-45a2-8ba9-4047925d5a92",
   "metadata": {},
   "outputs": [
    {
     "data": {
      "text/plain": [
       "70545"
      ]
     },
     "execution_count": 113,
     "metadata": {},
     "output_type": "execute_result"
    }
   ],
   "source": [
    "result = 0\n",
    "for i in l3:\n",
    "    result = result+i\n",
    "result"
   ]
  },
  {
   "cell_type": "code",
   "execution_count": 114,
   "id": "4f6fbb1e-e621-46d4-a7bc-f45a38787c2f",
   "metadata": {},
   "outputs": [],
   "source": [
    "t = (2,3,4,23,41,4,42,2)"
   ]
  },
  {
   "cell_type": "code",
   "execution_count": 115,
   "id": "de2524d6-fe1f-415d-837a-4226a7ba2438",
   "metadata": {},
   "outputs": [
    {
     "name": "stdout",
     "output_type": "stream",
     "text": [
      "2\n",
      "3\n",
      "4\n",
      "23\n",
      "41\n",
      "4\n",
      "42\n",
      "2\n"
     ]
    }
   ],
   "source": [
    "for i in t:\n",
    "    print(i)"
   ]
  },
  {
   "cell_type": "code",
   "execution_count": 116,
   "id": "41390abb-42e0-44ec-a7c6-85d5da5b8d52",
   "metadata": {},
   "outputs": [
    {
     "data": {
      "text/plain": [
       "121"
      ]
     },
     "execution_count": 116,
     "metadata": {},
     "output_type": "execute_result"
    }
   ],
   "source": [
    "result = 0\n",
    "for i in t:\n",
    "    result = result+i\n",
    "result"
   ]
  },
  {
   "cell_type": "code",
   "execution_count": 117,
   "id": "028bd649-5391-4a3a-b9f3-44e3ab4a82f5",
   "metadata": {},
   "outputs": [],
   "source": [
    "s = {432,343,422,\"mazdid\", \"dada\"}"
   ]
  },
  {
   "cell_type": "code",
   "execution_count": 118,
   "id": "6b023072-d7fc-404c-8bba-46b6e601375b",
   "metadata": {},
   "outputs": [
    {
     "name": "stdout",
     "output_type": "stream",
     "text": [
      "432\n",
      "422\n",
      "mazdid\n",
      "dada\n",
      "343\n"
     ]
    }
   ],
   "source": [
    "for i in s:\n",
    "    print(i)"
   ]
  },
  {
   "cell_type": "code",
   "execution_count": 119,
   "id": "03e09200-af55-466c-b233-28c8a40e4d5b",
   "metadata": {},
   "outputs": [],
   "source": [
    "st = \"mazid\""
   ]
  },
  {
   "cell_type": "code",
   "execution_count": 120,
   "id": "b117578b-72f3-402c-bc20-fd27851e5b45",
   "metadata": {},
   "outputs": [
    {
     "name": "stdout",
     "output_type": "stream",
     "text": [
      "m\n",
      "a\n",
      "z\n",
      "i\n",
      "d\n"
     ]
    }
   ],
   "source": [
    "for i in st:\n",
    "    print(i)"
   ]
  },
  {
   "cell_type": "code",
   "execution_count": 121,
   "id": "a0e98249-3554-4853-894f-9020f6020fc6",
   "metadata": {},
   "outputs": [],
   "source": [
    "d = {\"name\":\"mazid\", \"class\" : \"M Teach\",\"topic\" : [\"DS\", \"CS\", \"ML\"]} "
   ]
  },
  {
   "cell_type": "code",
   "execution_count": 122,
   "id": "5f0c3d51-b969-4ab4-8fe4-347ad7cba959",
   "metadata": {},
   "outputs": [
    {
     "data": {
      "text/plain": [
       "{'name': 'mazid', 'class': 'M Teach', 'topic': ['DS', 'CS', 'ML']}"
      ]
     },
     "execution_count": 122,
     "metadata": {},
     "output_type": "execute_result"
    }
   ],
   "source": [
    "d"
   ]
  },
  {
   "cell_type": "code",
   "execution_count": 123,
   "id": "769c3985-5a68-463b-b560-8b4b25532119",
   "metadata": {},
   "outputs": [
    {
     "data": {
      "text/plain": [
       "'mazid'"
      ]
     },
     "execution_count": 123,
     "metadata": {},
     "output_type": "execute_result"
    }
   ],
   "source": [
    "d[\"name\"]"
   ]
  },
  {
   "cell_type": "code",
   "execution_count": 125,
   "id": "e5af9d5f-4bc7-43e1-a605-13239d114ef5",
   "metadata": {},
   "outputs": [
    {
     "data": {
      "text/plain": [
       "dict_keys(['name', 'class', 'topic'])"
      ]
     },
     "execution_count": 125,
     "metadata": {},
     "output_type": "execute_result"
    }
   ],
   "source": [
    "d.keys()"
   ]
  },
  {
   "cell_type": "code",
   "execution_count": 127,
   "id": "7c21501f-a047-4051-ad4c-ab40f4d4bc3c",
   "metadata": {},
   "outputs": [
    {
     "name": "stdout",
     "output_type": "stream",
     "text": [
      "mazid\n",
      "M Teach\n",
      "['DS', 'CS', 'ML']\n"
     ]
    }
   ],
   "source": [
    "for i in d.keys():\n",
    "    print(d[i])"
   ]
  },
  {
   "cell_type": "code",
   "execution_count": 128,
   "id": "e26718e3-e445-4c5e-83f9-5ba38edac5e2",
   "metadata": {},
   "outputs": [
    {
     "data": {
      "text/plain": [
       "dict_values(['mazid', 'M Teach', ['DS', 'CS', 'ML']])"
      ]
     },
     "execution_count": 128,
     "metadata": {},
     "output_type": "execute_result"
    }
   ],
   "source": [
    "d.values()"
   ]
  },
  {
   "cell_type": "code",
   "execution_count": 130,
   "id": "092d8507-1979-4657-9b64-724f89cfafb3",
   "metadata": {},
   "outputs": [
    {
     "name": "stdout",
     "output_type": "stream",
     "text": [
      "mazid\n",
      "M Teach\n",
      "['DS', 'CS', 'ML']\n"
     ]
    }
   ],
   "source": [
    "for i in d.values():\n",
    "    print(i)"
   ]
  },
  {
   "cell_type": "code",
   "execution_count": 131,
   "id": "2050c709-ab74-40f9-a226-dd91444f4379",
   "metadata": {},
   "outputs": [
    {
     "data": {
      "text/plain": [
       "dict_items([('name', 'mazid'), ('class', 'M Teach'), ('topic', ['DS', 'CS', 'ML'])])"
      ]
     },
     "execution_count": 131,
     "metadata": {},
     "output_type": "execute_result"
    }
   ],
   "source": [
    "d.items()"
   ]
  },
  {
   "cell_type": "code",
   "execution_count": 132,
   "id": "5df3ef65-af8c-469f-81dd-fc2450feb060",
   "metadata": {},
   "outputs": [
    {
     "name": "stdout",
     "output_type": "stream",
     "text": [
      "('name', 'mazid')\n",
      "('class', 'M Teach')\n",
      "('topic', ['DS', 'CS', 'ML'])\n"
     ]
    }
   ],
   "source": [
    "for i in d.items():\n",
    "    print(i)"
   ]
  },
  {
   "cell_type": "code",
   "execution_count": null,
   "id": "c093cbb5-5ba6-4c40-996f-afd8cad06ce3",
   "metadata": {},
   "outputs": [],
   "source": []
  }
 ],
 "metadata": {
  "kernelspec": {
   "display_name": "Python 3 (ipykernel)",
   "language": "python",
   "name": "python3"
  },
  "language_info": {
   "codemirror_mode": {
    "name": "ipython",
    "version": 3
   },
   "file_extension": ".py",
   "mimetype": "text/x-python",
   "name": "python",
   "nbconvert_exporter": "python",
   "pygments_lexer": "ipython3",
   "version": "3.10.8"
  }
 },
 "nbformat": 4,
 "nbformat_minor": 5
}
