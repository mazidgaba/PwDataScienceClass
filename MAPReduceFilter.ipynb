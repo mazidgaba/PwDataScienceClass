{
 "cells": [
  {
   "cell_type": "code",
   "execution_count": 9,
   "id": "6f2084c9-0c53-43f5-aff6-5741730593c3",
   "metadata": {},
   "outputs": [],
   "source": [
    "l = [2,2,4,45,3,63]"
   ]
  },
  {
   "cell_type": "code",
   "execution_count": 12,
   "id": "1a4b1121-32e3-440e-a93b-2f224ca651eb",
   "metadata": {},
   "outputs": [],
   "source": [
    "def test (l):\n",
    "    l1= []\n",
    "    for i in l:\n",
    "        l1.append(i**2)\n",
    "    return l1"
   ]
  },
  {
   "cell_type": "code",
   "execution_count": 13,
   "id": "1aacfbf1-b4c1-46d7-b94d-0772b5745db4",
   "metadata": {},
   "outputs": [
    {
     "data": {
      "text/plain": [
       "[4, 4, 16, 2025, 9, 3969]"
      ]
     },
     "execution_count": 13,
     "metadata": {},
     "output_type": "execute_result"
    }
   ],
   "source": [
    "test(l)"
   ]
  },
  {
   "cell_type": "code",
   "execution_count": 14,
   "id": "bd93db8f-35a7-4034-bbe3-722acb82497f",
   "metadata": {},
   "outputs": [],
   "source": [
    "def sq(x):\n",
    "    return x**2"
   ]
  },
  {
   "cell_type": "code",
   "execution_count": 15,
   "id": "0529bd4c-a859-4f5b-a2ba-7db22294bb5c",
   "metadata": {},
   "outputs": [
    {
     "data": {
      "text/plain": [
       "[4, 4, 16, 2025, 9, 3969]"
      ]
     },
     "execution_count": 15,
     "metadata": {},
     "output_type": "execute_result"
    }
   ],
   "source": [
    "list(map(sq, l)) "
   ]
  },
  {
   "cell_type": "code",
   "execution_count": 16,
   "id": "0e02a3a1-9232-4bfd-8447-00cc9bd119e8",
   "metadata": {},
   "outputs": [
    {
     "data": {
      "text/plain": [
       "[4, 4, 16, 2025, 9, 3969]"
      ]
     },
     "execution_count": 16,
     "metadata": {},
     "output_type": "execute_result"
    }
   ],
   "source": [
    "list(map(lambda x : x**2, l))"
   ]
  },
  {
   "cell_type": "code",
   "execution_count": 17,
   "id": "4ba6edf2-3d66-4bed-98fb-cbd17a8bffd0",
   "metadata": {},
   "outputs": [
    {
     "data": {
      "text/plain": [
       "[4, 8, 10, 13, 16, 15, 15]"
      ]
     },
     "execution_count": 17,
     "metadata": {},
     "output_type": "execute_result"
    }
   ],
   "source": [
    "l1 = [1,4,5,6,8,8,9]\n",
    "l2 =[3,4,5,7,8,7,6]\n",
    "\n",
    "list(map(lambda x, y : x+y, l1, l2))"
   ]
  },
  {
   "cell_type": "code",
   "execution_count": 18,
   "id": "51ee4586-e96a-4765-a045-a98b0c6efade",
   "metadata": {},
   "outputs": [],
   "source": [
    "def add (x, y):\n",
    "    return x+y"
   ]
  },
  {
   "cell_type": "code",
   "execution_count": 19,
   "id": "b1366494-3012-4e12-9f8a-058e73be9cbf",
   "metadata": {},
   "outputs": [
    {
     "data": {
      "text/plain": [
       "[4, 8, 10, 13, 16, 15, 15]"
      ]
     },
     "execution_count": 19,
     "metadata": {},
     "output_type": "execute_result"
    }
   ],
   "source": [
    "list(map( add, l1, l2))"
   ]
  },
  {
   "cell_type": "code",
   "execution_count": 20,
   "id": "7ebf3f0f-6e7d-4eee-90d2-f10bb399de63",
   "metadata": {},
   "outputs": [
    {
     "data": {
      "text/plain": [
       "['M', 'A', 'Z', 'I', 'D']"
      ]
     },
     "execution_count": 20,
     "metadata": {},
     "output_type": "execute_result"
    }
   ],
   "source": [
    "s = \"mazid\"\n",
    "list(map(lambda s : s.upper(), s))"
   ]
  },
  {
   "cell_type": "code",
   "execution_count": 22,
   "id": "83219fbd-cd61-41e4-add1-db1b65693fc0",
   "metadata": {},
   "outputs": [],
   "source": [
    "from functools import reduce\n"
   ]
  },
  {
   "cell_type": "code",
   "execution_count": 23,
   "id": "e2f940e8-cdbc-4da1-be59-a5ea36be775b",
   "metadata": {},
   "outputs": [],
   "source": [
    "l = [1,3,4,5,6,7,6,6]\n"
   ]
  },
  {
   "cell_type": "code",
   "execution_count": 24,
   "id": "83306c94-8956-4bb5-bf22-c8985111c2dc",
   "metadata": {},
   "outputs": [
    {
     "data": {
      "text/plain": [
       "38"
      ]
     },
     "execution_count": 24,
     "metadata": {},
     "output_type": "execute_result"
    }
   ],
   "source": [
    "reduce(lambda x, y : x+y, l)"
   ]
  },
  {
   "cell_type": "code",
   "execution_count": 25,
   "id": "5c616e93-4424-476b-a33a-5cf5b3b3b6c7",
   "metadata": {},
   "outputs": [
    {
     "data": {
      "text/plain": [
       "90720"
      ]
     },
     "execution_count": 25,
     "metadata": {},
     "output_type": "execute_result"
    }
   ],
   "source": [
    "reduce(lambda x, y : x*y, l)"
   ]
  },
  {
   "cell_type": "code",
   "execution_count": 27,
   "id": "f1ed7ec7-3774-4b92-9754-042e56295121",
   "metadata": {},
   "outputs": [
    {
     "data": {
      "text/plain": [
       "[1, 3, 4, 5, 6, 7, 6, 6]"
      ]
     },
     "execution_count": 27,
     "metadata": {},
     "output_type": "execute_result"
    }
   ],
   "source": [
    "l"
   ]
  },
  {
   "cell_type": "code",
   "execution_count": 28,
   "id": "3d7e41c3-6978-4916-aebf-6a264a1c35f9",
   "metadata": {},
   "outputs": [
    {
     "data": {
      "text/plain": [
       "7"
      ]
     },
     "execution_count": 28,
     "metadata": {},
     "output_type": "execute_result"
    }
   ],
   "source": [
    "reduce(lambda x,y : x if x>y else y, l)"
   ]
  },
  {
   "cell_type": "code",
   "execution_count": 30,
   "id": "0309d1c9-976d-48c0-9504-68b3581a77e6",
   "metadata": {},
   "outputs": [
    {
     "data": {
      "text/plain": [
       "[4, 6, 6, 6]"
      ]
     },
     "execution_count": 30,
     "metadata": {},
     "output_type": "execute_result"
    }
   ],
   "source": [
    "list(filter(lambda x : x % 2 == 0, l))"
   ]
  },
  {
   "cell_type": "code",
   "execution_count": 31,
   "id": "dc73be3d-4efe-4d24-aaee-6399eb5d0f25",
   "metadata": {},
   "outputs": [
    {
     "data": {
      "text/plain": [
       "[1, 3, 5, 7]"
      ]
     },
     "execution_count": 31,
     "metadata": {},
     "output_type": "execute_result"
    }
   ],
   "source": [
    "list(filter(lambda x : x % 2 != 0, l))"
   ]
  },
  {
   "cell_type": "code",
   "execution_count": 36,
   "id": "99477407-7a44-45da-86db-bb5e7a0e676a",
   "metadata": {},
   "outputs": [],
   "source": [
    "l1 = [-3,4,5,6-1,-5]"
   ]
  },
  {
   "cell_type": "code",
   "execution_count": 37,
   "id": "4126fcc0-c868-487c-8362-c62978b3685c",
   "metadata": {},
   "outputs": [
    {
     "data": {
      "text/plain": [
       "[-3, -5]"
      ]
     },
     "execution_count": 37,
     "metadata": {},
     "output_type": "execute_result"
    }
   ],
   "source": [
    "list(filter(lambda x :x<0, l1))"
   ]
  },
  {
   "cell_type": "code",
   "execution_count": 38,
   "id": "2823cbde-6511-40e5-ada5-a01dfbf48155",
   "metadata": {},
   "outputs": [],
   "source": [
    "l2 = [\"mazid\", \"gulam\", \"Saquib\"]"
   ]
  },
  {
   "cell_type": "code",
   "execution_count": 39,
   "id": "d7d1427b-a25d-4489-9ff8-b11284476a03",
   "metadata": {},
   "outputs": [
    {
     "data": {
      "text/plain": [
       "['mazid', 'gulam']"
      ]
     },
     "execution_count": 39,
     "metadata": {},
     "output_type": "execute_result"
    }
   ],
   "source": [
    "list(filter(lambda x : len(x)<6,l2))"
   ]
  },
  {
   "cell_type": "code",
   "execution_count": null,
   "id": "7391fafa-b99a-4594-b492-18fb5f271792",
   "metadata": {},
   "outputs": [],
   "source": []
  },
  {
   "cell_type": "code",
   "execution_count": null,
   "id": "ec641d8f-4d5e-45c6-bf8f-b59ee1960256",
   "metadata": {},
   "outputs": [],
   "source": []
  },
  {
   "cell_type": "code",
   "execution_count": null,
   "id": "7878dab7-1362-4c1f-97d4-7d961ef924a1",
   "metadata": {},
   "outputs": [],
   "source": [
    "ff"
   ]
  }
 ],
 "metadata": {
  "kernelspec": {
   "display_name": "Python 3 (ipykernel)",
   "language": "python",
   "name": "python3"
  },
  "language_info": {
   "codemirror_mode": {
    "name": "ipython",
    "version": 3
   },
   "file_extension": ".py",
   "mimetype": "text/x-python",
   "name": "python",
   "nbconvert_exporter": "python",
   "pygments_lexer": "ipython3",
   "version": "3.10.8"
  }
 },
 "nbformat": 4,
 "nbformat_minor": 5
}
