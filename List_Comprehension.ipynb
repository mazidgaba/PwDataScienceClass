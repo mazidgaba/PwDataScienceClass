{
 "cells": [
  {
   "cell_type": "code",
   "execution_count": 1,
   "id": "6269a49c-e615-4291-9804-0c0a2e0de40e",
   "metadata": {},
   "outputs": [],
   "source": [
    "l = [1,2,3,4,4,5,6,78,5]\n",
    "l1 = []\n",
    "for i in l:\n",
    "    l1.append(i**2)"
   ]
  },
  {
   "cell_type": "code",
   "execution_count": 2,
   "id": "dc6525c2-3875-4369-b9b7-287fc4fd9e05",
   "metadata": {},
   "outputs": [
    {
     "data": {
      "text/plain": [
       "[1, 4, 9, 16, 16, 25, 36, 6084, 25]"
      ]
     },
     "execution_count": 2,
     "metadata": {},
     "output_type": "execute_result"
    }
   ],
   "source": [
    "l1\n"
   ]
  },
  {
   "cell_type": "code",
   "execution_count": 6,
   "id": "9b196e2b-d8d5-44da-8159-cd546f081e66",
   "metadata": {},
   "outputs": [
    {
     "data": {
      "text/plain": [
       "[1, 4, 9, 16, 16, 25, 36, 6084, 25]"
      ]
     },
     "execution_count": 6,
     "metadata": {},
     "output_type": "execute_result"
    }
   ],
   "source": [
    "[i**2 for i in l]"
   ]
  },
  {
   "cell_type": "code",
   "execution_count": 7,
   "id": "d9f62247-7bf6-4d15-a429-499b54929aef",
   "metadata": {},
   "outputs": [
    {
     "data": {
      "text/plain": [
       "[2, 4, 4, 6, 78]"
      ]
     },
     "execution_count": 7,
     "metadata": {},
     "output_type": "execute_result"
    }
   ],
   "source": [
    "[i for i in l if i % 2 ==0]"
   ]
  },
  {
   "cell_type": "code",
   "execution_count": 8,
   "id": "6cad5fbf-635b-4c35-a148-3307194c8259",
   "metadata": {},
   "outputs": [],
   "source": [
    "l2= [ \"mazid\", \"harsis\", \"dewf\"] "
   ]
  },
  {
   "cell_type": "code",
   "execution_count": 17,
   "id": "d3fdb651-3729-4390-be9b-32d5efe0c529",
   "metadata": {},
   "outputs": [
    {
     "data": {
      "text/plain": [
       "['MAZID', 'HARSIS', 'DEWF']"
      ]
     },
     "execution_count": 17,
     "metadata": {},
     "output_type": "execute_result"
    }
   ],
   "source": [
    "[i.upper() for i in  l2]"
   ]
  },
  {
   "cell_type": "code",
   "execution_count": null,
   "id": "e406f75f-56c7-49d3-9e9c-b011eaec3830",
   "metadata": {},
   "outputs": [],
   "source": []
  }
 ],
 "metadata": {
  "kernelspec": {
   "display_name": "Python 3 (ipykernel)",
   "language": "python",
   "name": "python3"
  },
  "language_info": {
   "codemirror_mode": {
    "name": "ipython",
    "version": 3
   },
   "file_extension": ".py",
   "mimetype": "text/x-python",
   "name": "python",
   "nbconvert_exporter": "python",
   "pygments_lexer": "ipython3",
   "version": "3.10.8"
  }
 },
 "nbformat": 4,
 "nbformat_minor": 5
}
