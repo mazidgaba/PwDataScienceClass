{
 "cells": [
  {
   "cell_type": "code",
   "execution_count": 7,
   "id": "79fca92e-61e4-4176-aa4a-1b5c0506aafc",
   "metadata": {},
   "outputs": [],
   "source": [
    "class test:\n",
    "    def __init__(self, a, b):\n",
    "        self.a = a\n",
    "        self.b =b"
   ]
  },
  {
   "cell_type": "code",
   "execution_count": 8,
   "id": "dbbbddd5-d123-4d66-bd11-64d267ce63be",
   "metadata": {},
   "outputs": [],
   "source": [
    "t = test (23,34)\n"
   ]
  },
  {
   "cell_type": "code",
   "execution_count": 9,
   "id": "fce3f6f9-20b1-4413-b049-c6e00f426a88",
   "metadata": {},
   "outputs": [],
   "source": [
    "t.a = 6735347"
   ]
  },
  {
   "cell_type": "code",
   "execution_count": 10,
   "id": "d4698fb3-d9c3-41ce-a6b5-313a91ae411f",
   "metadata": {},
   "outputs": [
    {
     "data": {
      "text/plain": [
       "6735347"
      ]
     },
     "execution_count": 10,
     "metadata": {},
     "output_type": "execute_result"
    }
   ],
   "source": [
    "t.a"
   ]
  },
  {
   "cell_type": "code",
   "execution_count": 38,
   "id": "762b1577-849f-4f9b-a2dd-f544c776904c",
   "metadata": {},
   "outputs": [],
   "source": [
    "class car:\n",
    "    def __init__(self, year, make, model, speed):\n",
    "        self.__year = year\n",
    "        self.__make = make\n",
    "        self.__model = model\n",
    "        self.__speed = 0\n",
    "        \n",
    "    def set_speed(self, speed):\n",
    "        self.__Speed = 0 if speed < 0 else speed\n",
    "        \n",
    "    def get_speed(self):\n",
    "        return self.__speed"
   ]
  },
  {
   "cell_type": "code",
   "execution_count": 39,
   "id": "4e5462de-8f07-4754-9883-890eb717b908",
   "metadata": {},
   "outputs": [],
   "source": [
    "c= car(2024, \"Toyota\", \"LandCRuiser\", 12)"
   ]
  },
  {
   "cell_type": "code",
   "execution_count": 40,
   "id": "64b44d57-3eeb-4222-bea7-6e950a3fae48",
   "metadata": {},
   "outputs": [
    {
     "data": {
      "text/plain": [
       "2024"
      ]
     },
     "execution_count": 40,
     "metadata": {},
     "output_type": "execute_result"
    }
   ],
   "source": [
    "c._car__year"
   ]
  },
  {
   "cell_type": "code",
   "execution_count": 41,
   "id": "ecbb0e51-56c8-41c6-aa52-87a2062a420f",
   "metadata": {},
   "outputs": [],
   "source": [
    "c.set_speed(-333)"
   ]
  },
  {
   "cell_type": "code",
   "execution_count": 42,
   "id": "2f9730ce-80fc-4f21-8d6b-aca72bf0a57d",
   "metadata": {},
   "outputs": [
    {
     "data": {
      "text/plain": [
       "0"
      ]
     },
     "execution_count": 42,
     "metadata": {},
     "output_type": "execute_result"
    }
   ],
   "source": [
    "c.get_speed()"
   ]
  },
  {
   "cell_type": "code",
   "execution_count": 45,
   "id": "935df88d-fb03-4a07-9327-57fb6ea8a43a",
   "metadata": {},
   "outputs": [],
   "source": [
    "c.set_speed(38)"
   ]
  },
  {
   "cell_type": "code",
   "execution_count": 46,
   "id": "f6f663d4-31e2-4467-a0b2-b7784ecfd433",
   "metadata": {},
   "outputs": [
    {
     "data": {
      "text/plain": [
       "0"
      ]
     },
     "execution_count": 46,
     "metadata": {},
     "output_type": "execute_result"
    }
   ],
   "source": [
    "c.get_speed()"
   ]
  },
  {
   "cell_type": "code",
   "execution_count": 52,
   "id": "c3475541-ccb7-4273-98ce-e687cf00361f",
   "metadata": {},
   "outputs": [],
   "source": [
    "class bank_account:\n",
    "    def __init__(self, balance):\n",
    "        self.__balance = balance\n",
    "        \n",
    "    def deposit(self, amount):\n",
    "            self.__balance = self.__balance + amount\n",
    "            \n",
    "    def withdraw(self, amount):\n",
    "            if self.__balance >= amount:\n",
    "                self.__balance = self.__balance - amount\n",
    "                return True\n",
    "            else:\n",
    "                return False\n",
    "    def get_balance(self):\n",
    "            return self.__balance"
   ]
  },
  {
   "cell_type": "code",
   "execution_count": 53,
   "id": "e4bd7fe9-fec4-4ffe-9889-1c6395ba3e8b",
   "metadata": {},
   "outputs": [],
   "source": [
    "mazid = bank_account (343)"
   ]
  },
  {
   "cell_type": "code",
   "execution_count": 54,
   "id": "93da6b3f-7a4b-407e-bb0a-94ca4762ff98",
   "metadata": {},
   "outputs": [
    {
     "data": {
      "text/plain": [
       "343"
      ]
     },
     "execution_count": 54,
     "metadata": {},
     "output_type": "execute_result"
    }
   ],
   "source": [
    "mazid.get_balance()"
   ]
  },
  {
   "cell_type": "code",
   "execution_count": 55,
   "id": "1952da89-9278-48e5-9d0c-68b850c8deb2",
   "metadata": {},
   "outputs": [],
   "source": [
    "mazid.deposit(44333)"
   ]
  },
  {
   "cell_type": "code",
   "execution_count": 56,
   "id": "6ac207a4-7073-4096-a8e8-f0ffa6b874bf",
   "metadata": {},
   "outputs": [
    {
     "data": {
      "text/plain": [
       "44676"
      ]
     },
     "execution_count": 56,
     "metadata": {},
     "output_type": "execute_result"
    }
   ],
   "source": [
    "mazid.get_balance()"
   ]
  },
  {
   "cell_type": "code",
   "execution_count": 58,
   "id": "cf563b73-fa04-458f-aad2-26bf4eed77cb",
   "metadata": {},
   "outputs": [
    {
     "data": {
      "text/plain": [
       "True"
      ]
     },
     "execution_count": 58,
     "metadata": {},
     "output_type": "execute_result"
    }
   ],
   "source": [
    "mazid.withdraw(5333)"
   ]
  },
  {
   "cell_type": "code",
   "execution_count": 59,
   "id": "7c0a5dd6-3943-4eb5-b61b-f2cadaa1b966",
   "metadata": {},
   "outputs": [
    {
     "data": {
      "text/plain": [
       "39343"
      ]
     },
     "execution_count": 59,
     "metadata": {},
     "output_type": "execute_result"
    }
   ],
   "source": [
    "mazid.get_balance()"
   ]
  },
  {
   "cell_type": "code",
   "execution_count": 60,
   "id": "4c33d4b6-40c7-4cf2-8aa3-867055f6282a",
   "metadata": {},
   "outputs": [
    {
     "data": {
      "text/plain": [
       "False"
      ]
     },
     "execution_count": 60,
     "metadata": {},
     "output_type": "execute_result"
    }
   ],
   "source": [
    "mazid.withdraw(58333)"
   ]
  },
  {
   "cell_type": "code",
   "execution_count": 61,
   "id": "f6288ad9-59fd-4ac5-86b3-c25f81960053",
   "metadata": {},
   "outputs": [
    {
     "data": {
      "text/plain": [
       "39343"
      ]
     },
     "execution_count": 61,
     "metadata": {},
     "output_type": "execute_result"
    }
   ],
   "source": [
    "mazid.get_balance()"
   ]
  },
  {
   "cell_type": "code",
   "execution_count": 62,
   "id": "c09bfbb2-1d43-412e-bb61-23dd1a740c54",
   "metadata": {},
   "outputs": [],
   "source": [
    "mazid.deposit(44333)"
   ]
  },
  {
   "cell_type": "code",
   "execution_count": 63,
   "id": "83b3b15b-503f-49df-8ee3-6fa036f16a4c",
   "metadata": {},
   "outputs": [
    {
     "data": {
      "text/plain": [
       "83676"
      ]
     },
     "execution_count": 63,
     "metadata": {},
     "output_type": "execute_result"
    }
   ],
   "source": [
    "mazid.get_balance()"
   ]
  },
  {
   "cell_type": "code",
   "execution_count": null,
   "id": "a1e93a8d-1dc5-4263-9c30-8326efef229b",
   "metadata": {},
   "outputs": [],
   "source": []
  }
 ],
 "metadata": {
  "kernelspec": {
   "display_name": "Python 3 (ipykernel)",
   "language": "python",
   "name": "python3"
  },
  "language_info": {
   "codemirror_mode": {
    "name": "ipython",
    "version": 3
   },
   "file_extension": ".py",
   "mimetype": "text/x-python",
   "name": "python",
   "nbconvert_exporter": "python",
   "pygments_lexer": "ipython3",
   "version": "3.10.8"
  }
 },
 "nbformat": 4,
 "nbformat_minor": 5
}
