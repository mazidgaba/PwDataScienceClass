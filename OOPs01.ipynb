{
 "cells": [
  {
   "cell_type": "code",
   "execution_count": 1,
   "id": "2768bd55-9a00-4106-b262-1877089a1634",
   "metadata": {},
   "outputs": [],
   "source": [
    "a = 1"
   ]
  },
  {
   "cell_type": "code",
   "execution_count": 2,
   "id": "66aad852-b3df-47d6-a8b7-660bf9fdc78f",
   "metadata": {},
   "outputs": [
    {
     "name": "stdout",
     "output_type": "stream",
     "text": [
      "<class 'int'>\n"
     ]
    }
   ],
   "source": [
    "print(type(a))"
   ]
  },
  {
   "cell_type": "code",
   "execution_count": 3,
   "id": "38551b80-94ac-4aaf-aa83-858e469f3d55",
   "metadata": {},
   "outputs": [
    {
     "name": "stdout",
     "output_type": "stream",
     "text": [
      "<class 'str'>\n"
     ]
    }
   ],
   "source": [
    "print(type(\"mazid\"))"
   ]
  },
  {
   "cell_type": "code",
   "execution_count": 4,
   "id": "efd7595f-d874-4b7a-919f-486552749263",
   "metadata": {},
   "outputs": [],
   "source": [
    "class test:\n",
    "    pass"
   ]
  },
  {
   "cell_type": "code",
   "execution_count": 5,
   "id": "efbd8aec-8fea-4297-a7d3-8254fac39ea8",
   "metadata": {},
   "outputs": [],
   "source": [
    "a = test()"
   ]
  },
  {
   "cell_type": "code",
   "execution_count": 6,
   "id": "2e0a1feb-642e-461d-9a11-d2705cd5bbab",
   "metadata": {},
   "outputs": [
    {
     "data": {
      "text/plain": [
       "__main__.test"
      ]
     },
     "execution_count": 6,
     "metadata": {},
     "output_type": "execute_result"
    }
   ],
   "source": [
    "type(a)"
   ]
  },
  {
   "cell_type": "code",
   "execution_count": 8,
   "id": "449a847f-d7f8-4c84-a3da-cf869bff16d8",
   "metadata": {},
   "outputs": [
    {
     "name": "stdout",
     "output_type": "stream",
     "text": [
      "<class '__main__.test'>\n"
     ]
    }
   ],
   "source": [
    "print(type(a))"
   ]
  },
  {
   "cell_type": "code",
   "execution_count": 21,
   "id": "2fc58938-7808-4739-b2e0-4a1bfe6a88a8",
   "metadata": {},
   "outputs": [],
   "source": [
    "class Mazid:\n",
    "    def welcome_msg(self):\n",
    "        print(\"Welcome to class\")"
   ]
  },
  {
   "cell_type": "code",
   "execution_count": 22,
   "id": "b9c2b68b-6093-410b-8bae-946ab2190ac2",
   "metadata": {},
   "outputs": [],
   "source": [
    "gaba = Mazid()"
   ]
  },
  {
   "cell_type": "code",
   "execution_count": 23,
   "id": "1ff4491a-3325-4958-b328-d463dc938a26",
   "metadata": {},
   "outputs": [
    {
     "name": "stdout",
     "output_type": "stream",
     "text": [
      "<class '__main__.Mazid'>\n"
     ]
    }
   ],
   "source": [
    "print(type(gaba))"
   ]
  },
  {
   "cell_type": "code",
   "execution_count": 24,
   "id": "2311f0a5-5f8a-4227-9ece-6470fc7c9186",
   "metadata": {},
   "outputs": [
    {
     "name": "stdout",
     "output_type": "stream",
     "text": [
      "Welcome to class\n"
     ]
    }
   ],
   "source": [
    "gaba.welcome_msg()"
   ]
  },
  {
   "cell_type": "code",
   "execution_count": 28,
   "id": "387e9e69-cea9-4b86-8323-bafad67800fb",
   "metadata": {},
   "outputs": [],
   "source": [
    "class gaba:\n",
    "    def __init__(self , ph_no, email_id, std_id):\n",
    "        self.ph_no = ph_no\n",
    "        self.email_id = email_id\n",
    "        self.std_id = std_id\n",
    "    \n",
    "    def return_student_details(self):\n",
    "        return self.std_id, self.ph_no, self.email_id"
   ]
  },
  {
   "cell_type": "code",
   "execution_count": 29,
   "id": "7dd7e637-a52f-4220-8b7f-cd4bc70ed948",
   "metadata": {},
   "outputs": [
    {
     "ename": "NameError",
     "evalue": "name 'gaba1' is not defined",
     "output_type": "error",
     "traceback": [
      "\u001b[0;31m---------------------------------------------------------------------------\u001b[0m",
      "\u001b[0;31mNameError\u001b[0m                                 Traceback (most recent call last)",
      "Cell \u001b[0;32mIn[29], line 1\u001b[0m\n\u001b[0;32m----> 1\u001b[0m mazid \u001b[38;5;241m=\u001b[39m \u001b[43mgaba1\u001b[49m()\n",
      "\u001b[0;31mNameError\u001b[0m: name 'gaba1' is not defined"
     ]
    }
   ],
   "source": [
    "mazid = gaba1()"
   ]
  },
  {
   "cell_type": "code",
   "execution_count": 30,
   "id": "9ac49d2d-c673-4431-a3f7-b0893d4454e5",
   "metadata": {},
   "outputs": [],
   "source": [
    "mazid = gaba(32323222,\"dhdfhw@gmail.com\", 43221)"
   ]
  },
  {
   "cell_type": "code",
   "execution_count": 31,
   "id": "5a876a5e-75c2-4e52-9180-e11a6324b724",
   "metadata": {},
   "outputs": [
    {
     "data": {
      "text/plain": [
       "(43221, 32323222, 'dhdfhw@gmail.com')"
      ]
     },
     "execution_count": 31,
     "metadata": {},
     "output_type": "execute_result"
    }
   ],
   "source": [
    "mazid.return_student_details()"
   ]
  },
  {
   "cell_type": "code",
   "execution_count": 32,
   "id": "29aeb610-b976-4fea-a65e-3d7860af3a35",
   "metadata": {},
   "outputs": [],
   "source": [
    "saqeuib = gaba(22442, \"dfswwfw@gmiall.com\", 31224)"
   ]
  },
  {
   "cell_type": "code",
   "execution_count": 33,
   "id": "0892e853-91f8-4316-b2b7-eade4fd01b97",
   "metadata": {},
   "outputs": [
    {
     "data": {
      "text/plain": [
       "(31224, 22442, 'dfswwfw@gmiall.com')"
      ]
     },
     "execution_count": 33,
     "metadata": {},
     "output_type": "execute_result"
    }
   ],
   "source": [
    "saqeuib.return_student_details()"
   ]
  },
  {
   "cell_type": "code",
   "execution_count": 39,
   "id": "4ca3ff11-04c4-47a8-9d9e-1d30bbd728ff",
   "metadata": {},
   "outputs": [],
   "source": [
    "class gaba:\n",
    "    def __init__(self , ph_no, email_id, std_id):\n",
    "        self.ph_no1 = ph_no\n",
    "        self.email_id1 = email_id\n",
    "        self.std_id1 = std_id\n",
    "    \n",
    "    def return_student_details(self):\n",
    "        return self.std_id1, self.ph_no1, self.email_id1"
   ]
  },
  {
   "cell_type": "code",
   "execution_count": 40,
   "id": "0d989901-9dbb-46ac-8b0e-0f3b383f6183",
   "metadata": {},
   "outputs": [],
   "source": [
    "haris = gaba(3113442, \"aahfhak@gmail.com\", 3533333333)"
   ]
  },
  {
   "cell_type": "code",
   "execution_count": 41,
   "id": "d9730ff7-2611-4923-af1d-5474be4a105c",
   "metadata": {},
   "outputs": [
    {
     "data": {
      "text/plain": [
       "'aahfhak@gmail.com'"
      ]
     },
     "execution_count": 41,
     "metadata": {},
     "output_type": "execute_result"
    }
   ],
   "source": [
    "haris.email_id1"
   ]
  },
  {
   "cell_type": "code",
   "execution_count": 42,
   "id": "a9cd32a4-f428-4b8c-840f-01f7f25c8a23",
   "metadata": {},
   "outputs": [
    {
     "data": {
      "text/plain": [
       "(3533333333, 3113442, 'aahfhak@gmail.com')"
      ]
     },
     "execution_count": 42,
     "metadata": {},
     "output_type": "execute_result"
    }
   ],
   "source": [
    "haris.return_student_details()"
   ]
  },
  {
   "cell_type": "code",
   "execution_count": null,
   "id": "531d8e87-8370-44cb-8a9e-ebd4da3385e7",
   "metadata": {},
   "outputs": [],
   "source": [
    "fffff"
   ]
  }
 ],
 "metadata": {
  "kernelspec": {
   "display_name": "Python 3 (ipykernel)",
   "language": "python",
   "name": "python3"
  },
  "language_info": {
   "codemirror_mode": {
    "name": "ipython",
    "version": 3
   },
   "file_extension": ".py",
   "mimetype": "text/x-python",
   "name": "python",
   "nbconvert_exporter": "python",
   "pygments_lexer": "ipython3",
   "version": "3.10.8"
  }
 },
 "nbformat": 4,
 "nbformat_minor": 5
}
