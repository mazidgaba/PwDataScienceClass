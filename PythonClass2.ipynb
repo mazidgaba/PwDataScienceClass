{
 "cells": [
  {
   "cell_type": "code",
   "execution_count": 1,
   "id": "5827a0b9-335d-449a-a796-beb1480c30a4",
   "metadata": {},
   "outputs": [],
   "source": [
    "l=[67, \"mazid\", 32, 56.43, \"Gaba\", 32]"
   ]
  },
  {
   "cell_type": "code",
   "execution_count": 2,
   "id": "30040fa3-6493-4dff-b3ba-178c0d787859",
   "metadata": {},
   "outputs": [
    {
     "data": {
      "text/plain": [
       "56.43"
      ]
     },
     "execution_count": 2,
     "metadata": {},
     "output_type": "execute_result"
    }
   ],
   "source": [
    "l[3]"
   ]
  },
  {
   "cell_type": "code",
   "execution_count": 3,
   "id": "d81ff8b1-3cf5-436f-91e8-811707c0fcd9",
   "metadata": {},
   "outputs": [
    {
     "data": {
      "text/plain": [
       "'Gaba'"
      ]
     },
     "execution_count": 3,
     "metadata": {},
     "output_type": "execute_result"
    }
   ],
   "source": [
    "l[-2]"
   ]
  },
  {
   "cell_type": "code",
   "execution_count": 4,
   "id": "0269c134-0a56-4ecf-981b-fc2deeaaa858",
   "metadata": {},
   "outputs": [
    {
     "ename": "IndexError",
     "evalue": "list index out of range",
     "output_type": "error",
     "traceback": [
      "\u001b[0;31m---------------------------------------------------------------------------\u001b[0m",
      "\u001b[0;31mIndexError\u001b[0m                                Traceback (most recent call last)",
      "Cell \u001b[0;32mIn[4], line 1\u001b[0m\n\u001b[0;32m----> 1\u001b[0m \u001b[43ml\u001b[49m\u001b[43m[\u001b[49m\u001b[38;5;241;43m-\u001b[39;49m\u001b[38;5;241;43m23\u001b[39;49m\u001b[43m]\u001b[49m\n",
      "\u001b[0;31mIndexError\u001b[0m: list index out of range"
     ]
    }
   ],
   "source": [
    "l[-23]"
   ]
  },
  {
   "cell_type": "code",
   "execution_count": 5,
   "id": "f01a8577-b01d-4eae-bca7-fbbab299089c",
   "metadata": {},
   "outputs": [
    {
     "data": {
      "text/plain": [
       "[67, 'mazid', 32]"
      ]
     },
     "execution_count": 5,
     "metadata": {},
     "output_type": "execute_result"
    }
   ],
   "source": [
    "l [0:3]"
   ]
  },
  {
   "cell_type": "code",
   "execution_count": 6,
   "id": "5bd14ebb-a559-4d70-8b96-f2c5cf8337ad",
   "metadata": {},
   "outputs": [
    {
     "ename": "SyntaxError",
     "evalue": "invalid syntax (3202296140.py, line 1)",
     "output_type": "error",
     "traceback": [
      "\u001b[0;36m  Cell \u001b[0;32mIn[6], line 1\u001b[0;36m\u001b[0m\n\u001b[0;31m    l =[0::-1]\u001b[0m\n\u001b[0m         ^\u001b[0m\n\u001b[0;31mSyntaxError\u001b[0m\u001b[0;31m:\u001b[0m invalid syntax\n"
     ]
    }
   ],
   "source": [
    "l =[0::-1]"
   ]
  },
  {
   "cell_type": "code",
   "execution_count": 7,
   "id": "aa583295-f96a-4266-b133-460bcd91a313",
   "metadata": {},
   "outputs": [
    {
     "ename": "SyntaxError",
     "evalue": "invalid syntax (2466991553.py, line 1)",
     "output_type": "error",
     "traceback": [
      "\u001b[0;36m  Cell \u001b[0;32mIn[7], line 1\u001b[0;36m\u001b[0m\n\u001b[0;31m    l= [::-1]\u001b[0m\n\u001b[0m        ^\u001b[0m\n\u001b[0;31mSyntaxError\u001b[0m\u001b[0;31m:\u001b[0m invalid syntax\n"
     ]
    }
   ],
   "source": [
    "l= [::-1]"
   ]
  },
  {
   "cell_type": "code",
   "execution_count": 8,
   "id": "d0d59118-7205-4898-8d69-320b6f13d37f",
   "metadata": {},
   "outputs": [
    {
     "data": {
      "text/plain": [
       "list"
      ]
     },
     "execution_count": 8,
     "metadata": {},
     "output_type": "execute_result"
    }
   ],
   "source": [
    "type(l)"
   ]
  },
  {
   "cell_type": "code",
   "execution_count": 9,
   "id": "58acb992-61bd-4023-aab2-70dd13874b40",
   "metadata": {},
   "outputs": [
    {
     "data": {
      "text/plain": [
       "[67, 32, 'Gaba']"
      ]
     },
     "execution_count": 9,
     "metadata": {},
     "output_type": "execute_result"
    }
   ],
   "source": [
    "l [::2]"
   ]
  },
  {
   "cell_type": "code",
   "execution_count": 10,
   "id": "71951822-58ba-4d5b-8a51-9693dab3582c",
   "metadata": {},
   "outputs": [],
   "source": [
    "s =\"MAzid\""
   ]
  },
  {
   "cell_type": "code",
   "execution_count": 11,
   "id": "09060cbb-42a0-4c30-9ecc-9ea31644ba49",
   "metadata": {},
   "outputs": [
    {
     "ename": "TypeError",
     "evalue": "can only concatenate list (not \"str\") to list",
     "output_type": "error",
     "traceback": [
      "\u001b[0;31m---------------------------------------------------------------------------\u001b[0m",
      "\u001b[0;31mTypeError\u001b[0m                                 Traceback (most recent call last)",
      "Cell \u001b[0;32mIn[11], line 1\u001b[0m\n\u001b[0;32m----> 1\u001b[0m \u001b[43ml\u001b[49m\u001b[38;5;241;43m+\u001b[39;49m\u001b[43ms\u001b[49m\n",
      "\u001b[0;31mTypeError\u001b[0m: can only concatenate list (not \"str\") to list"
     ]
    }
   ],
   "source": [
    "l+s"
   ]
  },
  {
   "cell_type": "code",
   "execution_count": 12,
   "id": "03956257-528e-47f1-b3cd-e57c90679293",
   "metadata": {},
   "outputs": [
    {
     "data": {
      "text/plain": [
       "['M', 'A', 'z', 'i', 'd']"
      ]
     },
     "execution_count": 12,
     "metadata": {},
     "output_type": "execute_result"
    }
   ],
   "source": [
    "list(s)"
   ]
  },
  {
   "cell_type": "code",
   "execution_count": 13,
   "id": "9b663653-7af5-40f2-b186-68444db96acc",
   "metadata": {},
   "outputs": [
    {
     "data": {
      "text/plain": [
       "['M', 'A', 'z', 'i', 'd', 67, 'mazid', 32, 56.43, 'Gaba', 32]"
      ]
     },
     "execution_count": 13,
     "metadata": {},
     "output_type": "execute_result"
    }
   ],
   "source": [
    "list(s) + l"
   ]
  },
  {
   "cell_type": "code",
   "execution_count": 14,
   "id": "116e893f-7044-44aa-ad9f-4427c5761879",
   "metadata": {},
   "outputs": [
    {
     "data": {
      "text/plain": [
       "[67, 'mazid', 32, 56.43, 'Gaba', 32]"
      ]
     },
     "execution_count": 14,
     "metadata": {},
     "output_type": "execute_result"
    }
   ],
   "source": [
    "l"
   ]
  },
  {
   "cell_type": "code",
   "execution_count": 15,
   "id": "a284dfc7-0b15-4ea5-ad7f-d111742f4149",
   "metadata": {},
   "outputs": [
    {
     "data": {
      "text/plain": [
       "'ma'"
      ]
     },
     "execution_count": 15,
     "metadata": {},
     "output_type": "execute_result"
    }
   ],
   "source": [
    "l[1][0:2]"
   ]
  },
  {
   "cell_type": "code",
   "execution_count": 18,
   "id": "9d60aaa1-68e4-4c21-b9a1-f45ed30a47cf",
   "metadata": {},
   "outputs": [
    {
     "ename": "TypeError",
     "evalue": "'bool' object is not iterable",
     "output_type": "error",
     "traceback": [
      "\u001b[0;31m---------------------------------------------------------------------------\u001b[0m",
      "\u001b[0;31mTypeError\u001b[0m                                 Traceback (most recent call last)",
      "Cell \u001b[0;32mIn[18], line 1\u001b[0m\n\u001b[0;32m----> 1\u001b[0m l \u001b[38;5;241m+\u001b[39m \u001b[38;5;28;43mlist\u001b[39;49m\u001b[43m(\u001b[49m\u001b[38;5;28;43;01mTrue\u001b[39;49;00m\u001b[43m)\u001b[49m\n",
      "\u001b[0;31mTypeError\u001b[0m: 'bool' object is not iterable"
     ]
    }
   ],
   "source": [
    "l + list(True)"
   ]
  },
  {
   "cell_type": "code",
   "execution_count": 19,
   "id": "afc5e8fe-e78b-4537-9022-4ea3759dea74",
   "metadata": {},
   "outputs": [
    {
     "data": {
      "text/plain": [
       "['G', 'u', 'l', 'a', 'm', 67, 'mazid', 32, 56.43, 'Gaba', 32]"
      ]
     },
     "execution_count": 19,
     "metadata": {},
     "output_type": "execute_result"
    }
   ],
   "source": [
    "list(\"Gulam\") + l\n"
   ]
  },
  {
   "cell_type": "code",
   "execution_count": 21,
   "id": "746d5ae5-b2c8-47bf-b358-c63e55bf6af9",
   "metadata": {},
   "outputs": [],
   "source": [
    "l1= [True, \"hello\", 82223, 673.433]"
   ]
  },
  {
   "cell_type": "code",
   "execution_count": 22,
   "id": "efc4676b-6894-4bc3-88f2-4babdabbbaff",
   "metadata": {},
   "outputs": [
    {
     "data": {
      "text/plain": [
       "[True, 'hello', 82223, 673.433, 67, 'mazid', 32, 56.43, 'Gaba', 32]"
      ]
     },
     "execution_count": 22,
     "metadata": {},
     "output_type": "execute_result"
    }
   ],
   "source": [
    "l1 +l\n"
   ]
  },
  {
   "cell_type": "code",
   "execution_count": 23,
   "id": "eab5c01b-bc8f-442a-b73f-f3f4b9bee595",
   "metadata": {},
   "outputs": [
    {
     "data": {
      "text/plain": [
       "10"
      ]
     },
     "execution_count": 23,
     "metadata": {},
     "output_type": "execute_result"
    }
   ],
   "source": [
    "len(l1+l)"
   ]
  },
  {
   "cell_type": "code",
   "execution_count": 24,
   "id": "f27c4611-3664-4919-ba7f-fff2277df743",
   "metadata": {},
   "outputs": [
    {
     "data": {
      "text/plain": [
       "4"
      ]
     },
     "execution_count": 24,
     "metadata": {},
     "output_type": "execute_result"
    }
   ],
   "source": [
    "len(l1)"
   ]
  },
  {
   "cell_type": "code",
   "execution_count": 25,
   "id": "b326d901-0b4a-46a9-b260-673ede0ad6ed",
   "metadata": {},
   "outputs": [],
   "source": [
    "l1.append(232)"
   ]
  },
  {
   "cell_type": "code",
   "execution_count": 26,
   "id": "06539d03-6eef-4997-bbd8-590c21e5a5f4",
   "metadata": {},
   "outputs": [
    {
     "data": {
      "text/plain": [
       "[True, 'hello', 82223, 673.433, 232]"
      ]
     },
     "execution_count": 26,
     "metadata": {},
     "output_type": "execute_result"
    }
   ],
   "source": [
    "l1"
   ]
  },
  {
   "cell_type": "code",
   "execution_count": 28,
   "id": "300f5eb2-05cc-4447-9da4-8852bc220193",
   "metadata": {},
   "outputs": [],
   "source": [
    "l.append(675)"
   ]
  },
  {
   "cell_type": "code",
   "execution_count": 29,
   "id": "57192709-325d-4374-820c-d80a0cdd6190",
   "metadata": {},
   "outputs": [
    {
     "data": {
      "text/plain": [
       "[True, 'hello', 82223, 673.433, 232, 67, 'mazid', 32, 56.43, 'Gaba', 32, 675]"
      ]
     },
     "execution_count": 29,
     "metadata": {},
     "output_type": "execute_result"
    }
   ],
   "source": [
    "l1 + l"
   ]
  },
  {
   "cell_type": "code",
   "execution_count": 30,
   "id": "f9c582d1-a830-4e6f-ad5a-62997f2a8e25",
   "metadata": {},
   "outputs": [],
   "source": [
    "l1.append(s)"
   ]
  },
  {
   "cell_type": "code",
   "execution_count": 31,
   "id": "c7ee8d6f-3253-4769-9a7e-e0aa8a782bba",
   "metadata": {},
   "outputs": [
    {
     "data": {
      "text/plain": [
       "[True, 'hello', 82223, 673.433, 232, 'MAzid']"
      ]
     },
     "execution_count": 31,
     "metadata": {},
     "output_type": "execute_result"
    }
   ],
   "source": [
    "l1"
   ]
  },
  {
   "cell_type": "code",
   "execution_count": 32,
   "id": "43de028f-5b6f-4a57-b32a-f31d13129608",
   "metadata": {},
   "outputs": [],
   "source": [
    "l1.append(l)"
   ]
  },
  {
   "cell_type": "code",
   "execution_count": 33,
   "id": "6ae68e74-b311-4b41-8d6f-3ba0d7120c66",
   "metadata": {},
   "outputs": [
    {
     "data": {
      "text/plain": [
       "[True,\n",
       " 'hello',\n",
       " 82223,\n",
       " 673.433,\n",
       " 232,\n",
       " 'MAzid',\n",
       " [67, 'mazid', 32, 56.43, 'Gaba', 32, 675]]"
      ]
     },
     "execution_count": 33,
     "metadata": {},
     "output_type": "execute_result"
    }
   ],
   "source": [
    "l1"
   ]
  },
  {
   "cell_type": "code",
   "execution_count": 34,
   "id": "7b7a763b-5c23-4072-a2d7-26c737026a93",
   "metadata": {},
   "outputs": [
    {
     "data": {
      "text/plain": [
       "675"
      ]
     },
     "execution_count": 34,
     "metadata": {},
     "output_type": "execute_result"
    }
   ],
   "source": [
    "l[-1]"
   ]
  },
  {
   "cell_type": "code",
   "execution_count": 35,
   "id": "72a77e86-ab62-4076-aaab-783e2e6dbd18",
   "metadata": {},
   "outputs": [
    {
     "ename": "TypeError",
     "evalue": "'int' object is not subscriptable",
     "output_type": "error",
     "traceback": [
      "\u001b[0;31m---------------------------------------------------------------------------\u001b[0m",
      "\u001b[0;31mTypeError\u001b[0m                                 Traceback (most recent call last)",
      "Cell \u001b[0;32mIn[35], line 1\u001b[0m\n\u001b[0;32m----> 1\u001b[0m \u001b[43ml\u001b[49m\u001b[43m[\u001b[49m\u001b[38;5;241;43m-\u001b[39;49m\u001b[38;5;241;43m1\u001b[39;49m\u001b[43m]\u001b[49m\u001b[43m[\u001b[49m\u001b[38;5;241;43m1\u001b[39;49m\u001b[43m]\u001b[49m\n",
      "\u001b[0;31mTypeError\u001b[0m: 'int' object is not subscriptable"
     ]
    }
   ],
   "source": [
    "l[-1][1]"
   ]
  },
  {
   "cell_type": "code",
   "execution_count": 36,
   "id": "4c103e9f-35db-4791-b29c-e6ad0187a4e5",
   "metadata": {},
   "outputs": [
    {
     "data": {
      "text/plain": [
       "'i'"
      ]
     },
     "execution_count": 36,
     "metadata": {},
     "output_type": "execute_result"
    }
   ],
   "source": [
    "l[1][3]"
   ]
  },
  {
   "cell_type": "code",
   "execution_count": 37,
   "id": "a8f6c763-560d-443d-936b-8ff18760a721",
   "metadata": {},
   "outputs": [
    {
     "ename": "TypeError",
     "evalue": "'int' object is not iterable",
     "output_type": "error",
     "traceback": [
      "\u001b[0;31m---------------------------------------------------------------------------\u001b[0m",
      "\u001b[0;31mTypeError\u001b[0m                                 Traceback (most recent call last)",
      "Cell \u001b[0;32mIn[37], line 1\u001b[0m\n\u001b[0;32m----> 1\u001b[0m \u001b[43ml\u001b[49m\u001b[38;5;241;43m.\u001b[39;49m\u001b[43mextend\u001b[49m\u001b[43m(\u001b[49m\u001b[38;5;241;43m87\u001b[39;49m\u001b[43m)\u001b[49m\n",
      "\u001b[0;31mTypeError\u001b[0m: 'int' object is not iterable"
     ]
    }
   ],
   "source": [
    "l.extend(87)\n"
   ]
  },
  {
   "cell_type": "code",
   "execution_count": 39,
   "id": "8ab66500-ddac-4c4e-b716-114c109645be",
   "metadata": {},
   "outputs": [],
   "source": [
    "l.extend(\"sdsd\")"
   ]
  },
  {
   "cell_type": "code",
   "execution_count": 40,
   "id": "717c8577-d03a-4442-8567-4d4481404d26",
   "metadata": {},
   "outputs": [
    {
     "data": {
      "text/plain": [
       "[67, 'mazid', 32, 56.43, 'Gaba', 32, 675, 's', 'd', 's', 'd']"
      ]
     },
     "execution_count": 40,
     "metadata": {},
     "output_type": "execute_result"
    }
   ],
   "source": [
    "l"
   ]
  },
  {
   "cell_type": "code",
   "execution_count": 43,
   "id": "f0763f7d-a71e-4706-af4a-a0434c643c99",
   "metadata": {},
   "outputs": [],
   "source": [
    "l.extend([2133, 42200])"
   ]
  },
  {
   "cell_type": "code",
   "execution_count": 44,
   "id": "41847aa9-50e4-40f8-b99a-0665c35ed8cf",
   "metadata": {},
   "outputs": [
    {
     "data": {
      "text/plain": [
       "[67, 'mazid', 32, 56.43, 'Gaba', 32, 675, 's', 'd', 's', 'd', 2133, 42200]"
      ]
     },
     "execution_count": 44,
     "metadata": {},
     "output_type": "execute_result"
    }
   ],
   "source": [
    "l"
   ]
  },
  {
   "cell_type": "code",
   "execution_count": 45,
   "id": "96b018d4-9262-4c62-852f-eee76260b0a5",
   "metadata": {},
   "outputs": [],
   "source": [
    "l.extend([6,3,57,])"
   ]
  },
  {
   "cell_type": "code",
   "execution_count": 46,
   "id": "cad20d3c-e0fb-487b-a3eb-c8b5d0b4dbdb",
   "metadata": {},
   "outputs": [
    {
     "data": {
      "text/plain": [
       "[67,\n",
       " 'mazid',\n",
       " 32,\n",
       " 56.43,\n",
       " 'Gaba',\n",
       " 32,\n",
       " 675,\n",
       " 's',\n",
       " 'd',\n",
       " 's',\n",
       " 'd',\n",
       " 2133,\n",
       " 42200,\n",
       " 6,\n",
       " 3,\n",
       " 57]"
      ]
     },
     "execution_count": 46,
     "metadata": {},
     "output_type": "execute_result"
    }
   ],
   "source": [
    "l"
   ]
  },
  {
   "cell_type": "code",
   "execution_count": 47,
   "id": "0d933e0f-4d54-478b-8225-aa93c101b26c",
   "metadata": {},
   "outputs": [],
   "source": [
    "l1.insert(1, 332)"
   ]
  },
  {
   "cell_type": "code",
   "execution_count": 48,
   "id": "000db139-80fd-4bae-ad34-4b6e7273c4df",
   "metadata": {},
   "outputs": [
    {
     "data": {
      "text/plain": [
       "[True,\n",
       " 332,\n",
       " 'hello',\n",
       " 82223,\n",
       " 673.433,\n",
       " 232,\n",
       " 'MAzid',\n",
       " [67,\n",
       "  'mazid',\n",
       "  32,\n",
       "  56.43,\n",
       "  'Gaba',\n",
       "  32,\n",
       "  675,\n",
       "  's',\n",
       "  'd',\n",
       "  's',\n",
       "  'd',\n",
       "  2133,\n",
       "  42200,\n",
       "  6,\n",
       "  3,\n",
       "  57]]"
      ]
     },
     "execution_count": 48,
     "metadata": {},
     "output_type": "execute_result"
    }
   ],
   "source": [
    "l1"
   ]
  },
  {
   "cell_type": "code",
   "execution_count": 49,
   "id": "9b9ce3c0-b7e1-4cc2-b4f3-2b158b67bb5c",
   "metadata": {},
   "outputs": [],
   "source": [
    "l1.insert(3, [334, \"dsdsdsd\"])"
   ]
  },
  {
   "cell_type": "code",
   "execution_count": 50,
   "id": "48bf4732-3f1f-4792-a11f-4bb42a86d797",
   "metadata": {},
   "outputs": [
    {
     "data": {
      "text/plain": [
       "[True,\n",
       " 332,\n",
       " 'hello',\n",
       " [334, 'dsdsdsd'],\n",
       " 82223,\n",
       " 673.433,\n",
       " 232,\n",
       " 'MAzid',\n",
       " [67,\n",
       "  'mazid',\n",
       "  32,\n",
       "  56.43,\n",
       "  'Gaba',\n",
       "  32,\n",
       "  675,\n",
       "  's',\n",
       "  'd',\n",
       "  's',\n",
       "  'd',\n",
       "  2133,\n",
       "  42200,\n",
       "  6,\n",
       "  3,\n",
       "  57]]"
      ]
     },
     "execution_count": 50,
     "metadata": {},
     "output_type": "execute_result"
    }
   ],
   "source": [
    "l1"
   ]
  },
  {
   "cell_type": "code",
   "execution_count": 51,
   "id": "4fd2c9b8-eb6b-4976-9bc5-426537dcf31e",
   "metadata": {},
   "outputs": [],
   "source": [
    "l1.insert(-1, 2322)"
   ]
  },
  {
   "cell_type": "code",
   "execution_count": 52,
   "id": "ab9169fa-0a53-4ad6-913e-f559789af1fe",
   "metadata": {},
   "outputs": [
    {
     "data": {
      "text/plain": [
       "[True,\n",
       " 332,\n",
       " 'hello',\n",
       " [334, 'dsdsdsd'],\n",
       " 82223,\n",
       " 673.433,\n",
       " 232,\n",
       " 'MAzid',\n",
       " 2322,\n",
       " [67,\n",
       "  'mazid',\n",
       "  32,\n",
       "  56.43,\n",
       "  'Gaba',\n",
       "  32,\n",
       "  675,\n",
       "  's',\n",
       "  'd',\n",
       "  's',\n",
       "  'd',\n",
       "  2133,\n",
       "  42200,\n",
       "  6,\n",
       "  3,\n",
       "  57]]"
      ]
     },
     "execution_count": 52,
     "metadata": {},
     "output_type": "execute_result"
    }
   ],
   "source": [
    "l1"
   ]
  },
  {
   "cell_type": "code",
   "execution_count": 54,
   "id": "2164dca5-222b-4b6f-98b8-1be0239736b3",
   "metadata": {},
   "outputs": [
    {
     "data": {
      "text/plain": [
       "232"
      ]
     },
     "execution_count": 54,
     "metadata": {},
     "output_type": "execute_result"
    }
   ],
   "source": [
    "l1.pop(6)"
   ]
  },
  {
   "cell_type": "code",
   "execution_count": 55,
   "id": "baee8ba1-7b87-448c-8af8-34b75beb3377",
   "metadata": {},
   "outputs": [
    {
     "data": {
      "text/plain": [
       "[True,\n",
       " 332,\n",
       " 'hello',\n",
       " [334, 'dsdsdsd'],\n",
       " 82223,\n",
       " 673.433,\n",
       " 'MAzid',\n",
       " 2322,\n",
       " [67,\n",
       "  'mazid',\n",
       "  32,\n",
       "  56.43,\n",
       "  'Gaba',\n",
       "  32,\n",
       "  675,\n",
       "  's',\n",
       "  'd',\n",
       "  's',\n",
       "  'd',\n",
       "  2133,\n",
       "  42200,\n",
       "  6,\n",
       "  3,\n",
       "  57]]"
      ]
     },
     "execution_count": 55,
     "metadata": {},
     "output_type": "execute_result"
    }
   ],
   "source": [
    "l1"
   ]
  },
  {
   "cell_type": "code",
   "execution_count": 59,
   "id": "3c1e7cf8-00e1-454d-a904-a0e77a1becdc",
   "metadata": {},
   "outputs": [
    {
     "data": {
      "text/plain": [
       "[67,\n",
       " 'mazid',\n",
       " 32,\n",
       " 56.43,\n",
       " 'Gaba',\n",
       " 32,\n",
       " 675,\n",
       " 's',\n",
       " 'd',\n",
       " 's',\n",
       " 'd',\n",
       " 2133,\n",
       " 42200,\n",
       " 6,\n",
       " 3,\n",
       " 57]"
      ]
     },
     "execution_count": 59,
     "metadata": {},
     "output_type": "execute_result"
    }
   ],
   "source": [
    "l1.pop()"
   ]
  },
  {
   "cell_type": "code",
   "execution_count": 61,
   "id": "6d63afba-99b8-4808-89e6-b17445fed4f0",
   "metadata": {},
   "outputs": [
    {
     "data": {
      "text/plain": [
       "2322"
      ]
     },
     "execution_count": 61,
     "metadata": {},
     "output_type": "execute_result"
    }
   ],
   "source": [
    "l1.pop(7)"
   ]
  },
  {
   "cell_type": "code",
   "execution_count": 62,
   "id": "8e189cca-8812-4ef2-a8e5-96887525f1f8",
   "metadata": {},
   "outputs": [
    {
     "ename": "ValueError",
     "evalue": "list.remove(x): x not in list",
     "output_type": "error",
     "traceback": [
      "\u001b[0;31m---------------------------------------------------------------------------\u001b[0m",
      "\u001b[0;31mValueError\u001b[0m                                Traceback (most recent call last)",
      "Cell \u001b[0;32mIn[62], line 1\u001b[0m\n\u001b[0;32m----> 1\u001b[0m \u001b[43ml1\u001b[49m\u001b[38;5;241;43m.\u001b[39;49m\u001b[43mremove\u001b[49m\u001b[43m(\u001b[49m\u001b[38;5;241;43m57\u001b[39;49m\u001b[43m)\u001b[49m\n",
      "\u001b[0;31mValueError\u001b[0m: list.remove(x): x not in list"
     ]
    }
   ],
   "source": [
    "l1.remove(57)"
   ]
  },
  {
   "cell_type": "code",
   "execution_count": 63,
   "id": "ff56465b-c757-493f-a22e-4ebe57d0b97d",
   "metadata": {},
   "outputs": [
    {
     "ename": "ValueError",
     "evalue": "list.remove(x): x not in list",
     "output_type": "error",
     "traceback": [
      "\u001b[0;31m---------------------------------------------------------------------------\u001b[0m",
      "\u001b[0;31mValueError\u001b[0m                                Traceback (most recent call last)",
      "Cell \u001b[0;32mIn[63], line 1\u001b[0m\n\u001b[0;32m----> 1\u001b[0m \u001b[43ml1\u001b[49m\u001b[38;5;241;43m.\u001b[39;49m\u001b[43mremove\u001b[49m\u001b[43m(\u001b[49m\u001b[38;5;241;43m67\u001b[39;49m\u001b[43m)\u001b[49m\n",
      "\u001b[0;31mValueError\u001b[0m: list.remove(x): x not in list"
     ]
    }
   ],
   "source": [
    "l1.remove(67)"
   ]
  },
  {
   "cell_type": "code",
   "execution_count": 64,
   "id": "abe8ec2b-6815-4388-bbe3-7dee15f81b41",
   "metadata": {},
   "outputs": [
    {
     "data": {
      "text/plain": [
       "[True, 332, 'hello', [334, 'dsdsdsd'], 82223, 673.433, 'MAzid']"
      ]
     },
     "execution_count": 64,
     "metadata": {},
     "output_type": "execute_result"
    }
   ],
   "source": [
    "l1"
   ]
  },
  {
   "cell_type": "code",
   "execution_count": 65,
   "id": "c089650f-cd24-409e-baa6-4d53f11771a2",
   "metadata": {},
   "outputs": [],
   "source": [
    "l1.remove(332)"
   ]
  },
  {
   "cell_type": "code",
   "execution_count": 66,
   "id": "eb174605-dbbd-4bdb-b924-98a35abf9e6b",
   "metadata": {},
   "outputs": [
    {
     "ename": "NameError",
     "evalue": "name 'L1' is not defined",
     "output_type": "error",
     "traceback": [
      "\u001b[0;31m---------------------------------------------------------------------------\u001b[0m",
      "\u001b[0;31mNameError\u001b[0m                                 Traceback (most recent call last)",
      "Cell \u001b[0;32mIn[66], line 1\u001b[0m\n\u001b[0;32m----> 1\u001b[0m \u001b[43mL1\u001b[49m\n",
      "\u001b[0;31mNameError\u001b[0m: name 'L1' is not defined"
     ]
    }
   ],
   "source": [
    "L1"
   ]
  },
  {
   "cell_type": "code",
   "execution_count": 67,
   "id": "1b678067-5292-4cd7-8e9a-400e4e727637",
   "metadata": {},
   "outputs": [
    {
     "ename": "NameError",
     "evalue": "name 'L1' is not defined",
     "output_type": "error",
     "traceback": [
      "\u001b[0;31m---------------------------------------------------------------------------\u001b[0m",
      "\u001b[0;31mNameError\u001b[0m                                 Traceback (most recent call last)",
      "Cell \u001b[0;32mIn[67], line 1\u001b[0m\n\u001b[0;32m----> 1\u001b[0m \u001b[43mL1\u001b[49m\n",
      "\u001b[0;31mNameError\u001b[0m: name 'L1' is not defined"
     ]
    }
   ],
   "source": [
    "L1"
   ]
  },
  {
   "cell_type": "code",
   "execution_count": 68,
   "id": "89d9f202-7d7e-4ca4-8991-b8a759b67878",
   "metadata": {},
   "outputs": [
    {
     "data": {
      "text/plain": [
       "[True, 'hello', [334, 'dsdsdsd'], 82223, 673.433, 'MAzid']"
      ]
     },
     "execution_count": 68,
     "metadata": {},
     "output_type": "execute_result"
    }
   ],
   "source": [
    "l1"
   ]
  },
  {
   "cell_type": "code",
   "execution_count": 69,
   "id": "7518942f-651d-4d00-9c67-5a3a84803930",
   "metadata": {},
   "outputs": [
    {
     "data": {
      "text/plain": [
       "[True, 'hello', [334, 'dsdsdsd'], 82223, 673.433, 'MAzid']"
      ]
     },
     "execution_count": 69,
     "metadata": {},
     "output_type": "execute_result"
    }
   ],
   "source": [
    "l1"
   ]
  },
  {
   "cell_type": "code",
   "execution_count": 77,
   "id": "dc65999e-89fb-47e8-8ae6-8b515a24c854",
   "metadata": {},
   "outputs": [],
   "source": [
    "l1[2].remove(334)"
   ]
  },
  {
   "cell_type": "code",
   "execution_count": 78,
   "id": "29ece104-a734-49d6-ad5c-862a88ccbb66",
   "metadata": {},
   "outputs": [
    {
     "data": {
      "text/plain": [
       "[True, 'hello', ['dsdsdsd'], 82223, 673.433, 'MAzid']"
      ]
     },
     "execution_count": 78,
     "metadata": {},
     "output_type": "execute_result"
    }
   ],
   "source": [
    "l1"
   ]
  },
  {
   "cell_type": "code",
   "execution_count": 79,
   "id": "bc96cdcb-029e-45bb-92da-01d6b3c0e0e2",
   "metadata": {},
   "outputs": [
    {
     "data": {
      "text/plain": [
       "['MAzid', 673.433, 82223, ['dsdsdsd'], 'hello', True]"
      ]
     },
     "execution_count": 79,
     "metadata": {},
     "output_type": "execute_result"
    }
   ],
   "source": [
    "l1[::-1]"
   ]
  },
  {
   "cell_type": "code",
   "execution_count": 80,
   "id": "77009456-02cb-4e3b-8f7d-efa14e2fa19d",
   "metadata": {},
   "outputs": [
    {
     "data": {
      "text/plain": [
       "[True, 'hello', ['dsdsdsd'], 82223, 673.433, 'MAzid']"
      ]
     },
     "execution_count": 80,
     "metadata": {},
     "output_type": "execute_result"
    }
   ],
   "source": [
    "l1"
   ]
  },
  {
   "cell_type": "code",
   "execution_count": 81,
   "id": "91ec2b5c-74d4-409c-bd0c-00f0e461c950",
   "metadata": {},
   "outputs": [],
   "source": [
    "l1.reverse()"
   ]
  },
  {
   "cell_type": "code",
   "execution_count": 82,
   "id": "93c3bfd9-7f25-474a-9698-8b49c7bc2b26",
   "metadata": {},
   "outputs": [
    {
     "data": {
      "text/plain": [
       "['MAzid', 673.433, 82223, ['dsdsdsd'], 'hello', True]"
      ]
     },
     "execution_count": 82,
     "metadata": {},
     "output_type": "execute_result"
    }
   ],
   "source": [
    "l1"
   ]
  },
  {
   "cell_type": "code",
   "execution_count": 83,
   "id": "1715db20-5d89-4271-ac5d-2dc579683c1a",
   "metadata": {},
   "outputs": [],
   "source": [
    "l2 =[23,4,554,64,646,7,3,3]"
   ]
  },
  {
   "cell_type": "code",
   "execution_count": 84,
   "id": "0af7d746-b17a-4349-b714-cefdc5027500",
   "metadata": {},
   "outputs": [],
   "source": [
    "l2.sort()"
   ]
  },
  {
   "cell_type": "code",
   "execution_count": 85,
   "id": "7cefc3d0-c338-4128-a8c5-a15b98c88a47",
   "metadata": {},
   "outputs": [
    {
     "data": {
      "text/plain": [
       "[3, 3, 4, 7, 23, 64, 554, 646]"
      ]
     },
     "execution_count": 85,
     "metadata": {},
     "output_type": "execute_result"
    }
   ],
   "source": [
    "l2"
   ]
  },
  {
   "cell_type": "code",
   "execution_count": 89,
   "id": "1b2f1fee-3845-4e88-9501-f26546d7c942",
   "metadata": {},
   "outputs": [],
   "source": [
    "l3 = [3,4,43,323,[44,3,4,52,2],24,44,56,3]"
   ]
  },
  {
   "cell_type": "code",
   "execution_count": 90,
   "id": "d2881659-c746-4155-acfe-928d0944a425",
   "metadata": {},
   "outputs": [
    {
     "ename": "TypeError",
     "evalue": "'<' not supported between instances of 'list' and 'int'",
     "output_type": "error",
     "traceback": [
      "\u001b[0;31m---------------------------------------------------------------------------\u001b[0m",
      "\u001b[0;31mTypeError\u001b[0m                                 Traceback (most recent call last)",
      "Cell \u001b[0;32mIn[90], line 1\u001b[0m\n\u001b[0;32m----> 1\u001b[0m \u001b[43ml3\u001b[49m\u001b[38;5;241;43m.\u001b[39;49m\u001b[43msort\u001b[49m\u001b[43m(\u001b[49m\u001b[43m)\u001b[49m\n",
      "\u001b[0;31mTypeError\u001b[0m: '<' not supported between instances of 'list' and 'int'"
     ]
    }
   ],
   "source": [
    "l3.sort()"
   ]
  },
  {
   "cell_type": "code",
   "execution_count": 19,
   "id": "50def2c4-e6ac-4cf4-87c7-1853946db8c4",
   "metadata": {},
   "outputs": [],
   "source": [
    "l4.sort(reverse=False)"
   ]
  },
  {
   "cell_type": "code",
   "execution_count": 20,
   "id": "0120083b-544c-4327-953d-c3368df861c6",
   "metadata": {},
   "outputs": [
    {
     "data": {
      "text/plain": [
       "['ezid', 'fwffw', 'fwgwg', 'ghhw, hjeh']"
      ]
     },
     "execution_count": 20,
     "metadata": {},
     "output_type": "execute_result"
    }
   ],
   "source": [
    "l4"
   ]
  },
  {
   "cell_type": "code",
   "execution_count": 21,
   "id": "5e4c932b-6e78-4ed7-89f0-329652523423",
   "metadata": {},
   "outputs": [
    {
     "data": {
      "text/plain": [
       "['ezid', 'fwffw', 'fwgwg', 'ghhw, hjeh']"
      ]
     },
     "execution_count": 21,
     "metadata": {},
     "output_type": "execute_result"
    }
   ],
   "source": [
    "l4"
   ]
  },
  {
   "cell_type": "code",
   "execution_count": 22,
   "id": "cd521f99-ece4-4b52-b3e4-4769562bac4f",
   "metadata": {},
   "outputs": [],
   "source": [
    "l4.sort(reverse=True)"
   ]
  },
  {
   "cell_type": "code",
   "execution_count": 23,
   "id": "fda22c80-c765-450d-8b34-ce32af9b96e5",
   "metadata": {},
   "outputs": [
    {
     "data": {
      "text/plain": [
       "['ghhw, hjeh', 'fwgwg', 'fwffw', 'ezid']"
      ]
     },
     "execution_count": 23,
     "metadata": {},
     "output_type": "execute_result"
    }
   ],
   "source": [
    "l4"
   ]
  },
  {
   "cell_type": "code",
   "execution_count": 24,
   "id": "dfb94375-fd56-4ba6-bf2d-e4f20a901480",
   "metadata": {},
   "outputs": [],
   "source": [
    "l4.sort(reverse=False)"
   ]
  },
  {
   "cell_type": "code",
   "execution_count": 25,
   "id": "c5657b21-be85-4e81-a18a-a4bf2aeb8981",
   "metadata": {},
   "outputs": [
    {
     "data": {
      "text/plain": [
       "['ezid', 'fwffw', 'fwgwg', 'ghhw, hjeh']"
      ]
     },
     "execution_count": 25,
     "metadata": {},
     "output_type": "execute_result"
    }
   ],
   "source": [
    "l4"
   ]
  },
  {
   "cell_type": "code",
   "execution_count": null,
   "id": "f58f5a85-c24a-464c-ba9f-1c52da8eeb84",
   "metadata": {},
   "outputs": [],
   "source": []
  },
  {
   "cell_type": "code",
   "execution_count": 26,
   "id": "5ff44113-7d7c-4dd2-bccc-8c28a4213617",
   "metadata": {},
   "outputs": [],
   "source": [
    "l4= [\"ezid\", \"fwffw\", \"fwgwg\", \"ghhw, hjeh\"]"
   ]
  },
  {
   "cell_type": "code",
   "execution_count": 27,
   "id": "94528b10-65e3-40a0-9fcc-2257d829fb03",
   "metadata": {},
   "outputs": [
    {
     "data": {
      "text/plain": [
       "['ezid', 'fwffw', 'fwgwg', 'ghhw, hjeh']"
      ]
     },
     "execution_count": 27,
     "metadata": {},
     "output_type": "execute_result"
    }
   ],
   "source": [
    "l4"
   ]
  },
  {
   "cell_type": "code",
   "execution_count": 28,
   "id": "18e43ed3-9de5-4a70-9bd4-c5b91e3ee044",
   "metadata": {},
   "outputs": [],
   "source": [
    "l4.sort()"
   ]
  },
  {
   "cell_type": "code",
   "execution_count": 29,
   "id": "ed4ca2bd-718e-4a05-9397-d3f43e6cab72",
   "metadata": {},
   "outputs": [
    {
     "data": {
      "text/plain": [
       "['ezid', 'fwffw', 'fwgwg', 'ghhw, hjeh']"
      ]
     },
     "execution_count": 29,
     "metadata": {},
     "output_type": "execute_result"
    }
   ],
   "source": [
    "l4"
   ]
  },
  {
   "cell_type": "code",
   "execution_count": 30,
   "id": "36511a2b-87bc-48de-a4d5-b4d6ae5c0a73",
   "metadata": {},
   "outputs": [
    {
     "data": {
      "text/plain": [
       "2"
      ]
     },
     "execution_count": 30,
     "metadata": {},
     "output_type": "execute_result"
    }
   ],
   "source": [
    "l4.index(\"fwgwg\")"
   ]
  },
  {
   "cell_type": "code",
   "execution_count": 31,
   "id": "89bf69c8-5af2-44d6-9808-c3b163b6786f",
   "metadata": {},
   "outputs": [
    {
     "data": {
      "text/plain": [
       "1"
      ]
     },
     "execution_count": 31,
     "metadata": {},
     "output_type": "execute_result"
    }
   ],
   "source": [
    "l4.count(\"fwgwg\")"
   ]
  },
  {
   "cell_type": "code",
   "execution_count": 33,
   "id": "40d3a9d2-09bd-4e98-906c-7d5785be4827",
   "metadata": {},
   "outputs": [],
   "source": [
    "l5 =[4,45,52,5]"
   ]
  },
  {
   "cell_type": "code",
   "execution_count": 36,
   "id": "53fd3e15-930d-4e47-b344-4267b9f8dde9",
   "metadata": {},
   "outputs": [
    {
     "data": {
      "text/plain": [
       "5"
      ]
     },
     "execution_count": 36,
     "metadata": {},
     "output_type": "execute_result"
    }
   ],
   "source": [
    "l5[3]"
   ]
  },
  {
   "cell_type": "code",
   "execution_count": 37,
   "id": "84a582b8-b045-4b38-a622-69bc02afef8a",
   "metadata": {},
   "outputs": [],
   "source": [
    "l5[0] = 4424"
   ]
  },
  {
   "cell_type": "code",
   "execution_count": 38,
   "id": "2af7ee4a-cdb5-4d16-a0fe-e432a64ec520",
   "metadata": {},
   "outputs": [
    {
     "data": {
      "text/plain": [
       "[4424, 45, 52, 5]"
      ]
     },
     "execution_count": 38,
     "metadata": {},
     "output_type": "execute_result"
    }
   ],
   "source": [
    "l5"
   ]
  },
  {
   "cell_type": "code",
   "execution_count": 39,
   "id": "c5a255f4-bea0-42d0-a2a2-8305b41b65a0",
   "metadata": {},
   "outputs": [
    {
     "ename": "AttributeError",
     "evalue": "'list' object has no attribute 'replace'",
     "output_type": "error",
     "traceback": [
      "\u001b[0;31m---------------------------------------------------------------------------\u001b[0m",
      "\u001b[0;31mAttributeError\u001b[0m                            Traceback (most recent call last)",
      "Cell \u001b[0;32mIn[39], line 1\u001b[0m\n\u001b[0;32m----> 1\u001b[0m \u001b[43ml4\u001b[49m\u001b[38;5;241;43m.\u001b[39;49m\u001b[43mreplace\u001b[49m(\u001b[38;5;124m'\u001b[39m\u001b[38;5;124mf\u001b[39m\u001b[38;5;124m'\u001b[39m,\u001b[38;5;124m'\u001b[39m\u001b[38;5;124mw\u001b[39m\u001b[38;5;124m'\u001b[39m)\n",
      "\u001b[0;31mAttributeError\u001b[0m: 'list' object has no attribute 'replace'"
     ]
    }
   ],
   "source": [
    "l4.replace('f','w')"
   ]
  },
  {
   "cell_type": "code",
   "execution_count": 40,
   "id": "7903f90e-7499-4e32-820e-08b34454adbc",
   "metadata": {},
   "outputs": [
    {
     "data": {
      "text/plain": [
       "[4, 45, 52, 5]"
      ]
     },
     "execution_count": 40,
     "metadata": {},
     "output_type": "execute_result"
    }
   ],
   "source": [
    "l4"
   ]
  },
  {
   "cell_type": "code",
   "execution_count": 41,
   "id": "113b3fdd-7d48-488b-8820-df4b6afff321",
   "metadata": {},
   "outputs": [
    {
     "data": {
      "text/plain": [
       "[4424, 45, 52, 5]"
      ]
     },
     "execution_count": 41,
     "metadata": {},
     "output_type": "execute_result"
    }
   ],
   "source": [
    "l5"
   ]
  },
  {
   "cell_type": "code",
   "execution_count": 42,
   "id": "0c31e8c7-877a-4e53-b061-ebd664c9f782",
   "metadata": {},
   "outputs": [],
   "source": [
    "l4= [\"ezid\", \"fwffw\", \"fwgwg\", \"ghhw, hjeh\"]"
   ]
  },
  {
   "cell_type": "code",
   "execution_count": 45,
   "id": "ee32a914-7ec2-4b92-9075-b0e99744011c",
   "metadata": {},
   "outputs": [
    {
     "ename": "SyntaxError",
     "evalue": "incomplete input (523619766.py, line 1)",
     "output_type": "error",
     "traceback": [
      "\u001b[0;36m  Cell \u001b[0;32mIn[45], line 1\u001b[0;36m\u001b[0m\n\u001b[0;31m    l4.replace(('f','w')\u001b[0m\n\u001b[0m                        ^\u001b[0m\n\u001b[0;31mSyntaxError\u001b[0m\u001b[0;31m:\u001b[0m incomplete input\n"
     ]
    }
   ],
   "source": [
    "l4.replace(('f','w')"
   ]
  },
  {
   "cell_type": "code",
   "execution_count": 46,
   "id": "daa57ef6-da7b-4027-8967-cfef624b003a",
   "metadata": {},
   "outputs": [],
   "source": [
    "t=(44,56,6,\"mazid\", \"saquib\",52,5)"
   ]
  },
  {
   "cell_type": "code",
   "execution_count": 47,
   "id": "22ae6693-f8d3-4b63-87b0-70b23cd6927f",
   "metadata": {},
   "outputs": [
    {
     "data": {
      "text/plain": [
       "tuple"
      ]
     },
     "execution_count": 47,
     "metadata": {},
     "output_type": "execute_result"
    }
   ],
   "source": [
    "type(t)"
   ]
  },
  {
   "cell_type": "code",
   "execution_count": 48,
   "id": "491fbea1-ba2c-4230-99c3-b2d670f49085",
   "metadata": {},
   "outputs": [
    {
     "data": {
      "text/plain": [
       "(5, 52, 'saquib', 'mazid', 6, 56, 44)"
      ]
     },
     "execution_count": 48,
     "metadata": {},
     "output_type": "execute_result"
    }
   ],
   "source": [
    "t[::-1]"
   ]
  },
  {
   "cell_type": "code",
   "execution_count": 49,
   "id": "e69ada0d-e8a5-4b7f-92ec-f076378b4ab2",
   "metadata": {},
   "outputs": [
    {
     "data": {
      "text/plain": [
       "()"
      ]
     },
     "execution_count": 49,
     "metadata": {},
     "output_type": "execute_result"
    }
   ],
   "source": [
    "t[0:3:-1]"
   ]
  },
  {
   "cell_type": "code",
   "execution_count": 50,
   "id": "7a00c88c-ff00-4867-b0f2-d65151009f1c",
   "metadata": {},
   "outputs": [
    {
     "data": {
      "text/plain": [
       "(44, 56, 6)"
      ]
     },
     "execution_count": 50,
     "metadata": {},
     "output_type": "execute_result"
    }
   ],
   "source": [
    "t[0:3:1]"
   ]
  },
  {
   "cell_type": "code",
   "execution_count": 51,
   "id": "ed6ceec8-f6cf-4e22-b84a-1be4babe42a6",
   "metadata": {},
   "outputs": [
    {
     "data": {
      "text/plain": [
       "0"
      ]
     },
     "execution_count": 51,
     "metadata": {},
     "output_type": "execute_result"
    }
   ],
   "source": [
    "t.count(9)"
   ]
  },
  {
   "cell_type": "code",
   "execution_count": 53,
   "id": "4978c833-859c-47d4-bf33-671a5272eb2f",
   "metadata": {},
   "outputs": [
    {
     "data": {
      "text/plain": [
       "5"
      ]
     },
     "execution_count": 53,
     "metadata": {},
     "output_type": "execute_result"
    }
   ],
   "source": [
    "t.index(52)"
   ]
  },
  {
   "cell_type": "code",
   "execution_count": 54,
   "id": "0ac3f278-96c2-4655-842d-91d561ac5f6d",
   "metadata": {},
   "outputs": [
    {
     "data": {
      "text/plain": [
       "(44, 56, 6, 'mazid', 'saquib', 52, 5)"
      ]
     },
     "execution_count": 54,
     "metadata": {},
     "output_type": "execute_result"
    }
   ],
   "source": [
    "t"
   ]
  },
  {
   "cell_type": "code",
   "execution_count": 55,
   "id": "4a722792-5c31-487f-8575-682721dc421a",
   "metadata": {},
   "outputs": [],
   "source": [
    "d= {34,45}"
   ]
  },
  {
   "cell_type": "code",
   "execution_count": 56,
   "id": "3f6e1066-414f-4479-8cdf-08dbc0482398",
   "metadata": {},
   "outputs": [
    {
     "data": {
      "text/plain": [
       "set"
      ]
     },
     "execution_count": 56,
     "metadata": {},
     "output_type": "execute_result"
    }
   ],
   "source": [
    "type(d)"
   ]
  },
  {
   "cell_type": "code",
   "execution_count": 57,
   "id": "d8f9c30e-2461-4e17-9a5b-88563a0ebc7d",
   "metadata": {},
   "outputs": [],
   "source": [
    "d1={}"
   ]
  },
  {
   "cell_type": "code",
   "execution_count": 58,
   "id": "4bff91e5-b71f-4ff8-bf6f-852a0caceeaf",
   "metadata": {},
   "outputs": [
    {
     "data": {
      "text/plain": [
       "dict"
      ]
     },
     "execution_count": 58,
     "metadata": {},
     "output_type": "execute_result"
    }
   ],
   "source": [
    "type(d1)"
   ]
  },
  {
   "cell_type": "code",
   "execution_count": 59,
   "id": "12201ed6-eed6-4385-a73c-41e7489d094b",
   "metadata": {},
   "outputs": [],
   "source": [
    "sx ={1,1,1,1,13,3,4,44,4,5,54,3,5,63,2,5,3,6}"
   ]
  },
  {
   "cell_type": "code",
   "execution_count": 60,
   "id": "4bc46171-3e56-4e3a-93de-68de8e4039bc",
   "metadata": {},
   "outputs": [
    {
     "data": {
      "text/plain": [
       "{1, 2, 3, 4, 5, 6, 13, 44, 54, 63}"
      ]
     },
     "execution_count": 60,
     "metadata": {},
     "output_type": "execute_result"
    }
   ],
   "source": [
    "sx"
   ]
  },
  {
   "cell_type": "code",
   "execution_count": 4,
   "id": "37e057ee-c973-4b9a-b5dd-7ced3c82adfb",
   "metadata": {},
   "outputs": [],
   "source": [
    "sx ={1,1,1,1,13,3,4,44,4,5,54,3,5,63,2,5,3,6,\"mazid\", \"Mazid\"}"
   ]
  },
  {
   "cell_type": "code",
   "execution_count": 5,
   "id": "96d25567-b83b-4fec-960a-6bf79bf3389c",
   "metadata": {},
   "outputs": [
    {
     "data": {
      "text/plain": [
       "{1, 13, 2, 3, 4, 44, 5, 54, 6, 63, 'Mazid', 'mazid'}"
      ]
     },
     "execution_count": 5,
     "metadata": {},
     "output_type": "execute_result"
    }
   ],
   "source": [
    "sx"
   ]
  },
  {
   "cell_type": "code",
   "execution_count": 6,
   "id": "cbb5317a-5429-4bf4-90f9-59600472f927",
   "metadata": {},
   "outputs": [
    {
     "ename": "NameError",
     "evalue": "name 'l4' is not defined",
     "output_type": "error",
     "traceback": [
      "\u001b[0;31m---------------------------------------------------------------------------\u001b[0m",
      "\u001b[0;31mNameError\u001b[0m                                 Traceback (most recent call last)",
      "Cell \u001b[0;32mIn[6], line 1\u001b[0m\n\u001b[0;32m----> 1\u001b[0m l4\u001b[38;5;241m=\u001b[39m \u001b[38;5;28mset\u001b[39m(\u001b[43ml4\u001b[49m)\n",
      "\u001b[0;31mNameError\u001b[0m: name 'l4' is not defined"
     ]
    }
   ],
   "source": [
    "l4= set(l4)"
   ]
  },
  {
   "cell_type": "code",
   "execution_count": 7,
   "id": "86389122-d479-4740-ab05-e4f97a2740d3",
   "metadata": {},
   "outputs": [],
   "source": [
    "sx.add(786)"
   ]
  },
  {
   "cell_type": "code",
   "execution_count": 8,
   "id": "127f9b13-cefb-43ca-9e3f-4212ae93ecbf",
   "metadata": {},
   "outputs": [
    {
     "data": {
      "text/plain": [
       "{1, 13, 2, 3, 4, 44, 5, 54, 6, 63, 786, 'Mazid', 'mazid'}"
      ]
     },
     "execution_count": 8,
     "metadata": {},
     "output_type": "execute_result"
    }
   ],
   "source": [
    "sx"
   ]
  },
  {
   "cell_type": "code",
   "execution_count": 9,
   "id": "0f2fb66a-7432-4c68-8ce0-7512b8f5b4eb",
   "metadata": {},
   "outputs": [],
   "source": [
    " sx.remove(786)"
   ]
  },
  {
   "cell_type": "code",
   "execution_count": 10,
   "id": "50ec3588-4163-4522-9b92-66c8d2c60402",
   "metadata": {},
   "outputs": [
    {
     "data": {
      "text/plain": [
       "{1, 13, 2, 3, 4, 44, 5, 54, 6, 63, 'Mazid', 'mazid'}"
      ]
     },
     "execution_count": 10,
     "metadata": {},
     "output_type": "execute_result"
    }
   ],
   "source": [
    "sx"
   ]
  },
  {
   "cell_type": "code",
   "execution_count": null,
   "id": "34fa1fe7-77f6-40d7-b3c2-84886072bcf9",
   "metadata": {},
   "outputs": [],
   "source": []
  }
 ],
 "metadata": {
  "kernelspec": {
   "display_name": "Python 3 (ipykernel)",
   "language": "python",
   "name": "python3"
  },
  "language_info": {
   "codemirror_mode": {
    "name": "ipython",
    "version": 3
   },
   "file_extension": ".py",
   "mimetype": "text/x-python",
   "name": "python",
   "nbconvert_exporter": "python",
   "pygments_lexer": "ipython3",
   "version": "3.10.8"
  }
 },
 "nbformat": 4,
 "nbformat_minor": 5
}
