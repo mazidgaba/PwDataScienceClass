{
 "cells": [
  {
   "cell_type": "code",
   "execution_count": 1,
   "id": "82130ba1-195a-4471-affa-d9671c91b9e8",
   "metadata": {},
   "outputs": [],
   "source": [
    "d= {}"
   ]
  },
  {
   "cell_type": "code",
   "execution_count": 2,
   "id": "0af8a454-7af7-4f64-9f5b-77f449ede484",
   "metadata": {},
   "outputs": [
    {
     "data": {
      "text/plain": [
       "dict"
      ]
     },
     "execution_count": 2,
     "metadata": {},
     "output_type": "execute_result"
    }
   ],
   "source": [
    "type(d)"
   ]
  },
  {
   "cell_type": "code",
   "execution_count": 3,
   "id": "5bbc3683-20ee-4ebf-97ab-4c44434f1eba",
   "metadata": {},
   "outputs": [],
   "source": [
    "d1 = {'name':'mazid'}"
   ]
  },
  {
   "cell_type": "code",
   "execution_count": 4,
   "id": "03b88565-aec9-4480-a9e4-69a83ec3a4f5",
   "metadata": {},
   "outputs": [
    {
     "data": {
      "text/plain": [
       "dict"
      ]
     },
     "execution_count": 4,
     "metadata": {},
     "output_type": "execute_result"
    }
   ],
   "source": [
    "type(d1)"
   ]
  },
  {
   "cell_type": "code",
   "execution_count": 5,
   "id": "f410f39d-25fe-48d3-8711-ff0f002dee17",
   "metadata": {},
   "outputs": [],
   "source": [
    "d2 = {323 : 'hello'}"
   ]
  },
  {
   "cell_type": "code",
   "execution_count": 7,
   "id": "7801cdfb-87ab-4f3a-a8cf-44fbad4b3ddb",
   "metadata": {},
   "outputs": [],
   "source": [
    "d3 = {'name' : 'MAzid', 'En No': 2310013, 'class': \" MTech\"}"
   ]
  },
  {
   "cell_type": "code",
   "execution_count": 12,
   "id": "e8b74094-e86f-44f0-9321-714f37251b16",
   "metadata": {},
   "outputs": [
    {
     "ename": "SyntaxError",
     "evalue": "invalid syntax (1368935239.py, line 1)",
     "output_type": "error",
     "traceback": [
      "\u001b[0;36m  Cell \u001b[0;32mIn[12], line 1\u001b[0;36m\u001b[0m\n\u001b[0;31m    d3 [class]\u001b[0m\n\u001b[0m        ^\u001b[0m\n\u001b[0;31mSyntaxError\u001b[0m\u001b[0;31m:\u001b[0m invalid syntax\n"
     ]
    }
   ],
   "source": [
    "d3 [class]"
   ]
  },
  {
   "cell_type": "code",
   "execution_count": 19,
   "id": "baf1f565-9d40-45f4-a637-e92bb888380d",
   "metadata": {},
   "outputs": [],
   "source": [
    "d4 = {234 : \"maazdid\", '_hey' : \"Gaba\", True : 23424, \"_hey\": \"Gulam\"}"
   ]
  },
  {
   "cell_type": "code",
   "execution_count": 20,
   "id": "8313c86c-7ff8-4ad9-b3cd-092687fff83a",
   "metadata": {},
   "outputs": [
    {
     "data": {
      "text/plain": [
       "23424"
      ]
     },
     "execution_count": 20,
     "metadata": {},
     "output_type": "execute_result"
    }
   ],
   "source": [
    "d4[True]"
   ]
  },
  {
   "cell_type": "code",
   "execution_count": 21,
   "id": "79675aea-1413-438e-b8c5-435a221ffec4",
   "metadata": {},
   "outputs": [
    {
     "data": {
      "text/plain": [
       "'maazdid'"
      ]
     },
     "execution_count": 21,
     "metadata": {},
     "output_type": "execute_result"
    }
   ],
   "source": [
    "d4[234]"
   ]
  },
  {
   "cell_type": "code",
   "execution_count": 22,
   "id": "41862616-c73d-4610-9847-765a83c246c3",
   "metadata": {},
   "outputs": [
    {
     "data": {
      "text/plain": [
       "'Gulam'"
      ]
     },
     "execution_count": 22,
     "metadata": {},
     "output_type": "execute_result"
    }
   ],
   "source": [
    "d4['_hey']"
   ]
  },
  {
   "cell_type": "code",
   "execution_count": 24,
   "id": "b9a2bfbc-6dea-4617-a3f8-be1df2a9774f",
   "metadata": {},
   "outputs": [],
   "source": [
    "d5 = {234 : \"Gulam\", 'Course' :[\"Science\", \"Maths\", \"english\"]}"
   ]
  },
  {
   "cell_type": "code",
   "execution_count": 25,
   "id": "3723dd3e-c043-409e-ab8e-7634e59033fe",
   "metadata": {},
   "outputs": [],
   "source": [
    "d6 = {234 : \"Gulam\", 'Course' :[\"Science\", \"Maths\", \"english\"], 455: {\"maazod\", \"dad\"}, 9234:(\"ds\", \"dfd\")}"
   ]
  },
  {
   "cell_type": "code",
   "execution_count": 26,
   "id": "5ff4b4c9-cac1-43d0-bb3c-4161cccda73f",
   "metadata": {},
   "outputs": [
    {
     "data": {
      "text/plain": [
       "{234: 'Gulam',\n",
       " 'Course': ['Science', 'Maths', 'english'],\n",
       " 455: {'dad', 'maazod'},\n",
       " 9234: ('ds', 'dfd')}"
      ]
     },
     "execution_count": 26,
     "metadata": {},
     "output_type": "execute_result"
    }
   ],
   "source": [
    "d6"
   ]
  },
  {
   "cell_type": "code",
   "execution_count": 28,
   "id": "d24c6739-cca8-4995-a251-99d253b022ee",
   "metadata": {},
   "outputs": [
    {
     "data": {
      "text/plain": [
       "'ds'"
      ]
     },
     "execution_count": 28,
     "metadata": {},
     "output_type": "execute_result"
    }
   ],
   "source": [
    "d6[9234][0]"
   ]
  },
  {
   "cell_type": "code",
   "execution_count": 37,
   "id": "16e15a8f-0c50-4c40-a97a-2af142ca8485",
   "metadata": {},
   "outputs": [
    {
     "ename": "SyntaxError",
     "evalue": "cannot assign to literal (2580049650.py, line 1)",
     "output_type": "error",
     "traceback": [
      "\u001b[0;36m  Cell \u001b[0;32mIn[37], line 1\u001b[0;36m\u001b[0m\n\u001b[0;31m    d6 = ['friends'] = [\"saquib\", \"rashid\",\"nishant\"]\u001b[0m\n\u001b[0m          ^\u001b[0m\n\u001b[0;31mSyntaxError\u001b[0m\u001b[0;31m:\u001b[0m cannot assign to literal\n"
     ]
    }
   ],
   "source": [
    "d6 = ['friends'] = [\"saquib\", \"rashid\",\"nishant\"]"
   ]
  },
  {
   "cell_type": "code",
   "execution_count": 38,
   "id": "0bb40752-5db3-4b83-bfc7-d12d2b825063",
   "metadata": {},
   "outputs": [],
   "source": [
    "\n",
    "d6['friends'] = [\"saquib\", \"rashid\", \"nishant\"]\n"
   ]
  },
  {
   "cell_type": "code",
   "execution_count": 39,
   "id": "3c26adf2-1312-4065-856a-13e579e40740",
   "metadata": {},
   "outputs": [
    {
     "data": {
      "text/plain": [
       "{'friends': ['saquib', 'rashid', 'nishant']}"
      ]
     },
     "execution_count": 39,
     "metadata": {},
     "output_type": "execute_result"
    }
   ],
   "source": [
    "d6"
   ]
  },
  {
   "cell_type": "code",
   "execution_count": 40,
   "id": "558910eb-1673-4abe-9de4-89ab5681f186",
   "metadata": {},
   "outputs": [],
   "source": [
    "d6 = {234 : \"Gulam\", 'Course' :[\"Science\", \"Maths\", \"english\"], 455: {\"maazod\", \"dad\"}, 9234:(\"ds\", \"dfd\"), 'friends': ['saquib', 'rashid', 'nishant']}"
   ]
  },
  {
   "cell_type": "code",
   "execution_count": 43,
   "id": "d7b33452-557a-4f3e-ba2f-afbb72f08554",
   "metadata": {},
   "outputs": [],
   "source": [
    "del d6 [9234]"
   ]
  },
  {
   "cell_type": "code",
   "execution_count": 44,
   "id": "d01f4469-74c2-4da5-8366-670f7e4183ad",
   "metadata": {},
   "outputs": [
    {
     "data": {
      "text/plain": [
       "{234: 'Gulam',\n",
       " 'Course': ['Science', 'Maths', 'english'],\n",
       " 455: {'dad', 'maazod'},\n",
       " 'friends': ['saquib', 'rashid', 'nishant']}"
      ]
     },
     "execution_count": 44,
     "metadata": {},
     "output_type": "execute_result"
    }
   ],
   "source": [
    "d6"
   ]
  },
  {
   "cell_type": "code",
   "execution_count": 48,
   "id": "ab2ea8b8-bab1-4bef-8c62-acb5918fd304",
   "metadata": {},
   "outputs": [
    {
     "data": {
      "text/plain": [
       "[(234, 'Gulam'),\n",
       " ('Course', ['Science', 'Maths', 'english']),\n",
       " (455, {'dad', 'maazod'}),\n",
       " ('friends', ['saquib', 'rashid', 'nishant'])]"
      ]
     },
     "execution_count": 48,
     "metadata": {},
     "output_type": "execute_result"
    }
   ],
   "source": [
    "list(d6.items())"
   ]
  },
  {
   "cell_type": "code",
   "execution_count": 49,
   "id": "caee714e-8cff-4201-bebe-f831df7ae5a1",
   "metadata": {},
   "outputs": [
    {
     "data": {
      "text/plain": [
       "[234, 'Course', 455, 'friends']"
      ]
     },
     "execution_count": 49,
     "metadata": {},
     "output_type": "execute_result"
    }
   ],
   "source": [
    "list(d6.keys())"
   ]
  },
  {
   "cell_type": "code",
   "execution_count": 50,
   "id": "6ceb0a1e-ea90-4e9e-a100-aa83b78be142",
   "metadata": {},
   "outputs": [
    {
     "data": {
      "text/plain": [
       "{234: 'Gulam',\n",
       " 'Course': ['Science', 'Maths', 'english'],\n",
       " 455: {'dad', 'maazod'},\n",
       " 'friends': ['saquib', 'rashid', 'nishant']}"
      ]
     },
     "execution_count": 50,
     "metadata": {},
     "output_type": "execute_result"
    }
   ],
   "source": [
    "d6"
   ]
  },
  {
   "cell_type": "code",
   "execution_count": 52,
   "id": "7efae4b7-698e-427f-84fb-a2451633ce62",
   "metadata": {},
   "outputs": [
    {
     "data": {
      "text/plain": [
       "['Science', 'Maths', 'english']"
      ]
     },
     "execution_count": 52,
     "metadata": {},
     "output_type": "execute_result"
    }
   ],
   "source": [
    "d6.pop('Course')"
   ]
  },
  {
   "cell_type": "code",
   "execution_count": 53,
   "id": "416c498a-8f9d-4d6f-aad8-9dc8886eb47c",
   "metadata": {},
   "outputs": [
    {
     "data": {
      "text/plain": [
       "{234: 'Gulam',\n",
       " 455: {'dad', 'maazod'},\n",
       " 'friends': ['saquib', 'rashid', 'nishant']}"
      ]
     },
     "execution_count": 53,
     "metadata": {},
     "output_type": "execute_result"
    }
   ],
   "source": [
    "d6"
   ]
  },
  {
   "cell_type": "code",
   "execution_count": 69,
   "id": "fc6427f3-008c-42b4-8425-e8f07369ab89",
   "metadata": {},
   "outputs": [
    {
     "name": "stdout",
     "output_type": "stream",
     "text": [
      "You will be part of 1st batch\n"
     ]
    }
   ],
   "source": [
    "marks = 87\n",
    "if marks >= 80:\n",
    "    print(\"You will be part of 1st batch\")\n",
    "elif marks >= 60 and marks < 80:\n",
    "    print(\"You will be part of 2nd Batch\")\n",
    "elif marks > 40 and marks < 60:\n",
    "    print(\"You will be part of 3rd batch\")\n",
    "else:\n",
    "    print(\"You will be part of new batch\")\n"
   ]
  },
  {
   "cell_type": "code",
   "execution_count": 75,
   "id": "b825dee0-6015-4d13-9d83-f6040788e5d8",
   "metadata": {},
   "outputs": [
    {
     "name": "stdin",
     "output_type": "stream",
     "text": [
      "Enter Your marks:  89\n"
     ]
    },
    {
     "name": "stdout",
     "output_type": "stream",
     "text": [
      "You will be part of 1st batch\n"
     ]
    }
   ],
   "source": [
    "marks = int(input(\"Enter Your marks: \"))\n",
    "if marks >= 80:\n",
    "    print(\"You will be part of 1st batch\")\n",
    "elif marks >= 60 and marks < 80:\n",
    "    print(\"You will be part of 2nd Batch\")\n",
    "elif marks > 40 and marks < 60:\n",
    "    print(\"You will be part of 3rd batch\")\n",
    "else:\n",
    "    print(\"You will be part of new batch\")\n"
   ]
  },
  {
   "cell_type": "code",
   "execution_count": 4,
   "id": "c52ba582-e4a8-44b1-a0ef-68780e30a2ae",
   "metadata": {},
   "outputs": [
    {
     "name": "stdin",
     "output_type": "stream",
     "text": [
      "Enter the Price 53\n"
     ]
    },
    {
     "name": "stdout",
     "output_type": "stream",
     "text": [
      " I will purchase\n"
     ]
    }
   ],
   "source": [
    "price = int(input(\"Enter the Price\"))\n",
    "\n",
    "if price > 1000:\n",
    "    print(\"I will not Purchase\")\n",
    "else:\n",
    "    print(\" I will purchase\")"
   ]
  },
  {
   "cell_type": "code",
   "execution_count": 5,
   "id": "01e803fd-dcec-4c3a-ac0c-09061cea9035",
   "metadata": {},
   "outputs": [],
   "source": [
    "l =[1,2,3,4,5,6,7,8,9]"
   ]
  },
  {
   "cell_type": "code",
   "execution_count": 6,
   "id": "d8223707-4038-4efb-8a6e-6fa29ae09bb5",
   "metadata": {},
   "outputs": [
    {
     "data": {
      "text/plain": [
       "2"
      ]
     },
     "execution_count": 6,
     "metadata": {},
     "output_type": "execute_result"
    }
   ],
   "source": [
    "l[0] +1"
   ]
  },
  {
   "cell_type": "code",
   "execution_count": 9,
   "id": "523f60e5-effd-447a-b586-42125881c029",
   "metadata": {},
   "outputs": [],
   "source": [
    "l1=[]"
   ]
  },
  {
   "cell_type": "code",
   "execution_count": 10,
   "id": "8b9d1b51-e746-4695-afee-0001d0ca195b",
   "metadata": {},
   "outputs": [],
   "source": [
    "l1.append(l[0] +1)"
   ]
  },
  {
   "cell_type": "code",
   "execution_count": 11,
   "id": "18b4d55a-49b0-4c86-8811-68beebd45081",
   "metadata": {},
   "outputs": [
    {
     "data": {
      "text/plain": [
       "[2]"
      ]
     },
     "execution_count": 11,
     "metadata": {},
     "output_type": "execute_result"
    }
   ],
   "source": [
    "l1"
   ]
  },
  {
   "cell_type": "code",
   "execution_count": 13,
   "id": "caf13a60-f182-4b4d-a116-c9ff3f1ff2f5",
   "metadata": {},
   "outputs": [
    {
     "data": {
      "text/plain": [
       "[1, 2, 3, 4, 5, 6, 7, 8, 9]"
      ]
     },
     "execution_count": 13,
     "metadata": {},
     "output_type": "execute_result"
    }
   ],
   "source": [
    "l\n"
   ]
  },
  {
   "cell_type": "code",
   "execution_count": 26,
   "id": "9be62271-ba68-4ba7-a1b8-aaa87974d893",
   "metadata": {},
   "outputs": [
    {
     "name": "stdout",
     "output_type": "stream",
     "text": [
      "2\n",
      "3\n",
      "4\n",
      "5\n",
      "6\n",
      "7\n",
      "8\n",
      "9\n",
      "10\n"
     ]
    },
    {
     "data": {
      "text/plain": [
       "[2, 3, 4, 5, 6, 7, 8, 9, 10]"
      ]
     },
     "execution_count": 26,
     "metadata": {},
     "output_type": "execute_result"
    }
   ],
   "source": [
    "l2=[]\n",
    "for i in l:\n",
    "    print(i+1)\n",
    "    l2.append(i +1)\n",
    "l2\n",
    "    "
   ]
  },
  {
   "cell_type": "code",
   "execution_count": 35,
   "id": "05876308-e3a9-45db-a42a-a2b96581ca92",
   "metadata": {},
   "outputs": [],
   "source": [
    "l = [\"mazid\", \"hello\",\"ssds\", \"dsad\"]"
   ]
  },
  {
   "cell_type": "code",
   "execution_count": 37,
   "id": "797790a6-8936-4c8b-980a-969be1c6ba65",
   "metadata": {},
   "outputs": [
    {
     "name": "stdout",
     "output_type": "stream",
     "text": [
      "mazid\n",
      "hello\n",
      "ssds\n",
      "dsad\n"
     ]
    },
    {
     "data": {
      "text/plain": [
       "['MAZID', 'HELLO', 'SSDS', 'DSAD']"
      ]
     },
     "execution_count": 37,
     "metadata": {},
     "output_type": "execute_result"
    }
   ],
   "source": [
    "l1 = []\n",
    "for i in l:\n",
    "    print(i)\n",
    "    l1.append(i.upper())\n",
    "l1"
   ]
  },
  {
   "cell_type": "code",
   "execution_count": 38,
   "id": "0c527e1e-a3ba-4ebd-9185-46fa33e4fad0",
   "metadata": {},
   "outputs": [
    {
     "name": "stdout",
     "output_type": "stream",
     "text": [
      "apple\n",
      "banana\n",
      "cherry\n"
     ]
    },
    {
     "data": {
      "text/plain": [
       "['APPLE', 'BANANA', 'CHERRY']"
      ]
     },
     "execution_count": 38,
     "metadata": {},
     "output_type": "execute_result"
    }
   ],
   "source": [
    "l = [\"apple\", \"banana\", \"cherry\"]  # Example list of strings\n",
    "l1 = []\n",
    "for i in l:\n",
    "    print(i)\n",
    "    l1.append(i.upper())\n",
    "l1\n"
   ]
  },
  {
   "cell_type": "code",
   "execution_count": 39,
   "id": "5e6e4977-6e4a-4208-b6b1-36748959e908",
   "metadata": {},
   "outputs": [],
   "source": [
    "l = [33,4,4445,45.45,66,\"mazid\", \"hello\",5454,5.544,\"ssds\", \"dsad\"]"
   ]
  },
  {
   "cell_type": "code",
   "execution_count": 45,
   "id": "a17995e8-ad6a-4873-b777-cd6a6128a3e9",
   "metadata": {},
   "outputs": [
    {
     "data": {
      "text/plain": [
       "['mazid', 'hello', 'ssds', 'dsad']"
      ]
     },
     "execution_count": 45,
     "metadata": {},
     "output_type": "execute_result"
    }
   ],
   "source": [
    "l_num = []\n",
    "l_str = []\n",
    "for i in l:\n",
    "    if type(i) == int or type(i) == float:\n",
    "        l_num.append(i)\n",
    "    else:\n",
    "        l_str.append(i)\n",
    "\n",
    "l_str"
   ]
  },
  {
   "cell_type": "code",
   "execution_count": 46,
   "id": "33e6618f-7dc7-462b-8ef7-d919fb199f20",
   "metadata": {},
   "outputs": [
    {
     "data": {
      "text/plain": [
       "['mazid', 'hello', 'ssds', 'dsad']"
      ]
     },
     "execution_count": 46,
     "metadata": {},
     "output_type": "execute_result"
    }
   ],
   "source": [
    "l_str"
   ]
  },
  {
   "cell_type": "code",
   "execution_count": 47,
   "id": "f7005835-ae40-4270-9f56-9c8f4ea8767e",
   "metadata": {},
   "outputs": [
    {
     "data": {
      "text/plain": [
       "[33, 4, 4445, 45.45, 66, 5454, 5.544]"
      ]
     },
     "execution_count": 47,
     "metadata": {},
     "output_type": "execute_result"
    }
   ],
   "source": [
    "l_num"
   ]
  },
  {
   "cell_type": "code",
   "execution_count": null,
   "id": "e5dd4be5-fd9f-48a9-ac7b-10b82dca14ec",
   "metadata": {},
   "outputs": [],
   "source": []
  }
 ],
 "metadata": {
  "kernelspec": {
   "display_name": "Python 3 (ipykernel)",
   "language": "python",
   "name": "python3"
  },
  "language_info": {
   "codemirror_mode": {
    "name": "ipython",
    "version": 3
   },
   "file_extension": ".py",
   "mimetype": "text/x-python",
   "name": "python",
   "nbconvert_exporter": "python",
   "pygments_lexer": "ipython3",
   "version": "3.10.8"
  }
 },
 "nbformat": 4,
 "nbformat_minor": 5
}
